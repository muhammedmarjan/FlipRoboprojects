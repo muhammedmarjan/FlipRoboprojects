{
 "cells": [
  {
   "cell_type": "markdown",
   "metadata": {},
   "source": [
    "# Q1: Write a python program to scrape data for “Data Analyst” Job position in “Bangalore” location. You have to scrape the job-title, job-location, company_name, experience_required. You have to scrape first 10 jobs data. "
   ]
  },
  {
   "cell_type": "code",
   "execution_count": 1,
   "metadata": {},
   "outputs": [],
   "source": [
    "import selenium\n",
    "import pandas as pd\n",
    "from selenium import webdriver"
   ]
  },
  {
   "cell_type": "code",
   "execution_count": 18,
   "metadata": {},
   "outputs": [],
   "source": [
    "driver=webdriver.Chrome(r'C:\\Users\\MARJAN\\Desktop\\chromedriver.exe')"
   ]
  },
  {
   "cell_type": "code",
   "execution_count": 19,
   "metadata": {},
   "outputs": [],
   "source": [
    "url=\"https://www.naukri.com/data-analyst-jobs-in-bangalore?k=data%20analyst&l=bangalore\""
   ]
  },
  {
   "cell_type": "code",
   "execution_count": 20,
   "metadata": {},
   "outputs": [],
   "source": [
    "driver.get(url)"
   ]
  },
  {
   "cell_type": "code",
   "execution_count": 21,
   "metadata": {},
   "outputs": [],
   "source": [
    "job=[]\n",
    "company=[]\n",
    "location=[]\n",
    "experience=[]"
   ]
  },
  {
   "cell_type": "code",
   "execution_count": 22,
   "metadata": {},
   "outputs": [
    {
     "data": {
      "text/plain": [
       "[<selenium.webdriver.remote.webelement.WebElement (session=\"25f985d1b5c040e806f8c77b9caeea93\", element=\"dac1cfe4-5d64-4f2f-b648-1bc46f7a5a37\")>,\n",
       " <selenium.webdriver.remote.webelement.WebElement (session=\"25f985d1b5c040e806f8c77b9caeea93\", element=\"9dd6cb1b-710e-45e0-a2fb-0ee92352169a\")>,\n",
       " <selenium.webdriver.remote.webelement.WebElement (session=\"25f985d1b5c040e806f8c77b9caeea93\", element=\"f225f967-d3df-4275-9040-595e2b34f114\")>,\n",
       " <selenium.webdriver.remote.webelement.WebElement (session=\"25f985d1b5c040e806f8c77b9caeea93\", element=\"7d4ffdc7-edec-4793-b4d9-144b4d87b975\")>,\n",
       " <selenium.webdriver.remote.webelement.WebElement (session=\"25f985d1b5c040e806f8c77b9caeea93\", element=\"69bb7474-1cb5-417f-89ce-831e8c0b637a\")>,\n",
       " <selenium.webdriver.remote.webelement.WebElement (session=\"25f985d1b5c040e806f8c77b9caeea93\", element=\"7edaaaa2-318c-4a35-b3d6-a5c6f9fa2762\")>,\n",
       " <selenium.webdriver.remote.webelement.WebElement (session=\"25f985d1b5c040e806f8c77b9caeea93\", element=\"629bb6da-da54-42b0-bba0-3a33a9e78fda\")>,\n",
       " <selenium.webdriver.remote.webelement.WebElement (session=\"25f985d1b5c040e806f8c77b9caeea93\", element=\"2e970eca-af0b-4410-837d-b50b7d4fc27c\")>,\n",
       " <selenium.webdriver.remote.webelement.WebElement (session=\"25f985d1b5c040e806f8c77b9caeea93\", element=\"fdc5e79e-a0f0-4659-8b2a-f30b83b64ac7\")>,\n",
       " <selenium.webdriver.remote.webelement.WebElement (session=\"25f985d1b5c040e806f8c77b9caeea93\", element=\"2671211f-2fdb-42d0-8f1d-3811f82db1e4\")>]"
      ]
     },
     "execution_count": 22,
     "metadata": {},
     "output_type": "execute_result"
    }
   ],
   "source": [
    "title=driver.find_elements_by_xpath(\"//a[@class='title fw500 ellipsis']\")\n",
    "title[0:10]"
   ]
  },
  {
   "cell_type": "code",
   "execution_count": 23,
   "metadata": {},
   "outputs": [
    {
     "data": {
      "text/plain": [
       "['Business Analyst/ Data Analyst/ MIS Executive (On Contract)',\n",
       " 'Data Scientist/Data Analyst-immediate',\n",
       " 'Data Analyst',\n",
       " 'Data Analyst',\n",
       " 'ID&A - Data Analyst - Informatica MDM',\n",
       " 'Data Analyst',\n",
       " 'Data Analyst',\n",
       " 'Data Analyst',\n",
       " 'Business Data Analyst - Database Design/Mining',\n",
       " 'Data Analyst - MySQL/PostgreSQL']"
      ]
     },
     "execution_count": 23,
     "metadata": {},
     "output_type": "execute_result"
    }
   ],
   "source": [
    "for i in title:\n",
    "    t=i.text\n",
    "    job.append(t)\n",
    "    \n",
    "job[0:10]    "
   ]
  },
  {
   "cell_type": "code",
   "execution_count": 24,
   "metadata": {},
   "outputs": [
    {
     "data": {
      "text/plain": [
       "[<selenium.webdriver.remote.webelement.WebElement (session=\"25f985d1b5c040e806f8c77b9caeea93\", element=\"378f7668-1400-49ff-a3cb-9a264462c394\")>,\n",
       " <selenium.webdriver.remote.webelement.WebElement (session=\"25f985d1b5c040e806f8c77b9caeea93\", element=\"97424304-514c-4316-864b-d372f2b49278\")>,\n",
       " <selenium.webdriver.remote.webelement.WebElement (session=\"25f985d1b5c040e806f8c77b9caeea93\", element=\"a74affa3-0bc6-46de-90da-0def7d326bfa\")>,\n",
       " <selenium.webdriver.remote.webelement.WebElement (session=\"25f985d1b5c040e806f8c77b9caeea93\", element=\"df7c5bc5-5071-465b-a685-99388b957ab5\")>,\n",
       " <selenium.webdriver.remote.webelement.WebElement (session=\"25f985d1b5c040e806f8c77b9caeea93\", element=\"ee278eae-25c7-4c55-8567-521e680f234a\")>,\n",
       " <selenium.webdriver.remote.webelement.WebElement (session=\"25f985d1b5c040e806f8c77b9caeea93\", element=\"812a6d83-c1e9-4d6c-b736-9ba722fe8f8e\")>,\n",
       " <selenium.webdriver.remote.webelement.WebElement (session=\"25f985d1b5c040e806f8c77b9caeea93\", element=\"ec11d847-4be3-4118-a006-d6da2ec9681f\")>,\n",
       " <selenium.webdriver.remote.webelement.WebElement (session=\"25f985d1b5c040e806f8c77b9caeea93\", element=\"afe6cc76-42fd-42bd-96c3-2f20958be2df\")>,\n",
       " <selenium.webdriver.remote.webelement.WebElement (session=\"25f985d1b5c040e806f8c77b9caeea93\", element=\"57e8e0b9-3a08-4efa-8b8c-e54f9eacef23\")>,\n",
       " <selenium.webdriver.remote.webelement.WebElement (session=\"25f985d1b5c040e806f8c77b9caeea93\", element=\"c148638e-33b1-46d3-83c6-958261c7ff1f\")>]"
      ]
     },
     "execution_count": 24,
     "metadata": {},
     "output_type": "execute_result"
    }
   ],
   "source": [
    "companies_tags=driver.find_elements_by_xpath(\"//a[@class='subTitle ellipsis fleft']\")\n",
    "companies_tags[0:10]"
   ]
  },
  {
   "cell_type": "code",
   "execution_count": 25,
   "metadata": {},
   "outputs": [
    {
     "data": {
      "text/plain": [
       "['Schneider Electric',\n",
       " 'CAIA-Center For Artificial Intelligence & Advanced Analytics',\n",
       " 'Applied Materials',\n",
       " 'Cognizant Technology Solutions India Pvt Ltd',\n",
       " 'Shell India Markets Private Limited',\n",
       " 'GlaxoSmithKline Pharmaceuticals Limited',\n",
       " 'Cognizant Technology Solutions India Pvt Ltd',\n",
       " 'Shell India Markets Private Limited',\n",
       " 'AugmatrixGo',\n",
       " 'Astegic']"
      ]
     },
     "execution_count": 25,
     "metadata": {},
     "output_type": "execute_result"
    }
   ],
   "source": [
    "for i in companies_tags:\n",
    "    company_name=i.text\n",
    "    company.append(company_name)\n",
    "\n",
    "company[0:10]"
   ]
  },
  {
   "cell_type": "code",
   "execution_count": 26,
   "metadata": {},
   "outputs": [
    {
     "data": {
      "text/plain": [
       "[<selenium.webdriver.remote.webelement.WebElement (session=\"25f985d1b5c040e806f8c77b9caeea93\", element=\"e0b4904d-b3d8-43a5-a5ea-a6a19daa3d71\")>,\n",
       " <selenium.webdriver.remote.webelement.WebElement (session=\"25f985d1b5c040e806f8c77b9caeea93\", element=\"d087c9da-ff16-4e55-ac44-bf85c39c18c0\")>,\n",
       " <selenium.webdriver.remote.webelement.WebElement (session=\"25f985d1b5c040e806f8c77b9caeea93\", element=\"2b1c26f5-59a9-4b85-b908-6fb1b417e8e5\")>,\n",
       " <selenium.webdriver.remote.webelement.WebElement (session=\"25f985d1b5c040e806f8c77b9caeea93\", element=\"2743ff28-a047-40e6-a7d4-7ca0ddba3e60\")>,\n",
       " <selenium.webdriver.remote.webelement.WebElement (session=\"25f985d1b5c040e806f8c77b9caeea93\", element=\"c86da9c0-5ddc-443e-921c-e4dccbbb2f3c\")>,\n",
       " <selenium.webdriver.remote.webelement.WebElement (session=\"25f985d1b5c040e806f8c77b9caeea93\", element=\"991f3835-6b03-4d25-9631-b39c12f0d769\")>,\n",
       " <selenium.webdriver.remote.webelement.WebElement (session=\"25f985d1b5c040e806f8c77b9caeea93\", element=\"62e6055a-5224-49af-8fc5-ba392466f221\")>,\n",
       " <selenium.webdriver.remote.webelement.WebElement (session=\"25f985d1b5c040e806f8c77b9caeea93\", element=\"56367ace-34ae-4c8d-8380-e81bc8c51e3f\")>,\n",
       " <selenium.webdriver.remote.webelement.WebElement (session=\"25f985d1b5c040e806f8c77b9caeea93\", element=\"68ab46f1-ee77-4a01-9701-2df07be34257\")>,\n",
       " <selenium.webdriver.remote.webelement.WebElement (session=\"25f985d1b5c040e806f8c77b9caeea93\", element=\"be20a372-2961-48fa-a0e2-a6ca8de1c0d3\")>]"
      ]
     },
     "execution_count": 26,
     "metadata": {},
     "output_type": "execute_result"
    }
   ],
   "source": [
    "e=driver.find_elements_by_xpath(\"//li[@class='fleft grey-text br2 placeHolderLi experience']/span[1]\")\n",
    "e[0:10]"
   ]
  },
  {
   "cell_type": "code",
   "execution_count": 27,
   "metadata": {},
   "outputs": [
    {
     "data": {
      "text/plain": [
       "['2-5 Yrs',\n",
       " '0-3 Yrs',\n",
       " '6-11 Yrs',\n",
       " '2-3 Yrs',\n",
       " '6-9 Yrs',\n",
       " '2-7 Yrs',\n",
       " '3-4 Yrs',\n",
       " '5-8 Yrs',\n",
       " '2-5 Yrs',\n",
       " '5-10 Yrs']"
      ]
     },
     "execution_count": 27,
     "metadata": {},
     "output_type": "execute_result"
    }
   ],
   "source": [
    "for i in e:\n",
    "    ex=i.text\n",
    "    experience.append(ex)\n",
    "\n",
    "experience[0:10]"
   ]
  },
  {
   "cell_type": "code",
   "execution_count": 28,
   "metadata": {},
   "outputs": [
    {
     "data": {
      "text/plain": [
       "[<selenium.webdriver.remote.webelement.WebElement (session=\"25f985d1b5c040e806f8c77b9caeea93\", element=\"a64ce6d5-e9fb-4761-8423-4b5c0a57c51a\")>,\n",
       " <selenium.webdriver.remote.webelement.WebElement (session=\"25f985d1b5c040e806f8c77b9caeea93\", element=\"a389cd2c-5611-4aaa-83bb-0c9432e459d5\")>,\n",
       " <selenium.webdriver.remote.webelement.WebElement (session=\"25f985d1b5c040e806f8c77b9caeea93\", element=\"70c05b6f-c936-4e8b-a125-fd8d9ca780af\")>,\n",
       " <selenium.webdriver.remote.webelement.WebElement (session=\"25f985d1b5c040e806f8c77b9caeea93\", element=\"4c7eb9c8-897a-49cf-bd58-d37250c7a741\")>,\n",
       " <selenium.webdriver.remote.webelement.WebElement (session=\"25f985d1b5c040e806f8c77b9caeea93\", element=\"124aa586-da9b-411d-8c8d-9e79cf0fc285\")>,\n",
       " <selenium.webdriver.remote.webelement.WebElement (session=\"25f985d1b5c040e806f8c77b9caeea93\", element=\"2ca9d900-afbb-4e1a-bc26-02dd52662b0c\")>,\n",
       " <selenium.webdriver.remote.webelement.WebElement (session=\"25f985d1b5c040e806f8c77b9caeea93\", element=\"f766b5ed-614a-4e33-b2af-18be39101a4b\")>,\n",
       " <selenium.webdriver.remote.webelement.WebElement (session=\"25f985d1b5c040e806f8c77b9caeea93\", element=\"be00b95a-b875-4a97-a14b-e51111901e6a\")>,\n",
       " <selenium.webdriver.remote.webelement.WebElement (session=\"25f985d1b5c040e806f8c77b9caeea93\", element=\"29ed86e1-d1bf-47f9-a381-73f41f9c3beb\")>,\n",
       " <selenium.webdriver.remote.webelement.WebElement (session=\"25f985d1b5c040e806f8c77b9caeea93\", element=\"35d135e9-a5fa-41e7-89d1-0b234b037843\")>]"
      ]
     },
     "execution_count": 28,
     "metadata": {},
     "output_type": "execute_result"
    }
   ],
   "source": [
    "l=driver.find_elements_by_xpath(\"//li[@class='fleft grey-text br2 placeHolderLi location']/span[1]\")\n",
    "l[0:10]"
   ]
  },
  {
   "cell_type": "code",
   "execution_count": 29,
   "metadata": {},
   "outputs": [
    {
     "data": {
      "text/plain": [
       "['Bengaluru / Bangalore',\n",
       " 'Chennai, Pune, Bengaluru, Hyderabad',\n",
       " 'Bengaluru',\n",
       " 'Mumbai, Bengaluru, Hyderabad',\n",
       " 'Bengaluru',\n",
       " 'Bengaluru',\n",
       " 'Bengaluru, Kolkata',\n",
       " 'Bengaluru',\n",
       " 'Bengaluru',\n",
       " 'Pune, Mumbai, Bengaluru, Hyderabad, Noida, Jaipur']"
      ]
     },
     "execution_count": 29,
     "metadata": {},
     "output_type": "execute_result"
    }
   ],
   "source": [
    "for i in l:\n",
    "    ex=i.text\n",
    "    location.append(ex)\n",
    "\n",
    "location[0:10]"
   ]
  },
  {
   "cell_type": "code",
   "execution_count": 30,
   "metadata": {},
   "outputs": [],
   "source": [
    "df=pd.DataFrame({\"job\":job[0:10],\n",
    "                \"location\":location[0:10],\n",
    "                \"company\":company[0:10],\n",
    "                \"experience\":experience[0:10]})"
   ]
  },
  {
   "cell_type": "code",
   "execution_count": 31,
   "metadata": {},
   "outputs": [
    {
     "data": {
      "text/html": [
       "<div>\n",
       "<style scoped>\n",
       "    .dataframe tbody tr th:only-of-type {\n",
       "        vertical-align: middle;\n",
       "    }\n",
       "\n",
       "    .dataframe tbody tr th {\n",
       "        vertical-align: top;\n",
       "    }\n",
       "\n",
       "    .dataframe thead th {\n",
       "        text-align: right;\n",
       "    }\n",
       "</style>\n",
       "<table border=\"1\" class=\"dataframe\">\n",
       "  <thead>\n",
       "    <tr style=\"text-align: right;\">\n",
       "      <th></th>\n",
       "      <th>job</th>\n",
       "      <th>location</th>\n",
       "      <th>company</th>\n",
       "      <th>experience</th>\n",
       "    </tr>\n",
       "  </thead>\n",
       "  <tbody>\n",
       "    <tr>\n",
       "      <th>0</th>\n",
       "      <td>Business Analyst/ Data Analyst/ MIS Executive ...</td>\n",
       "      <td>Bengaluru / Bangalore</td>\n",
       "      <td>Schneider Electric</td>\n",
       "      <td>2-5 Yrs</td>\n",
       "    </tr>\n",
       "    <tr>\n",
       "      <th>1</th>\n",
       "      <td>Data Scientist/Data Analyst-immediate</td>\n",
       "      <td>Chennai, Pune, Bengaluru, Hyderabad</td>\n",
       "      <td>CAIA-Center For Artificial Intelligence &amp; Adva...</td>\n",
       "      <td>0-3 Yrs</td>\n",
       "    </tr>\n",
       "    <tr>\n",
       "      <th>2</th>\n",
       "      <td>Data Analyst</td>\n",
       "      <td>Bengaluru</td>\n",
       "      <td>Applied Materials</td>\n",
       "      <td>6-11 Yrs</td>\n",
       "    </tr>\n",
       "    <tr>\n",
       "      <th>3</th>\n",
       "      <td>Data Analyst</td>\n",
       "      <td>Mumbai, Bengaluru, Hyderabad</td>\n",
       "      <td>Cognizant Technology Solutions India Pvt Ltd</td>\n",
       "      <td>2-3 Yrs</td>\n",
       "    </tr>\n",
       "    <tr>\n",
       "      <th>4</th>\n",
       "      <td>ID&amp;A - Data Analyst - Informatica MDM</td>\n",
       "      <td>Bengaluru</td>\n",
       "      <td>Shell India Markets Private Limited</td>\n",
       "      <td>6-9 Yrs</td>\n",
       "    </tr>\n",
       "    <tr>\n",
       "      <th>5</th>\n",
       "      <td>Data Analyst</td>\n",
       "      <td>Bengaluru</td>\n",
       "      <td>GlaxoSmithKline Pharmaceuticals Limited</td>\n",
       "      <td>2-7 Yrs</td>\n",
       "    </tr>\n",
       "    <tr>\n",
       "      <th>6</th>\n",
       "      <td>Data Analyst</td>\n",
       "      <td>Bengaluru, Kolkata</td>\n",
       "      <td>Cognizant Technology Solutions India Pvt Ltd</td>\n",
       "      <td>3-4 Yrs</td>\n",
       "    </tr>\n",
       "    <tr>\n",
       "      <th>7</th>\n",
       "      <td>Data Analyst</td>\n",
       "      <td>Bengaluru</td>\n",
       "      <td>Shell India Markets Private Limited</td>\n",
       "      <td>5-8 Yrs</td>\n",
       "    </tr>\n",
       "    <tr>\n",
       "      <th>8</th>\n",
       "      <td>Business Data Analyst - Database Design/Mining</td>\n",
       "      <td>Bengaluru</td>\n",
       "      <td>AugmatrixGo</td>\n",
       "      <td>2-5 Yrs</td>\n",
       "    </tr>\n",
       "    <tr>\n",
       "      <th>9</th>\n",
       "      <td>Data Analyst - MySQL/PostgreSQL</td>\n",
       "      <td>Pune, Mumbai, Bengaluru, Hyderabad, Noida, Jaipur</td>\n",
       "      <td>Astegic</td>\n",
       "      <td>5-10 Yrs</td>\n",
       "    </tr>\n",
       "  </tbody>\n",
       "</table>\n",
       "</div>"
      ],
      "text/plain": [
       "                                                 job  \\\n",
       "0  Business Analyst/ Data Analyst/ MIS Executive ...   \n",
       "1              Data Scientist/Data Analyst-immediate   \n",
       "2                                       Data Analyst   \n",
       "3                                       Data Analyst   \n",
       "4              ID&A - Data Analyst - Informatica MDM   \n",
       "5                                       Data Analyst   \n",
       "6                                       Data Analyst   \n",
       "7                                       Data Analyst   \n",
       "8     Business Data Analyst - Database Design/Mining   \n",
       "9                    Data Analyst - MySQL/PostgreSQL   \n",
       "\n",
       "                                            location  \\\n",
       "0                              Bengaluru / Bangalore   \n",
       "1                Chennai, Pune, Bengaluru, Hyderabad   \n",
       "2                                          Bengaluru   \n",
       "3                       Mumbai, Bengaluru, Hyderabad   \n",
       "4                                          Bengaluru   \n",
       "5                                          Bengaluru   \n",
       "6                                 Bengaluru, Kolkata   \n",
       "7                                          Bengaluru   \n",
       "8                                          Bengaluru   \n",
       "9  Pune, Mumbai, Bengaluru, Hyderabad, Noida, Jaipur   \n",
       "\n",
       "                                             company experience  \n",
       "0                                 Schneider Electric    2-5 Yrs  \n",
       "1  CAIA-Center For Artificial Intelligence & Adva...    0-3 Yrs  \n",
       "2                                  Applied Materials   6-11 Yrs  \n",
       "3       Cognizant Technology Solutions India Pvt Ltd    2-3 Yrs  \n",
       "4                Shell India Markets Private Limited    6-9 Yrs  \n",
       "5            GlaxoSmithKline Pharmaceuticals Limited    2-7 Yrs  \n",
       "6       Cognizant Technology Solutions India Pvt Ltd    3-4 Yrs  \n",
       "7                Shell India Markets Private Limited    5-8 Yrs  \n",
       "8                                        AugmatrixGo    2-5 Yrs  \n",
       "9                                            Astegic   5-10 Yrs  "
      ]
     },
     "execution_count": 31,
     "metadata": {},
     "output_type": "execute_result"
    }
   ],
   "source": [
    "df"
   ]
  },
  {
   "cell_type": "code",
   "execution_count": 32,
   "metadata": {},
   "outputs": [],
   "source": [
    "driver.close()"
   ]
  },
  {
   "cell_type": "markdown",
   "metadata": {},
   "source": [
    "# Q2: Write a python program to scrape data for “Data Scientist” Job position in “Bangalore” location. You have to scrape the job-title, job-location, company_name, full job-description. You have to scrape first 10 jobs data."
   ]
  },
  {
   "cell_type": "code",
   "execution_count": 51,
   "metadata": {},
   "outputs": [],
   "source": [
    "driver=webdriver.Chrome(r'C:\\Users\\MARJAN\\Desktop\\chromedriver.exe')"
   ]
  },
  {
   "cell_type": "code",
   "execution_count": 52,
   "metadata": {},
   "outputs": [],
   "source": [
    "url=\"https://www.naukri.com/data-scientist-jobs-in-bangalore?k=data%20scientist&l=bangalore\""
   ]
  },
  {
   "cell_type": "code",
   "execution_count": 53,
   "metadata": {},
   "outputs": [],
   "source": [
    "driver.get(url)"
   ]
  },
  {
   "cell_type": "code",
   "execution_count": 54,
   "metadata": {},
   "outputs": [],
   "source": [
    "job=[]\n",
    "company=[]\n",
    "location=[]\n",
    "description=[]"
   ]
  },
  {
   "cell_type": "code",
   "execution_count": 55,
   "metadata": {},
   "outputs": [
    {
     "data": {
      "text/plain": [
       "[<selenium.webdriver.remote.webelement.WebElement (session=\"7192b19c4b89b4b1685f8d91a491741a\", element=\"5c25fa87-bac7-4926-9c73-96c48e9f5faa\")>,\n",
       " <selenium.webdriver.remote.webelement.WebElement (session=\"7192b19c4b89b4b1685f8d91a491741a\", element=\"1c6eb0de-6fda-4d57-9b5f-4d4358882c22\")>,\n",
       " <selenium.webdriver.remote.webelement.WebElement (session=\"7192b19c4b89b4b1685f8d91a491741a\", element=\"51458461-aeae-4d22-9e46-3809f63973b3\")>,\n",
       " <selenium.webdriver.remote.webelement.WebElement (session=\"7192b19c4b89b4b1685f8d91a491741a\", element=\"e95e6681-57c1-4cce-9f72-39ad912dac37\")>,\n",
       " <selenium.webdriver.remote.webelement.WebElement (session=\"7192b19c4b89b4b1685f8d91a491741a\", element=\"cd931f93-10fc-454d-af2e-ca009c7df2b4\")>,\n",
       " <selenium.webdriver.remote.webelement.WebElement (session=\"7192b19c4b89b4b1685f8d91a491741a\", element=\"a5f05d7f-f525-4bd4-83e6-3dbcae03e054\")>,\n",
       " <selenium.webdriver.remote.webelement.WebElement (session=\"7192b19c4b89b4b1685f8d91a491741a\", element=\"cebf1579-fb4a-40c9-9268-0c05022bfa4c\")>,\n",
       " <selenium.webdriver.remote.webelement.WebElement (session=\"7192b19c4b89b4b1685f8d91a491741a\", element=\"0a96275b-6f09-42fb-b820-a6e150553174\")>,\n",
       " <selenium.webdriver.remote.webelement.WebElement (session=\"7192b19c4b89b4b1685f8d91a491741a\", element=\"15e6d87d-7708-4423-810c-ff89a0616c69\")>,\n",
       " <selenium.webdriver.remote.webelement.WebElement (session=\"7192b19c4b89b4b1685f8d91a491741a\", element=\"69a0aae2-02b2-46ea-be33-9ff93e7b0b7e\")>]"
      ]
     },
     "execution_count": 55,
     "metadata": {},
     "output_type": "execute_result"
    }
   ],
   "source": [
    "title=driver.find_elements_by_xpath(\"//a[@class='title fw500 ellipsis']\")\n",
    "title[0:10]"
   ]
  },
  {
   "cell_type": "code",
   "execution_count": 56,
   "metadata": {},
   "outputs": [
    {
     "data": {
      "text/plain": [
       "['Data Scientist/Data Analyst-immediate',\n",
       " 'HCL hiring Data scientist with exp in machine learning &SQL-Bangalore!',\n",
       " 'Data Scientist - Machine Learning',\n",
       " 'Data Scientist - Machine Learning',\n",
       " 'Data Scientist - Machine Learning',\n",
       " 'Senior Associate - Data Scientist/ML Engineer',\n",
       " 'Senior Data Scientist',\n",
       " 'Data Scientist - Machine Learning - Remote Working',\n",
       " 'Software Developer - Data Scientist / NLP / Machine Learning',\n",
       " 'Sr. Data Scientist']"
      ]
     },
     "execution_count": 56,
     "metadata": {},
     "output_type": "execute_result"
    }
   ],
   "source": [
    "for i in title:\n",
    "    t=i.text\n",
    "    job.append(t)\n",
    "    \n",
    "job[0:10]    "
   ]
  },
  {
   "cell_type": "code",
   "execution_count": 57,
   "metadata": {},
   "outputs": [
    {
     "data": {
      "text/plain": [
       "[<selenium.webdriver.remote.webelement.WebElement (session=\"7192b19c4b89b4b1685f8d91a491741a\", element=\"35aa0a61-e170-4bc9-92ab-85cb09a02705\")>,\n",
       " <selenium.webdriver.remote.webelement.WebElement (session=\"7192b19c4b89b4b1685f8d91a491741a\", element=\"d8cea59d-e420-445d-b201-614da6c3164c\")>,\n",
       " <selenium.webdriver.remote.webelement.WebElement (session=\"7192b19c4b89b4b1685f8d91a491741a\", element=\"780ce085-9307-4c18-805f-8deb5d2e1eab\")>,\n",
       " <selenium.webdriver.remote.webelement.WebElement (session=\"7192b19c4b89b4b1685f8d91a491741a\", element=\"b2869146-8dfa-404d-85a9-2597b1f45611\")>,\n",
       " <selenium.webdriver.remote.webelement.WebElement (session=\"7192b19c4b89b4b1685f8d91a491741a\", element=\"08f4c10b-c8e2-4514-b9e0-a621a6dbce7c\")>,\n",
       " <selenium.webdriver.remote.webelement.WebElement (session=\"7192b19c4b89b4b1685f8d91a491741a\", element=\"ba1ac06e-9dea-4efd-a02c-c38f63de9584\")>,\n",
       " <selenium.webdriver.remote.webelement.WebElement (session=\"7192b19c4b89b4b1685f8d91a491741a\", element=\"10769255-3d65-4df2-9ac9-8f9937711202\")>,\n",
       " <selenium.webdriver.remote.webelement.WebElement (session=\"7192b19c4b89b4b1685f8d91a491741a\", element=\"2a3ab1ee-246d-4ee2-b818-cd845bc66bf2\")>,\n",
       " <selenium.webdriver.remote.webelement.WebElement (session=\"7192b19c4b89b4b1685f8d91a491741a\", element=\"c3a33101-0790-4a70-bf04-9917bc41734a\")>,\n",
       " <selenium.webdriver.remote.webelement.WebElement (session=\"7192b19c4b89b4b1685f8d91a491741a\", element=\"602da404-2947-43fa-bcbc-1f0ce2493883\")>]"
      ]
     },
     "execution_count": 57,
     "metadata": {},
     "output_type": "execute_result"
    }
   ],
   "source": [
    "companies_tags=driver.find_elements_by_xpath(\"//a[@class='subTitle ellipsis fleft']\")\n",
    "companies_tags[0:10]"
   ]
  },
  {
   "cell_type": "code",
   "execution_count": 58,
   "metadata": {},
   "outputs": [
    {
     "data": {
      "text/plain": [
       "['CAIA-Center For Artificial Intelligence & Advanced Analytics',\n",
       " 'HCL Technologies Limited',\n",
       " 'AugmatrixGo',\n",
       " 'BLUE YONDER INDIA PRIVATE LIMITED',\n",
       " 'BLUE YONDER INDIA PRIVATE LIMITED',\n",
       " 'Pricewaterhouse Coopers Private Limited',\n",
       " 'Philips India Limited',\n",
       " 'Doji Ltd',\n",
       " 'Cunesoft India Private Limited',\n",
       " 'NetApp']"
      ]
     },
     "execution_count": 58,
     "metadata": {},
     "output_type": "execute_result"
    }
   ],
   "source": [
    "for i in companies_tags:\n",
    "    company_name=i.text\n",
    "    company.append(company_name)\n",
    "\n",
    "company[0:10]"
   ]
  },
  {
   "cell_type": "code",
   "execution_count": 59,
   "metadata": {},
   "outputs": [
    {
     "name": "stdout",
     "output_type": "stream",
     "text": [
      "Data Scientist/Data Analyst-immediate\n",
      "HCL hiring Data scientist with exp in machine learning &SQL-Bangalore!\n",
      "Data Scientist - Machine Learning\n",
      "Data Scientist - Machine Learning\n",
      "Data Scientist - Machine Learning\n",
      "Senior Associate - Data Scientist/ML Engineer\n",
      "Senior Data Scientist\n",
      "Data Scientist - Machine Learning - Remote Working\n",
      "Software Developer - Data Scientist / NLP / Machine Learning\n",
      "Sr. Data Scientist\n",
      "Data Scientist\n",
      "Advanced Architect - Data Scientist\n",
      "Data Scientist (Healthcare/Pharma Domain preferred)\n",
      "Data Scientist\n",
      "AI Resident - Data Scientist\n",
      "AI Resident Data Scientist Stats. Consl.\n",
      "Data Scientist (ON Contract)\n",
      "Senior Data Scientist\n",
      "Data Scientist\n",
      "Lead Data Scientist\n"
     ]
    }
   ],
   "source": [
    "head=driver.find_elements_by_xpath(\"//a[@class='title fw500 ellipsis']\")\n",
    "for i in head:\n",
    "    print(i.text)\n",
    "    job.append(i.text)"
   ]
  },
  {
   "cell_type": "code",
   "execution_count": 60,
   "metadata": {},
   "outputs": [
    {
     "name": "stdout",
     "output_type": "stream",
     "text": [
      "https://www.naukri.com/job-listings-data-scientist-data-analyst-immediate-caia-center-for-artificial-intelligence-advanced-analytics-chennai-pune-bengaluru-bangalore-hyderabad-secunderabad-0-to-3-years-210920000599?src=jobsearchDesk&sid=1611162755618940&xp=1&px=1\n",
      "https://www.naukri.com/job-listings-hcl-hiring-data-scientist-with-exp-in-machine-learning-sql-bangalore-hcl-technologies-limited-bengaluru-bangalore-5-to-10-years-190121001223?src=jobsearchDesk&sid=1611162755618940&xp=2&px=1\n",
      "https://www.naukri.com/job-listings-data-scientist-machine-learning-augmatrixgo-bengaluru-bangalore-2-to-5-years-140121905423?src=jobsearchDesk&sid=1611162755618940&xp=3&px=1\n",
      "https://www.naukri.com/job-listings-data-scientist-machine-learning-blue-yonder-india-private-limited-bengaluru-bangalore-5-to-8-years-130121902169?src=jobsearchDesk&sid=1611162755618940&xp=4&px=1\n",
      "https://www.naukri.com/job-listings-data-scientist-machine-learning-blue-yonder-india-private-limited-bengaluru-bangalore-3-to-5-years-130121902167?src=jobsearchDesk&sid=1611162755618940&xp=5&px=1\n",
      "https://www.naukri.com/job-listings-senior-associate-data-scientist-ml-engineer-pricewaterhouse-coopers-private-limited-bengaluru-bangalore-3-to-8-years-080121501399?src=jobsearchDesk&sid=1611162755618940&xp=6&px=1\n",
      "https://www.naukri.com/job-listings-senior-data-scientist-philips-india-limited-bengaluru-bangalore-8-to-12-years-110121501358?src=jobsearchDesk&sid=1611162755618940&xp=7&px=1\n",
      "https://www.naukri.com/job-listings-data-scientist-machine-learning-remote-working-doji-ltd-delhi-ncr-bengaluru-bangalore-anywhere-in-india-2-to-5-years-171220006270?src=jobsearchDesk&sid=1611162755618940&xp=8&px=1\n",
      "https://www.naukri.com/job-listings-software-developer-data-scientist-nlp-machine-learning-cunesoft-india-private-limited-bengaluru-bangalore-3-to-6-years-190121001281?src=jobsearchDesk&sid=1611162755618940&xp=9&px=1\n",
      "https://www.naukri.com/job-listings-sr-data-scientist-netapp-india-private-limited-bengaluru-bangalore-10-to-15-years-080121903902?src=jobsearchDesk&sid=1611162755618940&xp=10&px=1\n",
      "https://www.naukri.com/job-listings-data-scientist-genpact-india-private-limited-bengaluru-bangalore-5-to-10-years-120121008663?src=jobsearchDesk&sid=1611162755618940&xp=11&px=1\n",
      "https://www.naukri.com/job-listings-advanced-architect-data-scientist-mphasis-limited-bengaluru-bangalore-12-to-18-years-070121905070?src=jobsearchDesk&sid=1611162755618940&xp=12&px=1\n",
      "https://www.naukri.com/job-listings-data-scientist-healthcare-pharma-domain-preferred-genpact-india-private-limited-bengaluru-bangalore-6-to-10-years-070121010487?src=jobsearchDesk&sid=1611162755618940&xp=13&px=1\n",
      "https://www.naukri.com/job-listings-data-scientist-24-7-customer-private-ltd-bengaluru-bangalore-2-to-4-years-200121501017?src=jobsearchDesk&sid=1611162755618940&xp=14&px=1\n",
      "https://www.naukri.com/job-listings-ai-resident-data-scientist-shell-india-markets-private-limited-bengaluru-bangalore-3-to-5-years-130121906019?src=jobsearchDesk&sid=1611162755618940&xp=15&px=1\n",
      "https://www.naukri.com/job-listings-ai-resident-data-scientist-stats-consl-shell-india-markets-private-limited-bengaluru-bangalore-3-to-5-years-130121903135?src=jobsearchDesk&sid=1611162755618940&xp=16&px=1\n",
      "https://www.naukri.com/job-listings-data-scientist-on-contract-sandvik-asia-pvt-ltd-bengaluru-bangalore-4-to-8-years-041220002022?src=jobsearchDesk&sid=1611162755618940&xp=17&px=1\n",
      "https://www.naukri.com/job-listings-senior-data-scientist-upgrad-education-pvt-ltd-mumbai-bengaluru-bangalore-4-to-6-years-091020003439?src=jobsearchDesk&sid=1611162755618940&xp=18&px=1\n",
      "https://www.naukri.com/job-listings-data-scientist-applied-materials-india-private-limited-bengaluru-bangalore-4-to-7-years-150121903042?src=jobsearchDesk&sid=1611162755618940&xp=19&px=1\n",
      "https://www.naukri.com/job-listings-lead-data-scientist-collabera-technologies-private-limited-bengaluru-bangalore-5-to-10-years-120121000460?src=jobsearchDesk&sid=1611162755618940&xp=20&px=1\n"
     ]
    }
   ],
   "source": [
    "des_url=[]\n",
    "for i in head:\n",
    "    print(i.get_attribute('href'))\n",
    "    des_url.append(i.get_attribute('href'))"
   ]
  },
  {
   "cell_type": "code",
   "execution_count": 65,
   "metadata": {},
   "outputs": [],
   "source": [
    "from selenium.common.exceptions import StaleElementReferenceException,NoSuchElementException,ElementNotInteractableException\n",
    "for i in des_url:\n",
    "    driver.get(i)\n",
    "    try:\n",
    "        text=driver.find_element_by_xpath(\"//div[@class='dang-inner-html']\").text\n",
    "        description.append(text)\n",
    "    except NoSuchElementException:\n",
    "        description.append(\"no description\")"
   ]
  },
  {
   "cell_type": "code",
   "execution_count": 44,
   "metadata": {},
   "outputs": [
    {
     "data": {
      "text/plain": [
       "['Dear Candidate\\n\\nSchedule a Telephonic Interview ( Please call for confirmation) : Mon- Sat from 11:00am to 5:00pm\\n\\nOR Walk-In to the Corporate office between Monday to Friday from 11:00am to 5:00pm\\nContact person :\\n\\nManigandan -+91 7299917200\\nShantha +91 9790993237\\n\\n\\nSystech Solutions\\nTemple Steps\\nTower 3, 6th Floor\\n184-187 Anna Salai\\nSaidapet, Chennai 600015\\nIndia (Near Little Mount Metro Station)\\nRoles and Responsibilities\\n\\nGreetings from CAIA !\\nA great opportunity to enter the world of future technologies - Data Science, Analytics, AI, Data Visualization\\nApplications invited from all Freshers and experienced candidates aspiring to make a career in Artificial Intelligence and Advanced Analytics and Data Science.\\nIn case you are trying to shift your career to Analytics and/or AI domain please do connect with us to know more.\\nWhat is needed from you?\\n- An Educational background in any one of the following- BE/B.Tech, ME/M Tech, MSc, BSc/MSc Maths and Statistics, B Com, BCA, BSc CS, BSC IT, MSC IT, MCA\\n- Skills relating to Mathematics/Statistics.\\n- Natural passion towards numbers, business, coding, Analytics and Artificial Intelligence, Machine Learning, visualization\\n- Good verbal and written communication skills\\n- Ability to understand domains in businesses across various sectors\\n- Freshers who wish to start their career in Analytics and AI and professionals who wish to up skill or change their domain to analytics and emerging technologies are free to apply.\\nSelection procedure includes\\n- Online Aptitude Test\\n- Logical Ability Test / Written Test\\nOn being shortlisted, you will be have to undergo a one-one discussion with our counsellor for further evaluation and processing of your Resume.\\nWhat you can expect from us?\\nYou will get trained on the following modules for a period of 12-14 weeks:\\n-SQL & PLSQL\\n-Data Wrangling using Python\\n-Statistics for Machine Learning,\\n-Artificial Intelligence, Data Interpretation\\n-Supervised & Unsupervised Learning,\\n-NLP & Deep Learning\\n-Cloud Data Lake\\n-Business intelligence & Data Visualization\\n-Simulation Projects\\nWhat is the expected Outcome?\\nAt the end of the Training you are expected to be well versed with the following:\\n- Analysis of large and complex data sets from multiple sources\\n- Development and evaluation of data analytics models, algorithms and solutions\\n- Understanding/implementation of ML algorithms, performance tuning and reporting\\n- Implementation of algorithms to mine targeted data and the ability to convert data into a business story\\n- Translation of business requirements into technical requirements; Data extraction, preparation and transformation\\n- Identification, development and implementation of statistical techniques and algorithms that address business challenges and adds value to the organisation\\n- Requirement Analysis and communication of findings in the form of a meaningful story with the stakeholders\\nCenter for Artificial Intelligence & Advanced Analytics (CAIA) focuses on the following:\\n1. Global Research on emerging trends, technologies and applications in AI and Advanced Analytics\\n2. Advanced Training programs for readying the future ready workforce\\n3. Solutions to herald the futuristic lifestyle and workspaces in the field of AI and Data Science.\\nhttp://www.centerforaia.com/\\nCenter for Artificial Intelligence and Advanced Analytics (Center for AIA) is the brainchild of experienced and visionary alumni of IIT Madras and Bombay. Digital leaders 5F World and Systech Solutions have joined hands to create a venture for architecting the future of society, workforce, governments and businesses. 5F World specializes in designing solutions around digital platforms and Systech Solutions has an expertise in architecting Artificial Intelligence and Advanced Analytics solutions for Fortune 500 companies through specialized programmed.\\n5F World\\n5F World is a leader in digital transformational journeys and has brought together the best minds in industry, academia and technology domains to develop a unique framework to transform stakeholder journeys through innovation and digitalization of businesses and education institutions.\\nSystech Solutions\\nSystech Solutions is a leading organisation in Data Strategy, Management & Analytics services provider with deep technology expertise and over 20 years of industry experience. Systech Solutions helps empower clients with innovative, data-driven solutions to reimagine their enterprise and has forged partnerships with industry-leading technology providers to develop a full spectrum of data services.\\n\\nWebsite\\nhttp://www.centerforaia.com/\\n\\nhttps://inflexion-analytix-private-limited.business.site/?m=true\\n\\n\\n\\nContact Person\\nShantha/Manigandan\\nPhone Number\\n9790993237 / 7299917200\\nEmail\\nmanigandan@centerforaia.com\\n\\nDesired Candidate Profile\\n\\nPerks and Benefits',\n",
       " \"Dear Candidate,\\n\\nGreetings from HCL!!!\\nWe are looking for Data scientists with experience in machine learning algorithms and strong SQL experience.\\nIf you are Keen with Below Skill Set. Please do send the Updated CV with details such as current ctc, expected ctc and notice period to m_divvya@hcl.com / 8754448290.We are looking only for immediate joiners. Candidates with more than 30 days notice please don't apply.\\n\\n\\nTechnical Skills:\\nOverall 5+ years of experience in advanced analytics and leading/mentoring team members\\nProficient in Python & SQL with minimum 2-3 years of hands on experience\\nSolid fundamentals, knowledge of supervised, unsupervised, reinforcement learning machine learning and deep learning algorithms, such as classifiers, cluster analysis, dimension reduction, regression, CNN, RNN, DQN, temporal difference methods, sequence modeling, probability theory, algorithm design and theory of computation, information retrieval\\nAbility to work and execute projects on both structured and unstructured data in a big data environment • Strong at preparing data for analysis using SQL and experience working with the industry leading BI tools like Tableau, visualizing the data and executing to specifications\\nExperience of end to end implementation of predictive analytics projects for at least 1-3 years • Exposure to text analytics, web scraping, big data technologies and graph databases would be desirable • Exposure to visualization tools • Experience of intent to learn software domain related to VMware products and the way virtualization software/hardware\\n\\nPreferred Skills:\\nGood understanding of API connections and data pipelining • Knowledge with Natural Language Processing (e.g. word2vec, doc2vec, attention, LDA) • Understanding of different model performance metrics and hyperparameter optimization • Business Acumen, ability to translate business needs into a set of workable, specific requirements • Well versed with MS PowerPoint/Visio\\nAbility to understand business requirements, KPIs and convert into analytical hypothesis in a structured and logical manner along with solution identification • Ability to handle multiple projects at a time in terms of multitasking, prioritization, allocation and team management • Ability to coordinate and work within multiple business units from project management perspective • Ability to work across geographies and interact with global stakeholders • Prior experience working in Agile methodologies/JIRA would be a plus\\nWhat we are looking for:\\nBS/BE in Computer Sciences, Math, Statistics or related field. Masters preferred.\\nProficient in SQL and experience with efficient processing of large data sets. Ability to write sophisticated and optimized queries against large databases • Proficient in data visualization tools such as Mode Analytics or Tableau • Proficient in Excel • Experience in statistical computing with Python/R • Ability to handle several concurrent activities with strong organizational skills and attention to detail We're team players. You'll do well if you're one too\",\n",
       " 'Roles and Responsibilities\\n\\n\\n- Selecting features, building and optimizing classifiers using machine learning techniques\\n\\n- Data mining using state-of-the-art methods\\n\\n- Enhancing data collection procedures to include information that is relevant for building analytic systems\\n\\n- Processing, cleansing, and verifying the integrity of data used for analysis\\n\\n- Doing ad-hoc analysis and presenting results in a clear manner\\n\\n- Creating automated anomaly detection systems and constant tracking of its performance\\n\\nSkills Required :\\n\\n- Excellent understanding of machine learning techniques and algorithms, such as k-NN, Naive Bayes, SVM, Decision Forests, etc.\\n\\n- Experiences with one or more of the following is highly desirable: HPC/Parallelization, operationalizing ML models; cloud computing (e.g. Google Cloud, AWS, etc.); familiarity with ML frameworks such as Tensorflow, Theano, MXNet, etc\\n\\n- Good experience in a few of the following areas: deep neural networks, reinforcement learning, Markov Random Fields, Bayesian networks, semi-supervised learning, computer vision, image processing, signal processing, distributed computing, and/or numerical optimization\\n\\n- 2+ years of experience with computer vision and deep learning solutions, including image classification, object detection, segmentation, and equivalent computer vision-based vision tasks\\n\\n- Experience with common data science toolkits, such as R, Weka, NumPy, etc . Excellence in at least one of these is highly desirable\\n\\n- Proficiency in using query languages such as SQL, Hive, Pig\\n\\n- Good applied statistics skills, such as distributions, statistical testing, regression, etc.\\n\\n- Good scripting and programming skills\\n\\n- Data-oriented personality\\n\\n- B.Tech/M.Tech degree in from reputed institutes like IIT / NIT / BITS',\n",
       " 'no description',\n",
       " 'no description',\n",
       " 'Day-to-Day Responsibilities\\nDesign and develop data science, machine learning, natural language processing, deep learning and related solutions to address business needs.\\nDesign and implement current state-of-art machine learning, algorithms related to Forecasting, Classification, Data/Text Mining, NLP, Computer Vision, Decision Trees, Adaptive Decision Algorithms, Random Forest, Search Algorithms, Neural Networks, Deep Learning Algorithms.\\nConverting the AI models into microservices and deploy them using dockers.\\nDeploy AI models in production using docker with automated data pipelines.\\nWork creatively and analytically to apply cutting edge techniques to specific challenges.\\nAssist in the management and delivery of large data science projects.\\nWork with a wide range of automation teams to validate findings and proposed analytics solutions.\\nContinuously expand personal skill sets and stay up to speed on the latest A.I. trends, tools, methodologies, and techniques.\\nSkills and Experience:\\nDemonstrates extensive knowledge and/or a proven record of success in data analytics, including the following areas:\\nIdeally at least 8 years of total experience and at least 6 years of relevant experience in the field of AI/ML.\\nBachelor s or Master s Degree in Computer Science, Engineering or other technical discipline (BE, BTech, MCA).\\nExperience in analyzing complex problems and translating them to data science algorithms with due attention to computational efficiency and testing at scale.\\nExperience in machine learning, supervised and unsupervised: Forecasting,\\nClassification, Data/Text Mining, NLP, Computer Vision, Decision Trees, Adaptive Decision Algorithms, Random Forest, Search Algorithms, Neural Networks, Deep Learning Algorithms.\\nWorked with at least one mainstream machine learning frameworks, including Caffe, ConvNet, Tensor Flow, Keras, Torch.\\nWorking proficiency with SQL and relational databases, data warehouse.\\nExperience with big data platforms - Hadoop (Hive, Pig, Map Reduce, HQL) / Spark / H20.\\nExperience with Google Cloud Platform, AWS or Azure.\\nExperience with GPU/CUDA for computational efficiency.\\nStrong implementation experience with languages, such as Python, Java, or Scala and familiarity with Linux/Unix/Shell environments.\\nStrong hands-on skills in sourcing, cleaning, identifying patterns and outliers, manipulating and analyzing large volumes of big data using distributed computing platform\\nUnderstanding of NoSQL (Graph, Document, Columnar) database models, XML, relational and other database models and associated SQL.\\nDemonstrates extensive abilities and/or a proven record of success in the application of statistical modelling, algorithms, data mining and machine learning algorithms problem solving.\\nA track record of delivery within several large-scale projects, demonstrating ownership of architecture solutions and managing change.\\nLeading, training and working with other data scientists in designing effective analytical approaches taking into consideration performance and scalability to large datasets.\\nExperience manipulating and analyzing complex, high-volume, high-dimensionality data from varying sources.\\nProven ability with NLP, Computer Vision and text-based extraction techniques.\\nUnderstanding of not only how to develop data science analytic models but how to operationalize and deploy the models as microservices in production using Dockers and automated pipelines.\\nDemonstrates extensive abilities and/or a proven record of success in the application of statistical or numerical methods, data mining, data wrangling and data-driven problem solving, including the following areas:\\nUtilizing and applying knowledge commonly used data science packages including Spark, Pandas, SciPy, and Numpy.\\nFamiliarity with deep learning architectures used for text analysis, computer vision and signal processing.\\nUtilizing programming skills and knowledge on how to write models which can be directly used in production as part of a large-scale system.\\nApplying techniques such as multivariate regressions, Bayesian probabilities, clustering algorithms, machine learning, dynamic programming, stochastic-processes, queuing theory, algorithmic knowledge to efficiently research and solve complex development problems and application of engineering methods to define, predict and evaluate the results obtained.\\nDeveloping end to end deep learning solutions for structured and unstructured data problems.\\nDeveloping and deploying A.I. solutions as part of a larger automation pipeline.\\nUsing common cloud computing platforms including Azure, AWS and GCP in addition to their respective utilities for managing and manipulating large data sources, model, development, and deployment.\\nVisualizing and communicating analytical results, using technologies such as HTML, JavaScript, Tableau, and Power BI.',\n",
       " 'Job Description\\nAt Philips, data is in the centre of everything we do. We believe that, every data item has a story of its own. If you have a penchant for unravelling the hidden patterns, then you are the person we are looking for!\\nTo build our next generation smarts, you will be working with experts in a variety of fields, including clinical & regulatory specialists, UX designers, dental and skin care professionals, system architects, product management to integrate new technologies and refine system performance. You will help build learning systems, leveraging data sets consisting of user interactions and actions, collected from hundreds of thousands of consumer devices, per day to model, analyse, and predict user behaviours. While some of our algorithms run on resource constrained devices, others require large clusters on our cloud infrastructure. As data scientist you will investigate, discern, and interpret data sets to recognize user behaviour and predict trends.\\nJob Responsibilities\\nUse predictive modeling to increase and optimize customer experiences, revenue generation, campaign optimization and other business outcomes\\nWork with product management to develop data use cases and embed predictive models in workflows on resource constrained platforms and cloud enabled.\\nSelecting features, building and optimizing classifiers using machine learning and deep learning techniques\\nCollaborates with Data Engineers to enhance data collection and ingestion/curation techniques to include information that is relevant for building analytic systems\\nProcessing, cleansing, and verifying the integrity of data used for analysis\\nDevelop processes and tools to monitor and analyze model performance and data accuracy. Life cycle management of predictive models.\\nAdherence to compliance procedures in accordance with regulatory standards, requirements, and policies. Managing and designing the reporting environment, including data sources security, and metadata.\\nJob Qualifications:\\nMaster’s degree or PhD in Computer Science, Information management, Statistics or related field, with 10+ years of experience in the Consumer or Healthcare industry manipulating data sets and building predictive models with focus on product development\\nExperience in statistical modelling, machine learning, data mining, unstructured data analytics and natural language processing. Sound understanding of - Bayesian Modelling, Classification Models, Cluster Analysis, Neural Network, Nonparametric Methods, Multivariate Statistics, etc.\\nStrong hands on knowledge of ML techniques like regression algorithms, K- NN, Nave Bayes, SVM and ensemble techniques like Random forest, AdaBoost etc\\nHaving strong knowledge in unsupervised learning algorithms using Neural networks and Deep- Learning\\nStrong knowledge in Data Wrangling and Exploration techniques to identify the patterns, trends and outliners.\\nDeep knowledge and practical experience with data science toolkits, such as NumPy, Pandas, scikit- learn or equivalent\\nExperience with data visualization tools, such as QlikView, Matplotlib, seaborn or equivalent tools.\\nProficiency in using query languages, such as SQL, PL/SQL\\nHands on experience in the one or more databases like Hadoop, AWS Redshift, Snowflake etc.\\nGood applied statistics skills, such as distributions, statistical testing, regression, etc.\\nGood ETL scripting and programming skills, such as Python, R or Scala to integrate developed solution into the proposition.\\nA team player capable of working and integrating across cross- functional team for implementing project requirements. Experience in technical requirements gathering and documentation.\\nAbility to work effectively and independently in a fast- paced global collaborative agile team environment with tight deadlines\\nA flexible, pragmatic and collaborative team player with innate ability to engage with stakeholders at all levels in the organization.\\nA self- starter with high levels of drive, energy, resilience and a desire for professional excellence with a passion for data and data science',\n",
       " \"Please note that this role will be Remote / Home-based for next 6 to 12 months.\\n\\nIn DOJI, we are building a next generation marketplace and setting new standards for e-commerce buyers and sellers worldwide. We are a UK based tech start-up, founded by three passionate entrepreneurs with a track record of building and exiting successful ventures.\\nWe're excited to build this world-class team that is going to reshape the way people buy and sell consumer goods.\\n\\nRoles and Responsibilities\\n\\nPerform exploratory and statistical analyses to understand and predict our customer behaviours, identify bottlenecks, and answer critical business questions.\\nBuild and deploy scalable machine learning models and oversee their performance against KPIs.\\nForecast our users conversion, engagement, and churn with rigorous statistical models\\nBuild overall data capability of our organisation by performing complex data processing, building data pipelines and developing data products which can be directly used by our business users such as marketing and product teams\\n\\nRequirements\\n\\nFollowing are the mandatory skills & experience requirements for this role:\\nBeen a data scientist for 2+ years in a commercial set-up\\nDirect experience in performing statistical analyses or building a variety of machine learning models from complex, specialised or large data pools.\\nPassion for understanding user behaviour and building solutions to optimise customer experience and growth.\\nDemonstrated competency with unsupervised machine learning algorithms (k-means clustering, isolation forests etc.) and / or supervised algorithms (logistic regression, SVM, Random Forests, GBM etc.)\\nDirect experience using programming languages such as Python or R for statistical and/or numeric computing\\nUndergraduate degree in a quantitative discipline (maths, statistics, econometrics etc.) or computer science\\n\\nAlthough the following requirements are not mandatory, however we would strongly prefer candidates with this skill and experience.\\nWe would prefer someone who also has experience in: data engineering, building data pipelines and cloud (AWS, Azure or GCP).\\nExperience with additional programming languages used for data processing such as SQL, Hive, PySpark, Scala etc.\\nExperience with consumer retail or e-commerce data\\nPostgraduate degree in a quantitative discipline or computer science\\n\\nPerks and Benefits\\n\\nA very competitive package of 15 to 20 Lacs\\nBe part of a start-up with an entrepreneurial mindset that thinks big, with a long-term vision.\\nBe the owner of your own development in an environment that is full of opportunities, learning, growth, expansion and challenging projects.\\nShare and learn with the team, amongst great professionals and experts.\\nAn excellent work environment, with everything that you need to enjoy a great experience\\n\\nSince this role will be 'Remote' (e.g. home office) during the initial stages, you will be responsible to ensure proper working conditions (computer and related equipment, reliable internet connection, etc) and availability during normal business working hours. As per business needs, you could be asked to work from an office based office location in the future.\\nIn Doji, we work hard to promote a culture of inclusiveness and diversity that seeks equality and values from different perspectives. We believe in building trust and fairness amongst people and making a positive impact on the environment.\\nShould you require reasonable adjustments throughout the hiring process, please don't hesitate to get in touch with us.\",\n",
       " 'Roles and Responsibilities\\nWe are looking for a competent and enthusiastic candidate with the below requirement. This vital role ensures Cunesoft India Pvt Ltd (a Phlexglobal Company) Bangalore can provide a high-quality end product to internal and external users. This position requires strong technical and communication skills as well as both independent and team working, including working closely with all other areas of the software delivery team and the rest of the Technology department.\\n\\nRoles and Responsibilities\\n\\nKey Activities\\nDevelop and improve the existing data mining and NLP related processes within our Regulatory Data Management platform\\nDevelop new ways of improving and transforming the regulatory processes of Phlexglobal customers.\\nInteract with product management, project management and development teams to develop additional modules and functions within the Phlexglobal Cloud Platform\\nDesign and create solutions for pre specified modules and functions\\nUse existing tools and techniques to develop and test new and existing work\\nDefine, create and execute automated test cases, i.e. unit tests\\nParticipate in troubleshooting and triaging of issues with different teams to drive towards root cause identification and resolution\\nSupport production deployment of applications and perform validation testing during the off-hours maintenance windows\\nSupport and fix existing and new identified issues by either customers or internal test teams.\\n\\n\\nDesired Candidate Profile\\n\\nRequired Skills & Experience\\nMinimum 3+ years working experience in NLP, Artificial Intelligence, Machine Learning, Text Mining, Neural Networks\\nStrong programming skills using PYTHON\\nIn depth experience with OpenNLP, Stanford NLP or related NLP / data mining technologies\\nIn depth experience with Python and data libraries such as scikit learn, pandas, numpy, etc.\\nSelecting features, building and optimizing classifiers using machine learning techniques\\nExcellent understanding of Machine Learning Techniques and Algorithms.\\nMust have Data mining / Natural Language Processing experience\\nMust have very good understanding ofGIT\\nProcessing, Cleansing, and verifying the integrity of data\\nDevelop custom data models and algorithms to apply to data sets.\\nDefining validation strategies\\nDefining the preprocessing or feature engineering to be done on a given dataset\\nDefining data augmentation pipelines\\nTraining models and tuning their hyperparameters\\nAnalyzing the errors of the model and designing strategies to overcome them\\nDeploying models to production\\n\\nAdded advantages\\n3+ years experience using Microsoft .NET / C#\\nExposure to ML.Net, AutoML, NimbusML, etc\\nGood knowledge of Microsoft Visual Studio is preferred\\nGood to have Microsoft SQL Server, preferably Microsoft SQL Azure\\nPrevious experience in the Life sciences area\\nOther requirements\\nExcellent verbal and written communication skills\\nMust be flexible, independent and self motivated\\nPunctual, Regular and consistent attendance\\n\\nEducation:\\nBS degree in Information Systems, Computer Science, Web Systems, Electrical Engineering, Mathematics or domain related working experience\\nAs part of the Interview process, could you please complete the Titanic project and share the predication results on Kaggle.com to move forward with interview.\\n\\nhttps://www.kaggle.com/c/titanic\\n\\nCandidates with relevant experience kindly contact me.\\n\\nWe are looking for a candidate who can join us immediately or in less than 15-20 days\\n\\nSrini\\n+91 9731007277\\nsarumugam@phlexglobal.com',\n",
       " 'no description',\n",
       " 'no description',\n",
       " 'no description',\n",
       " 'no description',\n",
       " 'As a data scientist, you d be working towards developing cutting edge products and solutions that are based on state of the art machine learning algorithms. You will be joining the 247s core R&D team, which is based in Bangalore. The core R&D team works on real-world challenging problems in the NLP and Conversational AI domain.\\nWe need a Data scientist who have experience in building deep learning models for NLP using Tensorflow .\\nSome of the attractive pluses of the job are:\\nThe opportunity to work with a world class team of talented data scientists with strong background in machine learning, and who are extremely passionate about solving real-world applied problems in the web-analytics domain.\\nA real opportunity to expand your skill-sets and a chance to learn and use the latest advances and approaches in machine learning and data mining on real world datasets\\nA big plus is the opportunity to play and work with what are really big-data datasets.\\nWorking in a university like work-environment where you are expected to be self-motivated and are measured on your performance.\\nDetailed Description:\\nIn this role, you will be required to have the following skills:\\nIntermediate to advanced knowledge of machine learning, probability theory, statistics and algorithms. You will be required to discuss and use various algorithms and approaches on a daily basis.\\nStrong programming skills: Since most of the core R&D teams work involves solving problems in the big-data domain, preparing datasets for algorithmic exploration is a significant part of the job. You should have strong programming skills (preferably in python), in order to play around with the raw data, and also for deploying various algorithms\\nStrong analytical skills: We seek individuals who try to look at a problem from various angles, and who have deep analytical skills to understand, grasp and discuss deeply technical and significantly complicated problems, and the solutions that the R&D team is working on.\\nEducational Qualification & Work Experience\\nCandidates from a reputable institution like IITs, IISc, or equivalent\\n2-4 years of work experience in machine learning and data mining domain, where you have been actively involved in industry research.',\n",
       " 'Where you fit?\\nAs Data Scientist, youll be joining a dynamic global team within our Data Science Centre of Excellence. With the focus on driving insights that will have a real impact on our business performance. \\nThis is an opportunity to deploy mix of your data science expertise and creative problem-solving skills to initiate, develop, and deliver- data science solutions. In practice, that means applying advanced analytics to data sets from across the entire energy supply chain, providing predictive models and insights to improve Shell’s business processes, and developing innovative digital products. \\nWe expect you’ll thrive working independently or part of a team, fitting into a highly-collaborative, friendly Agile environment, with the opportunity to learn new practices and technologies. \\n\\nWhat’s the role?\\nKey to your success in this role, will be your analytical expertise, at finding and interpreting rich data sources, managing large amounts of data, merging data sources, ensuring consistency of datasets, and finally, skillfully presenting and communicating the data insights and results. \\nAs Data Scientist, you’ll be working closely with various Shell businesses. You will apply statistical models, optimization and machine learning algorithms to problems in asset management. Your Machine Learning based solutions and models will help Shell’s businesses make better decisions and facilitate the latest digital developments in the energy industry. \\nYour main challenge will be to develop analytical solutions which have an impact on businesses performance and innovation. This includes preparing requirements and technical feasibility of advanced analytics projects and designing,developing,testing, and deploying algorithms and methods.\\nAlongside your technical expertise, you’ll also be calling on your natural people skills, nurturing mutual trust with business stakeholders ranging from exploration and production up to customer facing businesses within a diverse and international work environment. Effectively translating business needs into data solutions and presenting analytical results back into business language. \\n\\nWhat we need from you?\\nWe’re keen to speak to applicants with a Master’s or PhD degree in statistics, mathematics, natural sciences, computer science, and other engineering disciplines. Along with your strong experience in the delivery of analytics solutions within a corporate or academic environment, we’d also hope to see as many of the following on your CV: \\n3-5 years of Data Science related work experience is preferable\\nStrong foundation in applied mathematics - linear algebra, optimization, probability theory.\\nExperience of developing advanced analytics algorithms/models. \\nHands-on experience in code development (R, Python, Javascript, SQL,MATLAB). \\nPreferably expertise Deep Learning, Bayesian Learning\\nStrong interpersonal, communication, facilitation and presentation skills. ',\n",
       " 'Roles and Responsibilities\\nThe Role\\nThe world faces energy challenges that are becoming more complex each day. We are looking for people who share our passion for taking on these challenges with cutting edge technology, innovative thinking and commitment to manage risks. Shell develops and operates some of the largest, most complex energy projects in the world, we always endeavour to work at the leading edge of technical innovation.\\nAs an AI Resident you will get to be involved in real time projects specifically matched to your interests and abilities and to get an insight into our day-to-day business operations. You’ll receive performance evaluations from your mentor and/or direct supervisor, and you’ll find out what the energy industry is really like, from the inside.\\n\\nThe Shell.ai Residency Program offers you an amazing opportunity for learning and discovery. You will enjoy a unique opportunity to:\\nDevelop deep technical expertise working on the latest AI related projects\\nCollaborate with like-minded innovators and AI residents community across the globe, Shell experts and mentors\\nChannel your efforts from ideation to execution working to rapidly deploy solutions\\nDeploy solutions across a breadth of Shell businesses - from Exploration to Trading, or Retail to New Energies\\nWhere you fit?\\nAs Data Scientist, you’ll be joining a dynamic global team with in our Data Science Centre of Excellence. Withthefocus on driving insights that will have a real impact on our business performance.\\nThis is an opportunity to deploy mix of your data science expertise and creative problem-solving skills to initiate, develop, and deliver- data science solutions. In practice, that means applying advanced analytics to data sets from across the entire energy supply chain, providing predictive models and insights to improve Shell’s business processes, and developing innovative digital products.\\nWe expect you’ll thrive working independently or part of a team, fitting into a highly-collaborative, friendly Agile environment, with the opportunity to learn new practices and technologies.\\nWhat’s the role?\\nKey to your success in this role, will be your analytical expertise, at finding and interpreting rich data sources, managing large amounts of data, merging data sources, ensuring consistency of datasets, and finally, skillfully presenting and communicating the data insights and results.\\nAs Data Scientist, you’ll be working closely with various Shell businesses. You will apply statistical models, optimization and machine learning algorithms to problems in subsurface and wells, asset management, customer centricity and commercial insights.\\nYour main challenge will be to develop analytical solutions have an impact on businesses performance and innovation. This includes preparing requirements and technical feasibility of advanced analytics projects and designing, testing, and deploying algorithms and methods.\\nAlongside your technical expertise, you’ll also be calling on your natural people skills, nurturing mutual trust with business stakeholders ranging from exploration and production up to customer facing businesses within a diverse and international work environment. Effectively translating business needs into data solutions and presenting analytical results back into business language.\\nWhat we need from you?\\nWe’re keen to speak to applicants with a Master’s or PhD degree in statistics, mathematics, chemistry and natural sciences,. Along with your strong experience in the delivery of analytics solutions within a corporate or academic environment, we’d also hope to see as many of the following on your CV:\\n3-5 years of Data Science/ Statistical consultancy related work experience is preferable\\nStrong foundation in applied mathematics or applied statistics.\\nExperience of developing and applying statistical models.\\nStrong interpersonal, communication, facilitation and presentation skills\\nHands-on experience incoding statistical models(R, Python, MATLAB).',\n",
       " 'no description',\n",
       " \"About the Role\\nWe are looking for a highly skilled, experienced, and passionate data-scientist who can come\\non-board and help create the next generation of data-powered education tech product. The ideal candidate would be someone who has worked in a Data Science role before wherein he/she is comfortable working with unknowns, evaluating the data and the feasibility of applying scientific techniques to business problems and products, and have a track record of developing and deploying data-science models into live applications. Someone with strong math, stats, data- science background, comfortable handling data (structured+unstructured) as well as strong engineering know-how to implement/support such data products in the Production environment.\\nOurs is a highly iterative and fast-paced environment, hence being flexible, communicating well and attention-to-detail are very important too. The ideal candidate should be passionate about customer impact and comfortable working with multiple stakeholders across the company.\\nBasic Qualifications:\\n4-6 years of experience in data science, machine learning or comparable role\\nBachelor's degree in Computer Science, Data Science/Data Analytics, Math/Statistics or related discipline\\nExperience in building and deploying Machine Learning models in production systems\\nStrong analytical skills: ability to make sense out of a variety of data and its relation/applicability to the business problem or opportunity at hand\\nStrong programming skills: comfortable with Python - pandas, numpy, scipy, matplotlib; Databases - SQL and noSQL\\nStrong communication skills: ability to both formulate/understand the business problem at hand as well as ability to discuss with non data-science background stakeholders\\nComfortable dealing with ambiguity and competing objectives\\nPreferred Qualifications:\\nExperience in Text Analytics, Natural Language Processing\\nAdvanced degree in Data Science/Data Analytics or Math/Statistics\\nComfortable with data-visualization tools and techniques\\nKnowledge of AWS and Data Warehousing\\nPassion for building data-products for Production systems - a strong desire to impact the product through data-science techniques\\nSeniority Level\\nMid-Senior level\\nIndustry\\nE-Learning\\nInformation Technology and Services\\nInternet\\nEmployment Type\\nFull-time\\nJob Functions\\nAnalyst\\nEngineering\\nStrategy/Planning\",\n",
       " 'no description',\n",
       " 'Job Opportunity for Lead Data Scientist at Bangalore location\\n\\nHi,\\nHope this message finds you well!\\nThis is Margi Patel from Collabera and I am writing to you regarding an excellent job opportunity that I have with one of Collabera\\'s premier clients\\nWe have below position on Collabera Payroll.\\n\\nPosition Details:\\nEmployer: Collabera Technologies Pvt Ltd (will deploy with one of our client)\\nJob Title / Skill : Lead Data Scientist\\nSQL queries- strong\\nMachine learning\\nPython\\n\\nMode of Interview: Call or Zoom or Video interview.\\nInterview: 6-7 Working Days\\nWork Location : Bangalore\\nCan join in : Immediate to 20 days\\n\\nExperience :\\nOverall 5+ years of experience in advanced analytics and leading/mentoring team members.\\nProficient in Python & SQL with minimum 2-3 years of hands on experience (Required all the documents of the Education like, Mark sheet, Provisional Certificate / Degree Certificate , Aadhar card, etc)\\nMaximum Offer Package : 18.5 to 19.5 LPA (Depending on Current CTC and client interview)\\n\\nJob Description:\\nJob Title / Skill\\nTechnical Skills:\\n• Overall 5+ years of experience in advanced analytics and leading/mentoring team members\\n• Proficient in Python & SQL with minimum 2-3 years of hands on experience\\n• Solid fundamentals, knowledge of supervised, unsupervised, reinforcement learning machine learning and deep learning algorithms, such as classifiers, cluster analysis, dimension reduction, regression, CNN, RNN, DQN, temporal difference methods, sequence modeling, probability theory, algorithm design and theory of computation, information retrieval\\n• Ability to work and execute projects on both structured and unstructured data in a big data environment\\n• Strong at preparing data for analysis using SQL and experience working with the industry leading BI tools like Tableau, visualizing the data and executing to specifications\\n• Experience of end to end implementation of predictive analytics projects for at least 1-3 years\\n• Exposure to text analytics, web scraping, big data technologies and graph databases would be desirable\\n• Exposure to visualization tools\\n• Experience of intent to learn software domain related to VMware products and the way virtualization software/hardware\\nPreferred Skills:\\n• Good understanding of API connections and data pipelining\\n• Knowledge with Natural Language Processing (e.g. word2vec, doc2vec, attention, LDA)\\n• Understanding of different model performance metrics and hyperparameter optimization\\n• Business Acumen, ability to translate business needs into a set of workable, specific requirements\\n• Well versed with MS PowerPoint/Visio\\nAbility to understand business requirements, KPIs and convert into analytical hypothesis in a structured and logical manner along with solution identification\\n• Ability to handle multiple projects at a time in terms of multitasking, prioritization, allocation and team management\\n• Ability to coordinate and work within multiple business units from project management perspective\\n• Ability to work across geographies and interact with global stakeholders\\n• Prior experience working in Agile methodologies/JIRA would be a plus\\nWhat we are looking for:\\n• BS/BE in Computer Sciences, Math, Statistics or related field. Masters preferred.\\n• Proficient in SQL and experience with efficient processing of large data sets. Ability to write sophisticated and optimized queries against large databases\\n• Proficient in data visualization tools such as Mode Analytics or Tableau\\n• Proficient in Excel\\n• Experience in statistical computing with Python/R\\n• Ability to handle several concurrent activities with strong organizational skills and attention to detail\\nWe\\'re team players. You\\'ll do well if you\\'re one too\\nSince this is an urgent business requirement, Id appreciate a prompt response on this. Also I would appreciate if you can pass on this information to your friends or colleagues who are looking for change at this time.\\nShould you have any questions, feel free to call me on 8160947160 or Email me on margi.patel@collabera.com\\n\\nA referral of your friends or colleagues is the best compliment I can receive.\\nIf you are interested Please share your resume along with below Information\\nFull Name:\\nContact No:\\nE-Mail id:\\nPrimary Skill:\\nCompany Name (Payroll) :\\nExperience:\\nCurrent Location:\\nPreferred Location:\\nHighest Qualification (Degree- Passing year and Percentage score)\\n12th Standard (Degree- Passing year and Percentage score)\\n10th Standard (Degree- Passing year and Percentage score)\\nDate of Birth:\\nCurrent CTC\\nExpected CTC:\\nCan join:\\nDate of birth:\\nAadhar Card Number:\\n\\nCollabera Technologies Private Limited\\nAbout Collabera:\\nSince 1991, Collabera has been a leading provider of IT staffing solutions and services. We are known for providing the best staffing experience and taking great care of our clients and employees. Our client-centric model provides focus, commitment and a dedicated team to help our clients achieve their business objectives. For consultants and employees, we offer an enriching experience that promotes career growth and lifelong learning.\\nCompany Snap Shot:\\nOver 14,000 professionals in over 50+ locations across 3 continents\\nTop 10 U.S. IT Staffing Firm\\nLargest minority-owned U.S. IT Staffing Firm\\nTop supplier to Fortune 500 companies\\nStaffing Industry Analysts\\' \"Best Staffing Firms to Work For\" recognition 6 years in a row\\nTo know more about Collabera, I would encourage you to visit us on www.collabera.com.']"
      ]
     },
     "execution_count": 44,
     "metadata": {},
     "output_type": "execute_result"
    }
   ],
   "source": [
    "description"
   ]
  },
  {
   "cell_type": "code",
   "execution_count": 61,
   "metadata": {},
   "outputs": [
    {
     "data": {
      "text/plain": [
       "[<selenium.webdriver.remote.webelement.WebElement (session=\"7192b19c4b89b4b1685f8d91a491741a\", element=\"e454823c-f9e9-45b3-99d0-d493608a1233\")>,\n",
       " <selenium.webdriver.remote.webelement.WebElement (session=\"7192b19c4b89b4b1685f8d91a491741a\", element=\"fdc220bc-96c6-420a-b23c-48f9e9912883\")>,\n",
       " <selenium.webdriver.remote.webelement.WebElement (session=\"7192b19c4b89b4b1685f8d91a491741a\", element=\"e9b18e3a-2f07-4f11-a485-5fe17be7369e\")>,\n",
       " <selenium.webdriver.remote.webelement.WebElement (session=\"7192b19c4b89b4b1685f8d91a491741a\", element=\"084eeaa5-c312-4a28-b717-a5b612be79cb\")>,\n",
       " <selenium.webdriver.remote.webelement.WebElement (session=\"7192b19c4b89b4b1685f8d91a491741a\", element=\"c56fdbdb-1707-493f-90e2-af45ab9895b7\")>,\n",
       " <selenium.webdriver.remote.webelement.WebElement (session=\"7192b19c4b89b4b1685f8d91a491741a\", element=\"a19c45b6-5d39-4d86-bd07-66d912014ff3\")>,\n",
       " <selenium.webdriver.remote.webelement.WebElement (session=\"7192b19c4b89b4b1685f8d91a491741a\", element=\"1f8b47bf-6f1b-4f15-8713-5ca3ff2529c6\")>,\n",
       " <selenium.webdriver.remote.webelement.WebElement (session=\"7192b19c4b89b4b1685f8d91a491741a\", element=\"f2ccb2c9-d8a2-4e98-b50d-6047968d4172\")>,\n",
       " <selenium.webdriver.remote.webelement.WebElement (session=\"7192b19c4b89b4b1685f8d91a491741a\", element=\"dfa4fd7a-a53c-45d3-b09b-78bc6a0d6dad\")>,\n",
       " <selenium.webdriver.remote.webelement.WebElement (session=\"7192b19c4b89b4b1685f8d91a491741a\", element=\"142b11eb-d0a1-4c48-8e96-7bb3e1ef6e74\")>]"
      ]
     },
     "execution_count": 61,
     "metadata": {},
     "output_type": "execute_result"
    }
   ],
   "source": [
    "le=driver.find_elements_by_xpath(\"//li[@class='fleft grey-text br2 placeHolderLi location']/span[1]\")\n",
    "le[0:10]"
   ]
  },
  {
   "cell_type": "code",
   "execution_count": 62,
   "metadata": {},
   "outputs": [
    {
     "data": {
      "text/plain": [
       "['Chennai, Pune, Bengaluru, Hyderabad',\n",
       " 'Bengaluru',\n",
       " 'Bengaluru',\n",
       " 'Bengaluru',\n",
       " 'Bengaluru',\n",
       " 'Bengaluru',\n",
       " 'Bengaluru',\n",
       " 'Delhi NCR, Bengaluru, Anywhere in India',\n",
       " 'Bengaluru / Bangalore',\n",
       " 'Bengaluru']"
      ]
     },
     "execution_count": 62,
     "metadata": {},
     "output_type": "execute_result"
    }
   ],
   "source": [
    "for i in le:\n",
    "    ex=i.text\n",
    "    location.append(ex)\n",
    "\n",
    "location[0:10]"
   ]
  },
  {
   "cell_type": "code",
   "execution_count": 66,
   "metadata": {},
   "outputs": [],
   "source": [
    "d=pd.DataFrame({\"job\":job[0:5],\n",
    "                \"location\":location[0:5],\n",
    "                \"company\":company[0:5],\n",
    "                \"description\":description[0:5]})"
   ]
  },
  {
   "cell_type": "code",
   "execution_count": 67,
   "metadata": {},
   "outputs": [
    {
     "data": {
      "text/html": [
       "<div>\n",
       "<style scoped>\n",
       "    .dataframe tbody tr th:only-of-type {\n",
       "        vertical-align: middle;\n",
       "    }\n",
       "\n",
       "    .dataframe tbody tr th {\n",
       "        vertical-align: top;\n",
       "    }\n",
       "\n",
       "    .dataframe thead th {\n",
       "        text-align: right;\n",
       "    }\n",
       "</style>\n",
       "<table border=\"1\" class=\"dataframe\">\n",
       "  <thead>\n",
       "    <tr style=\"text-align: right;\">\n",
       "      <th></th>\n",
       "      <th>job</th>\n",
       "      <th>location</th>\n",
       "      <th>company</th>\n",
       "      <th>description</th>\n",
       "    </tr>\n",
       "  </thead>\n",
       "  <tbody>\n",
       "    <tr>\n",
       "      <th>0</th>\n",
       "      <td>Data Scientist/Data Analyst-immediate</td>\n",
       "      <td>Chennai, Pune, Bengaluru, Hyderabad</td>\n",
       "      <td>CAIA-Center For Artificial Intelligence &amp; Adva...</td>\n",
       "      <td>Dear Candidate\\n\\nSchedule a Telephonic Interv...</td>\n",
       "    </tr>\n",
       "    <tr>\n",
       "      <th>1</th>\n",
       "      <td>HCL hiring Data scientist with exp in machine ...</td>\n",
       "      <td>Bengaluru</td>\n",
       "      <td>HCL Technologies Limited</td>\n",
       "      <td>Dear Candidate,\\n\\nGreetings from HCL!!!\\nWe a...</td>\n",
       "    </tr>\n",
       "    <tr>\n",
       "      <th>2</th>\n",
       "      <td>Data Scientist - Machine Learning</td>\n",
       "      <td>Bengaluru</td>\n",
       "      <td>AugmatrixGo</td>\n",
       "      <td>Roles and Responsibilities\\n\\n\\n- Selecting fe...</td>\n",
       "    </tr>\n",
       "    <tr>\n",
       "      <th>3</th>\n",
       "      <td>Data Scientist - Machine Learning</td>\n",
       "      <td>Bengaluru</td>\n",
       "      <td>BLUE YONDER INDIA PRIVATE LIMITED</td>\n",
       "      <td>no description</td>\n",
       "    </tr>\n",
       "    <tr>\n",
       "      <th>4</th>\n",
       "      <td>Data Scientist - Machine Learning</td>\n",
       "      <td>Bengaluru</td>\n",
       "      <td>BLUE YONDER INDIA PRIVATE LIMITED</td>\n",
       "      <td>no description</td>\n",
       "    </tr>\n",
       "  </tbody>\n",
       "</table>\n",
       "</div>"
      ],
      "text/plain": [
       "                                                 job  \\\n",
       "0              Data Scientist/Data Analyst-immediate   \n",
       "1  HCL hiring Data scientist with exp in machine ...   \n",
       "2                  Data Scientist - Machine Learning   \n",
       "3                  Data Scientist - Machine Learning   \n",
       "4                  Data Scientist - Machine Learning   \n",
       "\n",
       "                              location  \\\n",
       "0  Chennai, Pune, Bengaluru, Hyderabad   \n",
       "1                            Bengaluru   \n",
       "2                            Bengaluru   \n",
       "3                            Bengaluru   \n",
       "4                            Bengaluru   \n",
       "\n",
       "                                             company  \\\n",
       "0  CAIA-Center For Artificial Intelligence & Adva...   \n",
       "1                           HCL Technologies Limited   \n",
       "2                                        AugmatrixGo   \n",
       "3                  BLUE YONDER INDIA PRIVATE LIMITED   \n",
       "4                  BLUE YONDER INDIA PRIVATE LIMITED   \n",
       "\n",
       "                                         description  \n",
       "0  Dear Candidate\\n\\nSchedule a Telephonic Interv...  \n",
       "1  Dear Candidate,\\n\\nGreetings from HCL!!!\\nWe a...  \n",
       "2  Roles and Responsibilities\\n\\n\\n- Selecting fe...  \n",
       "3                                     no description  \n",
       "4                                     no description  "
      ]
     },
     "execution_count": 67,
     "metadata": {},
     "output_type": "execute_result"
    }
   ],
   "source": [
    "d"
   ]
  },
  {
   "cell_type": "code",
   "execution_count": 68,
   "metadata": {},
   "outputs": [],
   "source": [
    "driver.close()"
   ]
  },
  {
   "cell_type": "markdown",
   "metadata": {},
   "source": [
    "#Q3: In this question you have to scrape data using the filters available on the webpage as shown below: \n",
    " \n",
    " \n",
    "You have to use the location and salary filter. You have to scrape data for “Data Scientist” designation for first 10 job results.  "
   ]
  },
  {
   "cell_type": "code",
   "execution_count": 2,
   "metadata": {},
   "outputs": [],
   "source": [
    "driver=webdriver.Chrome(r'C:\\Users\\MARJAN\\Desktop\\chromedriver.exe')"
   ]
  },
  {
   "cell_type": "code",
   "execution_count": 3,
   "metadata": {},
   "outputs": [],
   "source": [
    "url=\"https://www.naukri.com/data-scientist-jobs?k=data%20scientist&cityType=25.9.31&ctcFilter=3to6\""
   ]
  },
  {
   "cell_type": "code",
   "execution_count": 4,
   "metadata": {},
   "outputs": [],
   "source": [
    "driver.get(url)"
   ]
  },
  {
   "cell_type": "code",
   "execution_count": 5,
   "metadata": {},
   "outputs": [],
   "source": [
    "job=[]\n",
    "company=[]\n",
    "location=[]\n",
    "experience=[]"
   ]
  },
  {
   "cell_type": "code",
   "execution_count": 6,
   "metadata": {},
   "outputs": [
    {
     "data": {
      "text/plain": [
       "[<selenium.webdriver.remote.webelement.WebElement (session=\"0bfa75ee42b8dd3ca02d64c61273c07c\", element=\"83b06df6-f5b9-450f-b1fe-3f0516a3b0b2\")>,\n",
       " <selenium.webdriver.remote.webelement.WebElement (session=\"0bfa75ee42b8dd3ca02d64c61273c07c\", element=\"9530ac2e-38ba-45ab-aaa7-f57592ace38d\")>,\n",
       " <selenium.webdriver.remote.webelement.WebElement (session=\"0bfa75ee42b8dd3ca02d64c61273c07c\", element=\"7988f34d-dab7-419b-a432-9657fc1d70c1\")>,\n",
       " <selenium.webdriver.remote.webelement.WebElement (session=\"0bfa75ee42b8dd3ca02d64c61273c07c\", element=\"2022bcdd-5f35-48ca-9a29-d8a408607c91\")>,\n",
       " <selenium.webdriver.remote.webelement.WebElement (session=\"0bfa75ee42b8dd3ca02d64c61273c07c\", element=\"f17c7305-54ec-4a25-8cee-dabfc0e75982\")>,\n",
       " <selenium.webdriver.remote.webelement.WebElement (session=\"0bfa75ee42b8dd3ca02d64c61273c07c\", element=\"2d38be64-70eb-4b42-9ff4-bdcbf0d46582\")>,\n",
       " <selenium.webdriver.remote.webelement.WebElement (session=\"0bfa75ee42b8dd3ca02d64c61273c07c\", element=\"7c518061-6e1d-48ee-8e2c-b918cb5eae53\")>,\n",
       " <selenium.webdriver.remote.webelement.WebElement (session=\"0bfa75ee42b8dd3ca02d64c61273c07c\", element=\"9e458dda-07c2-44bc-a618-36d9ed740474\")>,\n",
       " <selenium.webdriver.remote.webelement.WebElement (session=\"0bfa75ee42b8dd3ca02d64c61273c07c\", element=\"c073b58f-865c-43da-a731-22212aa8421a\")>,\n",
       " <selenium.webdriver.remote.webelement.WebElement (session=\"0bfa75ee42b8dd3ca02d64c61273c07c\", element=\"42a8b279-5992-4ed4-b8e1-0c0888151a8a\")>]"
      ]
     },
     "execution_count": 6,
     "metadata": {},
     "output_type": "execute_result"
    }
   ],
   "source": [
    "title=driver.find_elements_by_xpath(\"//a[@class='title fw500 ellipsis']\")\n",
    "title[0:10]"
   ]
  },
  {
   "cell_type": "code",
   "execution_count": 7,
   "metadata": {},
   "outputs": [
    {
     "data": {
      "text/plain": [
       "['Data Scientist - Python/Machine Learning',\n",
       " 'Tech Mahindra hiring For Data Scientist- Noida',\n",
       " 'Data Scientist - Commercial Planning and Analysis',\n",
       " 'Data Scientist',\n",
       " 'Data Scientist - Machine Learning/ Artificial Intelligence - IT',\n",
       " 'GCP Skilled Analytics Resources (Data engineer / Data scientists)',\n",
       " 'Data Scientist',\n",
       " 'Data Scientist Machine Learning',\n",
       " 'Data Scientist',\n",
       " 'Business Analyst - Data Scientist']"
      ]
     },
     "execution_count": 7,
     "metadata": {},
     "output_type": "execute_result"
    }
   ],
   "source": [
    "for i in title:\n",
    "    t=i.text\n",
    "    job.append(t)\n",
    "    \n",
    "job[0:10]    "
   ]
  },
  {
   "cell_type": "code",
   "execution_count": 8,
   "metadata": {},
   "outputs": [
    {
     "data": {
      "text/plain": [
       "[<selenium.webdriver.remote.webelement.WebElement (session=\"0bfa75ee42b8dd3ca02d64c61273c07c\", element=\"92dbdc71-8493-4f0a-93fd-8532012523a3\")>,\n",
       " <selenium.webdriver.remote.webelement.WebElement (session=\"0bfa75ee42b8dd3ca02d64c61273c07c\", element=\"bfc72051-54c0-4f24-b59d-4c41e675feb7\")>,\n",
       " <selenium.webdriver.remote.webelement.WebElement (session=\"0bfa75ee42b8dd3ca02d64c61273c07c\", element=\"5a5ad8d6-b161-420c-9507-63e1ee084442\")>,\n",
       " <selenium.webdriver.remote.webelement.WebElement (session=\"0bfa75ee42b8dd3ca02d64c61273c07c\", element=\"74ad4f55-5f8f-47b5-9cc5-5553eb6b218b\")>,\n",
       " <selenium.webdriver.remote.webelement.WebElement (session=\"0bfa75ee42b8dd3ca02d64c61273c07c\", element=\"b8969d7d-3e05-4802-bf22-5028de93cc90\")>,\n",
       " <selenium.webdriver.remote.webelement.WebElement (session=\"0bfa75ee42b8dd3ca02d64c61273c07c\", element=\"94924d4a-10ef-4ea7-a791-4093ac2e9488\")>,\n",
       " <selenium.webdriver.remote.webelement.WebElement (session=\"0bfa75ee42b8dd3ca02d64c61273c07c\", element=\"13bb1c59-0930-4b74-b472-e83ba3159784\")>,\n",
       " <selenium.webdriver.remote.webelement.WebElement (session=\"0bfa75ee42b8dd3ca02d64c61273c07c\", element=\"83edd827-ef80-49eb-b97b-0204889d5ab0\")>,\n",
       " <selenium.webdriver.remote.webelement.WebElement (session=\"0bfa75ee42b8dd3ca02d64c61273c07c\", element=\"e93dd09e-a77e-4d52-84ea-b3e50fb959a9\")>,\n",
       " <selenium.webdriver.remote.webelement.WebElement (session=\"0bfa75ee42b8dd3ca02d64c61273c07c\", element=\"cdb4905f-44b4-40ec-a913-23b110b232ae\")>]"
      ]
     },
     "execution_count": 8,
     "metadata": {},
     "output_type": "execute_result"
    }
   ],
   "source": [
    "companies_tags=driver.find_elements_by_xpath(\"//a[@class='subTitle ellipsis fleft']\")\n",
    "companies_tags[0:10]"
   ]
  },
  {
   "cell_type": "code",
   "execution_count": 9,
   "metadata": {},
   "outputs": [
    {
     "data": {
      "text/plain": [
       "['Jubna',\n",
       " 'tech mahindra ltd',\n",
       " 'Air Asia India Limited',\n",
       " 'Amity University',\n",
       " 'Talent Acceleration Corridor',\n",
       " 'Aerial Telecom Solutions Pvt. Ltd.',\n",
       " 'IBM India Pvt. Limited',\n",
       " 'Delhivery',\n",
       " 'Eighteen Pixels India Private Limited',\n",
       " 'HyreFox Consultants Pvt Ltd']"
      ]
     },
     "execution_count": 9,
     "metadata": {},
     "output_type": "execute_result"
    }
   ],
   "source": [
    "for i in companies_tags:\n",
    "    company_name=i.text\n",
    "    company.append(company_name)\n",
    "\n",
    "company[0:10]"
   ]
  },
  {
   "cell_type": "code",
   "execution_count": 10,
   "metadata": {},
   "outputs": [
    {
     "data": {
      "text/plain": [
       "[<selenium.webdriver.remote.webelement.WebElement (session=\"0bfa75ee42b8dd3ca02d64c61273c07c\", element=\"1712572f-181a-40e4-bf4f-3e2798dbc127\")>,\n",
       " <selenium.webdriver.remote.webelement.WebElement (session=\"0bfa75ee42b8dd3ca02d64c61273c07c\", element=\"d1aefc98-54e0-46ae-9379-e54a5defb6f8\")>,\n",
       " <selenium.webdriver.remote.webelement.WebElement (session=\"0bfa75ee42b8dd3ca02d64c61273c07c\", element=\"d62e57b9-94ea-4491-9a19-cd0e52ae4a4b\")>,\n",
       " <selenium.webdriver.remote.webelement.WebElement (session=\"0bfa75ee42b8dd3ca02d64c61273c07c\", element=\"bbb1cc23-72b9-481d-b381-3ad999205459\")>,\n",
       " <selenium.webdriver.remote.webelement.WebElement (session=\"0bfa75ee42b8dd3ca02d64c61273c07c\", element=\"16a3d8d8-e340-4707-9a36-96473d117dfe\")>,\n",
       " <selenium.webdriver.remote.webelement.WebElement (session=\"0bfa75ee42b8dd3ca02d64c61273c07c\", element=\"932a2caf-de10-42c4-86e8-ebf3aee38b30\")>,\n",
       " <selenium.webdriver.remote.webelement.WebElement (session=\"0bfa75ee42b8dd3ca02d64c61273c07c\", element=\"fde3f3f4-fbe3-4d73-8670-9639c5ffe644\")>,\n",
       " <selenium.webdriver.remote.webelement.WebElement (session=\"0bfa75ee42b8dd3ca02d64c61273c07c\", element=\"ecc09059-29eb-40cf-bb4d-f3217ed607f6\")>,\n",
       " <selenium.webdriver.remote.webelement.WebElement (session=\"0bfa75ee42b8dd3ca02d64c61273c07c\", element=\"fd8af17d-b04e-4f74-a6f6-90a23598ebcb\")>,\n",
       " <selenium.webdriver.remote.webelement.WebElement (session=\"0bfa75ee42b8dd3ca02d64c61273c07c\", element=\"4a217aca-4259-4b0c-8c07-a70bc75d5572\")>]"
      ]
     },
     "execution_count": 10,
     "metadata": {},
     "output_type": "execute_result"
    }
   ],
   "source": [
    "e=driver.find_elements_by_xpath(\"//li[@class='fleft grey-text br2 placeHolderLi experience']/span[1]\")\n",
    "e[0:10]"
   ]
  },
  {
   "cell_type": "code",
   "execution_count": 11,
   "metadata": {},
   "outputs": [
    {
     "data": {
      "text/plain": [
       "['5-8 Yrs',\n",
       " '5-10 Yrs',\n",
       " '1-6 Yrs',\n",
       " '6-8 Yrs',\n",
       " '6-11 Yrs',\n",
       " '3-8 Yrs',\n",
       " '3-5 Yrs',\n",
       " '1-3 Yrs',\n",
       " '2-6 Yrs',\n",
       " '3-5 Yrs']"
      ]
     },
     "execution_count": 11,
     "metadata": {},
     "output_type": "execute_result"
    }
   ],
   "source": [
    "for i in e:\n",
    "    ex=i.text\n",
    "    experience.append(ex)\n",
    "\n",
    "experience[0:10]"
   ]
  },
  {
   "cell_type": "code",
   "execution_count": 12,
   "metadata": {},
   "outputs": [
    {
     "data": {
      "text/plain": [
       "[<selenium.webdriver.remote.webelement.WebElement (session=\"0bfa75ee42b8dd3ca02d64c61273c07c\", element=\"13e9e913-a479-4c56-b999-291ae9adb135\")>,\n",
       " <selenium.webdriver.remote.webelement.WebElement (session=\"0bfa75ee42b8dd3ca02d64c61273c07c\", element=\"c61bf177-e1fe-4c6d-a362-f4999d68523f\")>,\n",
       " <selenium.webdriver.remote.webelement.WebElement (session=\"0bfa75ee42b8dd3ca02d64c61273c07c\", element=\"1a757d57-6152-4895-a927-f934df27c33b\")>,\n",
       " <selenium.webdriver.remote.webelement.WebElement (session=\"0bfa75ee42b8dd3ca02d64c61273c07c\", element=\"d7556457-7e9c-402a-8292-7bd7922e0631\")>,\n",
       " <selenium.webdriver.remote.webelement.WebElement (session=\"0bfa75ee42b8dd3ca02d64c61273c07c\", element=\"398370b2-d0c5-4d39-929c-775ac584b0ff\")>,\n",
       " <selenium.webdriver.remote.webelement.WebElement (session=\"0bfa75ee42b8dd3ca02d64c61273c07c\", element=\"f42c71d3-84f4-4904-a8c1-126481a631da\")>,\n",
       " <selenium.webdriver.remote.webelement.WebElement (session=\"0bfa75ee42b8dd3ca02d64c61273c07c\", element=\"654daa99-b421-4952-acbb-46fed015c9f0\")>,\n",
       " <selenium.webdriver.remote.webelement.WebElement (session=\"0bfa75ee42b8dd3ca02d64c61273c07c\", element=\"713be775-1d52-4d1a-af7b-246710a7b8a6\")>,\n",
       " <selenium.webdriver.remote.webelement.WebElement (session=\"0bfa75ee42b8dd3ca02d64c61273c07c\", element=\"329f7d02-0983-433e-8250-b50a80c7f055\")>,\n",
       " <selenium.webdriver.remote.webelement.WebElement (session=\"0bfa75ee42b8dd3ca02d64c61273c07c\", element=\"e8e391e4-a2f5-46e5-89cf-16827a4f7c94\")>]"
      ]
     },
     "execution_count": 12,
     "metadata": {},
     "output_type": "execute_result"
    }
   ],
   "source": [
    "l=driver.find_elements_by_xpath(\"//li[@class='fleft grey-text br2 placeHolderLi location']/span[1]\")\n",
    "l[0:10]"
   ]
  },
  {
   "cell_type": "code",
   "execution_count": 13,
   "metadata": {},
   "outputs": [
    {
     "data": {
      "text/plain": [
       "['Noida',\n",
       " 'Noida',\n",
       " 'Delhi NCR, Gurgaon',\n",
       " 'Faridabad, Delhi NCR, Ghaziabad',\n",
       " 'Delhi/NCR Delhi NCR, Noida',\n",
       " 'Pune, Bengaluru, Gurgaon',\n",
       " 'Gurgaon Gurugram',\n",
       " 'Gurgaon',\n",
       " 'Delhi NCR',\n",
       " 'Gurgaon']"
      ]
     },
     "execution_count": 13,
     "metadata": {},
     "output_type": "execute_result"
    }
   ],
   "source": [
    "for i in l:\n",
    "    ex=i.text\n",
    "    location.append(ex)\n",
    "\n",
    "location[0:10]"
   ]
  },
  {
   "cell_type": "code",
   "execution_count": 14,
   "metadata": {},
   "outputs": [],
   "source": [
    "df=pd.DataFrame({\"job\":job[0:10],\n",
    "                \"location\":location[0:10],\n",
    "                \"company\":company[0:10],\n",
    "                \"experience\":experience[0:10]})"
   ]
  },
  {
   "cell_type": "code",
   "execution_count": 15,
   "metadata": {},
   "outputs": [
    {
     "data": {
      "text/html": [
       "<div>\n",
       "<style scoped>\n",
       "    .dataframe tbody tr th:only-of-type {\n",
       "        vertical-align: middle;\n",
       "    }\n",
       "\n",
       "    .dataframe tbody tr th {\n",
       "        vertical-align: top;\n",
       "    }\n",
       "\n",
       "    .dataframe thead th {\n",
       "        text-align: right;\n",
       "    }\n",
       "</style>\n",
       "<table border=\"1\" class=\"dataframe\">\n",
       "  <thead>\n",
       "    <tr style=\"text-align: right;\">\n",
       "      <th></th>\n",
       "      <th>job</th>\n",
       "      <th>location</th>\n",
       "      <th>company</th>\n",
       "      <th>experience</th>\n",
       "    </tr>\n",
       "  </thead>\n",
       "  <tbody>\n",
       "    <tr>\n",
       "      <th>0</th>\n",
       "      <td>Data Scientist - Python/Machine Learning</td>\n",
       "      <td>Noida</td>\n",
       "      <td>Jubna</td>\n",
       "      <td>5-8 Yrs</td>\n",
       "    </tr>\n",
       "    <tr>\n",
       "      <th>1</th>\n",
       "      <td>Tech Mahindra hiring For Data Scientist- Noida</td>\n",
       "      <td>Noida</td>\n",
       "      <td>tech mahindra ltd</td>\n",
       "      <td>5-10 Yrs</td>\n",
       "    </tr>\n",
       "    <tr>\n",
       "      <th>2</th>\n",
       "      <td>Data Scientist - Commercial Planning and Analysis</td>\n",
       "      <td>Delhi NCR, Gurgaon</td>\n",
       "      <td>Air Asia India Limited</td>\n",
       "      <td>1-6 Yrs</td>\n",
       "    </tr>\n",
       "    <tr>\n",
       "      <th>3</th>\n",
       "      <td>Data Scientist</td>\n",
       "      <td>Faridabad, Delhi NCR, Ghaziabad</td>\n",
       "      <td>Amity University</td>\n",
       "      <td>6-8 Yrs</td>\n",
       "    </tr>\n",
       "    <tr>\n",
       "      <th>4</th>\n",
       "      <td>Data Scientist - Machine Learning/ Artificial ...</td>\n",
       "      <td>Delhi/NCR Delhi NCR, Noida</td>\n",
       "      <td>Talent Acceleration Corridor</td>\n",
       "      <td>6-11 Yrs</td>\n",
       "    </tr>\n",
       "    <tr>\n",
       "      <th>5</th>\n",
       "      <td>GCP Skilled Analytics Resources (Data engineer...</td>\n",
       "      <td>Pune, Bengaluru, Gurgaon</td>\n",
       "      <td>Aerial Telecom Solutions Pvt. Ltd.</td>\n",
       "      <td>3-8 Yrs</td>\n",
       "    </tr>\n",
       "    <tr>\n",
       "      <th>6</th>\n",
       "      <td>Data Scientist</td>\n",
       "      <td>Gurgaon Gurugram</td>\n",
       "      <td>IBM India Pvt. Limited</td>\n",
       "      <td>3-5 Yrs</td>\n",
       "    </tr>\n",
       "    <tr>\n",
       "      <th>7</th>\n",
       "      <td>Data Scientist Machine Learning</td>\n",
       "      <td>Gurgaon</td>\n",
       "      <td>Delhivery</td>\n",
       "      <td>1-3 Yrs</td>\n",
       "    </tr>\n",
       "    <tr>\n",
       "      <th>8</th>\n",
       "      <td>Data Scientist</td>\n",
       "      <td>Delhi NCR</td>\n",
       "      <td>Eighteen Pixels India Private Limited</td>\n",
       "      <td>2-6 Yrs</td>\n",
       "    </tr>\n",
       "    <tr>\n",
       "      <th>9</th>\n",
       "      <td>Business Analyst - Data Scientist</td>\n",
       "      <td>Gurgaon</td>\n",
       "      <td>HyreFox Consultants Pvt Ltd</td>\n",
       "      <td>3-5 Yrs</td>\n",
       "    </tr>\n",
       "  </tbody>\n",
       "</table>\n",
       "</div>"
      ],
      "text/plain": [
       "                                                 job  \\\n",
       "0           Data Scientist - Python/Machine Learning   \n",
       "1     Tech Mahindra hiring For Data Scientist- Noida   \n",
       "2  Data Scientist - Commercial Planning and Analysis   \n",
       "3                                     Data Scientist   \n",
       "4  Data Scientist - Machine Learning/ Artificial ...   \n",
       "5  GCP Skilled Analytics Resources (Data engineer...   \n",
       "6                                     Data Scientist   \n",
       "7                    Data Scientist Machine Learning   \n",
       "8                                     Data Scientist   \n",
       "9                  Business Analyst - Data Scientist   \n",
       "\n",
       "                          location                                company  \\\n",
       "0                            Noida                                  Jubna   \n",
       "1                            Noida                      tech mahindra ltd   \n",
       "2               Delhi NCR, Gurgaon                 Air Asia India Limited   \n",
       "3  Faridabad, Delhi NCR, Ghaziabad                       Amity University   \n",
       "4       Delhi/NCR Delhi NCR, Noida           Talent Acceleration Corridor   \n",
       "5         Pune, Bengaluru, Gurgaon     Aerial Telecom Solutions Pvt. Ltd.   \n",
       "6                 Gurgaon Gurugram                 IBM India Pvt. Limited   \n",
       "7                          Gurgaon                              Delhivery   \n",
       "8                        Delhi NCR  Eighteen Pixels India Private Limited   \n",
       "9                          Gurgaon            HyreFox Consultants Pvt Ltd   \n",
       "\n",
       "  experience  \n",
       "0    5-8 Yrs  \n",
       "1   5-10 Yrs  \n",
       "2    1-6 Yrs  \n",
       "3    6-8 Yrs  \n",
       "4   6-11 Yrs  \n",
       "5    3-8 Yrs  \n",
       "6    3-5 Yrs  \n",
       "7    1-3 Yrs  \n",
       "8    2-6 Yrs  \n",
       "9    3-5 Yrs  "
      ]
     },
     "execution_count": 15,
     "metadata": {},
     "output_type": "execute_result"
    }
   ],
   "source": [
    "df"
   ]
  },
  {
   "cell_type": "code",
   "execution_count": 16,
   "metadata": {},
   "outputs": [],
   "source": [
    "driver.close()"
   ]
  },
  {
   "cell_type": "markdown",
   "metadata": {},
   "source": [
    "#Q4: Write a python program to scrape data for first 10 job results for Data scientist Designation in Noida location. You have to scrape company_name, No. of days ago when job was posted, Rating of the company. "
   ]
  },
  {
   "cell_type": "code",
   "execution_count": 18,
   "metadata": {},
   "outputs": [],
   "source": [
    "driver=webdriver.Chrome(r'C:\\Users\\MARJAN\\Desktop\\chromedriver.exe')"
   ]
  },
  {
   "cell_type": "code",
   "execution_count": 19,
   "metadata": {},
   "outputs": [],
   "source": [
    "url=\"https://www.glassdoor.co.in/Job/noida-data-scientist-jobs-SRCH_IL.0,5_IC4477468_KO6,20.htm\""
   ]
  },
  {
   "cell_type": "code",
   "execution_count": 20,
   "metadata": {},
   "outputs": [],
   "source": [
    "driver.get(url)"
   ]
  },
  {
   "cell_type": "code",
   "execution_count": 21,
   "metadata": {},
   "outputs": [],
   "source": [
    "comp=[]\n",
    "days_ago=[]\n",
    "rating=[]"
   ]
  },
  {
   "cell_type": "code",
   "execution_count": 22,
   "metadata": {},
   "outputs": [
    {
     "data": {
      "text/plain": [
       "[<selenium.webdriver.remote.webelement.WebElement (session=\"92bd6fbf63eb1820c5f8cb6cbde6a375\", element=\"6adb987a-e792-411e-a256-fe38bd9d15c9\")>,\n",
       " <selenium.webdriver.remote.webelement.WebElement (session=\"92bd6fbf63eb1820c5f8cb6cbde6a375\", element=\"8cce8234-83e7-4705-b9c1-e727a50b675b\")>,\n",
       " <selenium.webdriver.remote.webelement.WebElement (session=\"92bd6fbf63eb1820c5f8cb6cbde6a375\", element=\"bf3258a1-e3e8-4109-b374-614de33558fe\")>,\n",
       " <selenium.webdriver.remote.webelement.WebElement (session=\"92bd6fbf63eb1820c5f8cb6cbde6a375\", element=\"897e4248-b741-447e-bf10-8e404fcb098d\")>,\n",
       " <selenium.webdriver.remote.webelement.WebElement (session=\"92bd6fbf63eb1820c5f8cb6cbde6a375\", element=\"3ce3c332-ad29-4156-806f-66031493c514\")>,\n",
       " <selenium.webdriver.remote.webelement.WebElement (session=\"92bd6fbf63eb1820c5f8cb6cbde6a375\", element=\"e4dfd599-73ee-4f1c-b8ed-3a14a337208f\")>,\n",
       " <selenium.webdriver.remote.webelement.WebElement (session=\"92bd6fbf63eb1820c5f8cb6cbde6a375\", element=\"44242c08-65e8-4e0e-9ffa-b740344516be\")>,\n",
       " <selenium.webdriver.remote.webelement.WebElement (session=\"92bd6fbf63eb1820c5f8cb6cbde6a375\", element=\"3c018206-7085-4aa0-b126-b9fe564f23d3\")>,\n",
       " <selenium.webdriver.remote.webelement.WebElement (session=\"92bd6fbf63eb1820c5f8cb6cbde6a375\", element=\"0f42dd30-413a-48f4-abc3-33725e107a09\")>,\n",
       " <selenium.webdriver.remote.webelement.WebElement (session=\"92bd6fbf63eb1820c5f8cb6cbde6a375\", element=\"2bda7804-43b8-4884-8b8a-02c31aedc3e6\")>]"
      ]
     },
     "execution_count": 22,
     "metadata": {},
     "output_type": "execute_result"
    }
   ],
   "source": [
    "com=driver.find_elements_by_xpath(\"//div[@class='jobHeader d-flex justify-content-between align-items-start']/a\")\n",
    "com[0:10]"
   ]
  },
  {
   "cell_type": "code",
   "execution_count": 23,
   "metadata": {},
   "outputs": [
    {
     "data": {
      "text/plain": [
       "['QuantumIT',\n",
       " 'Biz2Credit Inc',\n",
       " 'Salasar New Age Technologies',\n",
       " 'Techlive',\n",
       " 'Emerging India Group',\n",
       " 'Dürr Somac GmbH',\n",
       " 'Salasar New Age Technologies',\n",
       " 'Dürr AG',\n",
       " 'SearchUrCollege',\n",
       " 'WSD Consultant']"
      ]
     },
     "execution_count": 23,
     "metadata": {},
     "output_type": "execute_result"
    }
   ],
   "source": [
    "for i in com:\n",
    "    ex=i.text\n",
    "    comp.append(ex)\n",
    "\n",
    "comp[0:10]"
   ]
  },
  {
   "cell_type": "code",
   "execution_count": 24,
   "metadata": {},
   "outputs": [
    {
     "data": {
      "text/plain": [
       "[<selenium.webdriver.remote.webelement.WebElement (session=\"92bd6fbf63eb1820c5f8cb6cbde6a375\", element=\"2b9fe4ba-6d1c-4db3-8dc4-b45386b01089\")>,\n",
       " <selenium.webdriver.remote.webelement.WebElement (session=\"92bd6fbf63eb1820c5f8cb6cbde6a375\", element=\"28221f7d-1950-47e8-bac3-45344b419d16\")>,\n",
       " <selenium.webdriver.remote.webelement.WebElement (session=\"92bd6fbf63eb1820c5f8cb6cbde6a375\", element=\"d7fae6e5-ab70-45e1-a34c-316d2ec735d3\")>,\n",
       " <selenium.webdriver.remote.webelement.WebElement (session=\"92bd6fbf63eb1820c5f8cb6cbde6a375\", element=\"775a152e-3f15-4c41-be79-dd91fe84612b\")>,\n",
       " <selenium.webdriver.remote.webelement.WebElement (session=\"92bd6fbf63eb1820c5f8cb6cbde6a375\", element=\"48b747c6-078f-4892-97e8-2cdb95827c47\")>,\n",
       " <selenium.webdriver.remote.webelement.WebElement (session=\"92bd6fbf63eb1820c5f8cb6cbde6a375\", element=\"62cf8c30-191b-4b46-9fd1-279765144f22\")>,\n",
       " <selenium.webdriver.remote.webelement.WebElement (session=\"92bd6fbf63eb1820c5f8cb6cbde6a375\", element=\"812d0fb4-df09-4706-b705-11f52b58e973\")>,\n",
       " <selenium.webdriver.remote.webelement.WebElement (session=\"92bd6fbf63eb1820c5f8cb6cbde6a375\", element=\"edac15f8-511a-442d-91b2-358af1c40cb5\")>,\n",
       " <selenium.webdriver.remote.webelement.WebElement (session=\"92bd6fbf63eb1820c5f8cb6cbde6a375\", element=\"f86d9465-ef5a-4c97-a404-488762933d47\")>,\n",
       " <selenium.webdriver.remote.webelement.WebElement (session=\"92bd6fbf63eb1820c5f8cb6cbde6a375\", element=\"4b3bc4e5-7760-44a6-b5d3-3e0692d8a2fd\")>]"
      ]
     },
     "execution_count": 24,
     "metadata": {},
     "output_type": "execute_result"
    }
   ],
   "source": [
    "days=driver.find_elements_by_xpath(\"//div[@class='d-flex align-items-end pl-std css-mi55ob']\")\n",
    "days[0:10]"
   ]
  },
  {
   "cell_type": "code",
   "execution_count": 25,
   "metadata": {},
   "outputs": [
    {
     "data": {
      "text/plain": [
       "['9d', '30d+', '30d+', '30d+', '20d', '30d+', '30d+', '30d+', '30d+', '30d+']"
      ]
     },
     "execution_count": 25,
     "metadata": {},
     "output_type": "execute_result"
    }
   ],
   "source": [
    "for i in days:\n",
    "    ex=i.text\n",
    "    days_ago.append(ex)\n",
    "\n",
    "days_ago[0:10]"
   ]
  },
  {
   "cell_type": "code",
   "execution_count": 26,
   "metadata": {},
   "outputs": [
    {
     "data": {
      "text/plain": [
       "[<selenium.webdriver.remote.webelement.WebElement (session=\"92bd6fbf63eb1820c5f8cb6cbde6a375\", element=\"bd175d3a-dd84-4ce8-9c9d-89530e4d6c07\")>,\n",
       " <selenium.webdriver.remote.webelement.WebElement (session=\"92bd6fbf63eb1820c5f8cb6cbde6a375\", element=\"034891d6-c55b-4f53-96fc-84ce6ec5c372\")>,\n",
       " <selenium.webdriver.remote.webelement.WebElement (session=\"92bd6fbf63eb1820c5f8cb6cbde6a375\", element=\"6b205231-8ff3-48f6-b70c-7cfe47093941\")>,\n",
       " <selenium.webdriver.remote.webelement.WebElement (session=\"92bd6fbf63eb1820c5f8cb6cbde6a375\", element=\"d5f72e0a-1a82-4c39-83b2-b4f4a5b67da0\")>,\n",
       " <selenium.webdriver.remote.webelement.WebElement (session=\"92bd6fbf63eb1820c5f8cb6cbde6a375\", element=\"5ca904f4-36d6-478a-b665-0d768e634a95\")>,\n",
       " <selenium.webdriver.remote.webelement.WebElement (session=\"92bd6fbf63eb1820c5f8cb6cbde6a375\", element=\"fc8e78d8-f8ff-451b-b405-eed230cd1e96\")>,\n",
       " <selenium.webdriver.remote.webelement.WebElement (session=\"92bd6fbf63eb1820c5f8cb6cbde6a375\", element=\"ea1b81d2-b280-4b4b-889b-a3e1a5e03015\")>,\n",
       " <selenium.webdriver.remote.webelement.WebElement (session=\"92bd6fbf63eb1820c5f8cb6cbde6a375\", element=\"28c7cb28-3d3a-4a88-8311-110d9c3758ba\")>,\n",
       " <selenium.webdriver.remote.webelement.WebElement (session=\"92bd6fbf63eb1820c5f8cb6cbde6a375\", element=\"5ad91815-ff37-4eda-9683-67bf66267567\")>,\n",
       " <selenium.webdriver.remote.webelement.WebElement (session=\"92bd6fbf63eb1820c5f8cb6cbde6a375\", element=\"20564bc4-214b-4fcf-8c8f-ee667c4cce1e\")>]"
      ]
     },
     "execution_count": 26,
     "metadata": {},
     "output_type": "execute_result"
    }
   ],
   "source": [
    "rate=driver.find_elements_by_xpath(\"//span[@class='compactStars ']\")\n",
    "rate[0:10]"
   ]
  },
  {
   "cell_type": "code",
   "execution_count": 27,
   "metadata": {},
   "outputs": [
    {
     "data": {
      "text/plain": [
       "['3.3', '3.7', '5', '3.6', '3.8', '4.4', '3.9', '3', '3.9', '4.2']"
      ]
     },
     "execution_count": 27,
     "metadata": {},
     "output_type": "execute_result"
    }
   ],
   "source": [
    "for i in rate:\n",
    "    ex=i.text\n",
    "    rating.append(ex)\n",
    "\n",
    "rating[0:10]"
   ]
  },
  {
   "cell_type": "code",
   "execution_count": 28,
   "metadata": {},
   "outputs": [],
   "source": [
    "df=pd.DataFrame({\"Company\":comp[0:10],\n",
    "                \"Days ago posted\":days_ago[0:10],\n",
    "                \"rating\":rating[0:10],\n",
    "                })"
   ]
  },
  {
   "cell_type": "code",
   "execution_count": 29,
   "metadata": {},
   "outputs": [
    {
     "data": {
      "text/html": [
       "<div>\n",
       "<style scoped>\n",
       "    .dataframe tbody tr th:only-of-type {\n",
       "        vertical-align: middle;\n",
       "    }\n",
       "\n",
       "    .dataframe tbody tr th {\n",
       "        vertical-align: top;\n",
       "    }\n",
       "\n",
       "    .dataframe thead th {\n",
       "        text-align: right;\n",
       "    }\n",
       "</style>\n",
       "<table border=\"1\" class=\"dataframe\">\n",
       "  <thead>\n",
       "    <tr style=\"text-align: right;\">\n",
       "      <th></th>\n",
       "      <th>Company</th>\n",
       "      <th>Days ago posted</th>\n",
       "      <th>rating</th>\n",
       "    </tr>\n",
       "  </thead>\n",
       "  <tbody>\n",
       "    <tr>\n",
       "      <th>0</th>\n",
       "      <td>QuantumIT</td>\n",
       "      <td>9d</td>\n",
       "      <td>3.3</td>\n",
       "    </tr>\n",
       "    <tr>\n",
       "      <th>1</th>\n",
       "      <td>Biz2Credit Inc</td>\n",
       "      <td>30d+</td>\n",
       "      <td>3.7</td>\n",
       "    </tr>\n",
       "    <tr>\n",
       "      <th>2</th>\n",
       "      <td>Salasar New Age Technologies</td>\n",
       "      <td>30d+</td>\n",
       "      <td>5</td>\n",
       "    </tr>\n",
       "    <tr>\n",
       "      <th>3</th>\n",
       "      <td>Techlive</td>\n",
       "      <td>30d+</td>\n",
       "      <td>3.6</td>\n",
       "    </tr>\n",
       "    <tr>\n",
       "      <th>4</th>\n",
       "      <td>Emerging India Group</td>\n",
       "      <td>20d</td>\n",
       "      <td>3.8</td>\n",
       "    </tr>\n",
       "    <tr>\n",
       "      <th>5</th>\n",
       "      <td>Dürr Somac GmbH</td>\n",
       "      <td>30d+</td>\n",
       "      <td>4.4</td>\n",
       "    </tr>\n",
       "    <tr>\n",
       "      <th>6</th>\n",
       "      <td>Salasar New Age Technologies</td>\n",
       "      <td>30d+</td>\n",
       "      <td>3.9</td>\n",
       "    </tr>\n",
       "    <tr>\n",
       "      <th>7</th>\n",
       "      <td>Dürr AG</td>\n",
       "      <td>30d+</td>\n",
       "      <td>3</td>\n",
       "    </tr>\n",
       "    <tr>\n",
       "      <th>8</th>\n",
       "      <td>SearchUrCollege</td>\n",
       "      <td>30d+</td>\n",
       "      <td>3.9</td>\n",
       "    </tr>\n",
       "    <tr>\n",
       "      <th>9</th>\n",
       "      <td>WSD Consultant</td>\n",
       "      <td>30d+</td>\n",
       "      <td>4.2</td>\n",
       "    </tr>\n",
       "  </tbody>\n",
       "</table>\n",
       "</div>"
      ],
      "text/plain": [
       "                        Company Days ago posted rating\n",
       "0                     QuantumIT              9d    3.3\n",
       "1                Biz2Credit Inc            30d+    3.7\n",
       "2  Salasar New Age Technologies            30d+      5\n",
       "3                      Techlive            30d+    3.6\n",
       "4          Emerging India Group             20d    3.8\n",
       "5               Dürr Somac GmbH            30d+    4.4\n",
       "6  Salasar New Age Technologies            30d+    3.9\n",
       "7                       Dürr AG            30d+      3\n",
       "8               SearchUrCollege            30d+    3.9\n",
       "9                WSD Consultant            30d+    4.2"
      ]
     },
     "execution_count": 29,
     "metadata": {},
     "output_type": "execute_result"
    }
   ],
   "source": [
    "df"
   ]
  },
  {
   "cell_type": "code",
   "execution_count": 30,
   "metadata": {},
   "outputs": [],
   "source": [
    "driver.close()"
   ]
  },
  {
   "cell_type": "markdown",
   "metadata": {},
   "source": [
    "# Q5: Write a python program to scrape the salary data for Data Scientist designation in Noida location. You have to scrape Company name, Number of salaries, Average salary, Min salary, Max Salary."
   ]
  },
  {
   "cell_type": "code",
   "execution_count": 9,
   "metadata": {},
   "outputs": [],
   "source": [
    "driver=webdriver.Chrome(r'C:\\Users\\MARJAN\\Desktop\\chromedriver.exe')"
   ]
  },
  {
   "cell_type": "code",
   "execution_count": 10,
   "metadata": {},
   "outputs": [],
   "source": [
    "url=\"https://www.glassdoor.co.in/Salaries/new-delhi-data-scientist-salary-SRCH_IL.0,9_IM1083_KO10,24.htm?clickSource=searchBtn\""
   ]
  },
  {
   "cell_type": "code",
   "execution_count": 11,
   "metadata": {},
   "outputs": [],
   "source": [
    "driver.get(url)"
   ]
  },
  {
   "cell_type": "code",
   "execution_count": 23,
   "metadata": {},
   "outputs": [],
   "source": [
    "company=[]\n",
    "minimum=[]\n",
    "maximum=[]\n",
    "average=[]\n",
    "number=[]"
   ]
  },
  {
   "cell_type": "code",
   "execution_count": 27,
   "metadata": {},
   "outputs": [
    {
     "data": {
      "text/plain": [
       "[<selenium.webdriver.remote.webelement.WebElement (session=\"2af70870369daf1b296227640c8a6a47\", element=\"84022cf7-032b-4b97-b24d-3db00a5239c9\")>,\n",
       " <selenium.webdriver.remote.webelement.WebElement (session=\"2af70870369daf1b296227640c8a6a47\", element=\"ca8abb16-4589-486b-9f7c-b470927d021d\")>,\n",
       " <selenium.webdriver.remote.webelement.WebElement (session=\"2af70870369daf1b296227640c8a6a47\", element=\"55d6082c-e41b-41e3-a14c-3f9fce5d0878\")>,\n",
       " <selenium.webdriver.remote.webelement.WebElement (session=\"2af70870369daf1b296227640c8a6a47\", element=\"8eb37c23-4345-4702-a9b5-db140c6935fa\")>,\n",
       " <selenium.webdriver.remote.webelement.WebElement (session=\"2af70870369daf1b296227640c8a6a47\", element=\"acbe11ec-2050-40a8-8504-353cafab0c7e\")>,\n",
       " <selenium.webdriver.remote.webelement.WebElement (session=\"2af70870369daf1b296227640c8a6a47\", element=\"e8a5ef98-a859-4a23-99aa-d8bec90f9293\")>,\n",
       " <selenium.webdriver.remote.webelement.WebElement (session=\"2af70870369daf1b296227640c8a6a47\", element=\"5613a789-fb7b-48c7-887e-1a9e04648406\")>,\n",
       " <selenium.webdriver.remote.webelement.WebElement (session=\"2af70870369daf1b296227640c8a6a47\", element=\"429550d7-959c-4727-9c44-093170c80b8d\")>,\n",
       " <selenium.webdriver.remote.webelement.WebElement (session=\"2af70870369daf1b296227640c8a6a47\", element=\"f28d6178-05fe-4d64-a939-bb1386089720\")>,\n",
       " <selenium.webdriver.remote.webelement.WebElement (session=\"2af70870369daf1b296227640c8a6a47\", element=\"e641833f-408a-4603-b62d-6e751143dafd\")>]"
      ]
     },
     "execution_count": 27,
     "metadata": {},
     "output_type": "execute_result"
    }
   ],
   "source": [
    "com=driver.find_elements_by_xpath(\"//p[@class='m-0 ']\")\n",
    "com[0:10]"
   ]
  },
  {
   "cell_type": "code",
   "execution_count": 28,
   "metadata": {},
   "outputs": [
    {
     "data": {
      "text/plain": [
       "['Delhivery',\n",
       " 'Accenture',\n",
       " 'Ericsson-Worldwide',\n",
       " 'Tata Consultancy Services',\n",
       " 'IBM',\n",
       " 'UnitedHealth Group',\n",
       " 'Valiance Solutions',\n",
       " 'Innovaccer',\n",
       " 'Cognizant Technology Solutions',\n",
       " 'ZS Associates']"
      ]
     },
     "execution_count": 28,
     "metadata": {},
     "output_type": "execute_result"
    }
   ],
   "source": [
    "for i in com:\n",
    "    ex=i.text\n",
    "    company.append(ex)\n",
    "\n",
    "company[0:10]"
   ]
  },
  {
   "cell_type": "code",
   "execution_count": 29,
   "metadata": {},
   "outputs": [
    {
     "data": {
      "text/plain": [
       "[<selenium.webdriver.remote.webelement.WebElement (session=\"2af70870369daf1b296227640c8a6a47\", element=\"6f425c77-6d47-457b-947f-827b1b98168c\")>,\n",
       " <selenium.webdriver.remote.webelement.WebElement (session=\"2af70870369daf1b296227640c8a6a47\", element=\"576ba40e-8a0c-4e29-a524-03b004d747b3\")>,\n",
       " <selenium.webdriver.remote.webelement.WebElement (session=\"2af70870369daf1b296227640c8a6a47\", element=\"e744740e-a7b4-4c58-ad0c-e3af2da1fe84\")>,\n",
       " <selenium.webdriver.remote.webelement.WebElement (session=\"2af70870369daf1b296227640c8a6a47\", element=\"11ce401d-93d6-43bc-8824-1a5f2858696e\")>,\n",
       " <selenium.webdriver.remote.webelement.WebElement (session=\"2af70870369daf1b296227640c8a6a47\", element=\"b01ff8b8-73c7-4c5d-8541-41f1e19803f8\")>,\n",
       " <selenium.webdriver.remote.webelement.WebElement (session=\"2af70870369daf1b296227640c8a6a47\", element=\"c804fa75-b553-4e88-bc6b-a04a81c50c54\")>,\n",
       " <selenium.webdriver.remote.webelement.WebElement (session=\"2af70870369daf1b296227640c8a6a47\", element=\"bd835627-f848-4f62-a5d7-c83445480e46\")>,\n",
       " <selenium.webdriver.remote.webelement.WebElement (session=\"2af70870369daf1b296227640c8a6a47\", element=\"f38c88f8-beff-4f17-9661-d6ab62bbdff4\")>,\n",
       " <selenium.webdriver.remote.webelement.WebElement (session=\"2af70870369daf1b296227640c8a6a47\", element=\"dea6e6a9-fc8c-480c-91b4-82db22700022\")>,\n",
       " <selenium.webdriver.remote.webelement.WebElement (session=\"2af70870369daf1b296227640c8a6a47\", element=\"f36984c6-2fb6-46a4-81c8-885b2df07177\")>]"
      ]
     },
     "execution_count": 29,
     "metadata": {},
     "output_type": "execute_result"
    }
   ],
   "source": [
    "min=driver.find_elements_by_xpath(\"//div[@class='common__RangeBarStyle__values common__flex__justifySpaceBetween common__flex__container ']/span[1]\")\n",
    "min[0:10]"
   ]
  },
  {
   "cell_type": "code",
   "execution_count": 30,
   "metadata": {},
   "outputs": [
    {
     "data": {
      "text/plain": [
       "['₹456K',\n",
       " '₹585K',\n",
       " '₹420K',\n",
       " '₹336K',\n",
       " '₹595K',\n",
       " '₹727K',\n",
       " '₹509K',\n",
       " '₹629K',\n",
       " '₹804K',\n",
       " '₹205K']"
      ]
     },
     "execution_count": 30,
     "metadata": {},
     "output_type": "execute_result"
    }
   ],
   "source": [
    "for i in min:\n",
    "    ex=i.text\n",
    "    minimum.append(ex)\n",
    "\n",
    "minimum[0:10]"
   ]
  },
  {
   "cell_type": "code",
   "execution_count": 31,
   "metadata": {},
   "outputs": [
    {
     "data": {
      "text/plain": [
       "[<selenium.webdriver.remote.webelement.WebElement (session=\"2af70870369daf1b296227640c8a6a47\", element=\"e1fd1235-59e2-44f1-b7cb-de1fc039ea61\")>,\n",
       " <selenium.webdriver.remote.webelement.WebElement (session=\"2af70870369daf1b296227640c8a6a47\", element=\"ac378781-1451-42b6-be5c-6ebec2d30938\")>,\n",
       " <selenium.webdriver.remote.webelement.WebElement (session=\"2af70870369daf1b296227640c8a6a47\", element=\"8768dbd8-eaa7-4486-b2fe-a170a047042a\")>,\n",
       " <selenium.webdriver.remote.webelement.WebElement (session=\"2af70870369daf1b296227640c8a6a47\", element=\"189a8bb1-6afb-4cb3-9be7-9503b553587b\")>,\n",
       " <selenium.webdriver.remote.webelement.WebElement (session=\"2af70870369daf1b296227640c8a6a47\", element=\"9567abcb-e2af-42f8-ad52-61d9c0c4ce30\")>,\n",
       " <selenium.webdriver.remote.webelement.WebElement (session=\"2af70870369daf1b296227640c8a6a47\", element=\"17fd1328-b915-4671-a3fd-f128e4234a17\")>,\n",
       " <selenium.webdriver.remote.webelement.WebElement (session=\"2af70870369daf1b296227640c8a6a47\", element=\"f9637c86-c48c-4aa5-87fa-7bc1f1d7a6b9\")>,\n",
       " <selenium.webdriver.remote.webelement.WebElement (session=\"2af70870369daf1b296227640c8a6a47\", element=\"0afb555c-b486-4d59-b009-95d37aea1219\")>,\n",
       " <selenium.webdriver.remote.webelement.WebElement (session=\"2af70870369daf1b296227640c8a6a47\", element=\"8bb1eebd-4d18-4e6c-bb55-455fdc980ad1\")>,\n",
       " <selenium.webdriver.remote.webelement.WebElement (session=\"2af70870369daf1b296227640c8a6a47\", element=\"438fb886-36e6-452c-9317-89c36591f70f\")>]"
      ]
     },
     "execution_count": 31,
     "metadata": {},
     "output_type": "execute_result"
    }
   ],
   "source": [
    "max=driver.find_elements_by_xpath(\"//div[@class='common__RangeBarStyle__values common__flex__justifySpaceBetween common__flex__container ']/span[2]\")\n",
    "max[0:10]"
   ]
  },
  {
   "cell_type": "code",
   "execution_count": 32,
   "metadata": {},
   "outputs": [
    {
     "data": {
      "text/plain": [
       "['₹11,789K',\n",
       " '₹2,200K',\n",
       " '₹1,636K',\n",
       " '₹1,024K',\n",
       " '₹2,769K',\n",
       " '₹1,597K',\n",
       " '₹1,168K',\n",
       " '₹1,719K',\n",
       " '₹1,281K',\n",
       " '₹1,835K']"
      ]
     },
     "execution_count": 32,
     "metadata": {},
     "output_type": "execute_result"
    }
   ],
   "source": [
    "for i in max:\n",
    "    ex=i.text\n",
    "    maximum.append(ex)\n",
    "\n",
    "maximum[0:10]"
   ]
  },
  {
   "cell_type": "code",
   "execution_count": 33,
   "metadata": {},
   "outputs": [
    {
     "data": {
      "text/plain": [
       "[<selenium.webdriver.remote.webelement.WebElement (session=\"2af70870369daf1b296227640c8a6a47\", element=\"4e67c248-1d7f-4868-b566-d85a7239f8fc\")>,\n",
       " <selenium.webdriver.remote.webelement.WebElement (session=\"2af70870369daf1b296227640c8a6a47\", element=\"787912fd-966d-454d-a047-75b11b98ec89\")>,\n",
       " <selenium.webdriver.remote.webelement.WebElement (session=\"2af70870369daf1b296227640c8a6a47\", element=\"d4504eee-d333-4d36-b749-6601c74620e2\")>,\n",
       " <selenium.webdriver.remote.webelement.WebElement (session=\"2af70870369daf1b296227640c8a6a47\", element=\"d7f55072-a606-4772-be79-6a55b138bef4\")>,\n",
       " <selenium.webdriver.remote.webelement.WebElement (session=\"2af70870369daf1b296227640c8a6a47\", element=\"60e67f74-3a95-4003-8d26-d77de69fbccf\")>,\n",
       " <selenium.webdriver.remote.webelement.WebElement (session=\"2af70870369daf1b296227640c8a6a47\", element=\"3c85e9e8-87ad-4cec-80c8-ea34fad8418a\")>,\n",
       " <selenium.webdriver.remote.webelement.WebElement (session=\"2af70870369daf1b296227640c8a6a47\", element=\"e2d8e0ed-d9c7-4f4c-b0b2-d76e39b232d9\")>,\n",
       " <selenium.webdriver.remote.webelement.WebElement (session=\"2af70870369daf1b296227640c8a6a47\", element=\"7426bc88-bedb-4f39-9973-df980cc46cde\")>,\n",
       " <selenium.webdriver.remote.webelement.WebElement (session=\"2af70870369daf1b296227640c8a6a47\", element=\"baf6800f-8fe9-4191-b914-0ab38a47a91f\")>,\n",
       " <selenium.webdriver.remote.webelement.WebElement (session=\"2af70870369daf1b296227640c8a6a47\", element=\"775bf6d7-583f-4209-bb28-37ca12816ce8\")>]"
      ]
     },
     "execution_count": 33,
     "metadata": {},
     "output_type": "execute_result"
    }
   ],
   "source": [
    "av=driver.find_elements_by_xpath(\"//div[@class='col-2 d-none d-md-flex flex-row justify-content-end']/strong\")\n",
    "av[0:10]"
   ]
  },
  {
   "cell_type": "code",
   "execution_count": 34,
   "metadata": {},
   "outputs": [
    {
     "data": {
      "text/plain": [
       "['₹ 12,81,419',\n",
       " '₹ 9,98,925',\n",
       " '₹ 7,90,026',\n",
       " '₹ 6,02,000',\n",
       " '₹ 7,71,657',\n",
       " '₹ 12,22,902',\n",
       " '₹ 7,91,015',\n",
       " '₹ 12,15,138',\n",
       " '₹ 10,21,889',\n",
       " '₹ 10,00,000']"
      ]
     },
     "execution_count": 34,
     "metadata": {},
     "output_type": "execute_result"
    }
   ],
   "source": [
    "for i in av:\n",
    "    ex=i.text\n",
    "    average.append(ex)\n",
    "\n",
    "average[0:10]"
   ]
  },
  {
   "cell_type": "code",
   "execution_count": 35,
   "metadata": {},
   "outputs": [
    {
     "data": {
      "text/plain": [
       "[<selenium.webdriver.remote.webelement.WebElement (session=\"2af70870369daf1b296227640c8a6a47\", element=\"ac080f03-84cf-46e4-b1bd-0ede52c6ebeb\")>,\n",
       " <selenium.webdriver.remote.webelement.WebElement (session=\"2af70870369daf1b296227640c8a6a47\", element=\"8ab73227-fb0d-42ae-9f08-6f3a9d0e0404\")>,\n",
       " <selenium.webdriver.remote.webelement.WebElement (session=\"2af70870369daf1b296227640c8a6a47\", element=\"39b5027d-e5af-43c7-9ab8-2288e0e40436\")>,\n",
       " <selenium.webdriver.remote.webelement.WebElement (session=\"2af70870369daf1b296227640c8a6a47\", element=\"6da13e3d-ad08-4358-b2b6-b6c417637bf6\")>,\n",
       " <selenium.webdriver.remote.webelement.WebElement (session=\"2af70870369daf1b296227640c8a6a47\", element=\"33f123f3-5659-4c07-b7ae-3cd326307c47\")>,\n",
       " <selenium.webdriver.remote.webelement.WebElement (session=\"2af70870369daf1b296227640c8a6a47\", element=\"2c2d0adf-46dd-463d-9393-c4b7cb47dc98\")>,\n",
       " <selenium.webdriver.remote.webelement.WebElement (session=\"2af70870369daf1b296227640c8a6a47\", element=\"424d96d1-b09a-45b1-9d86-c4b101ea58b0\")>,\n",
       " <selenium.webdriver.remote.webelement.WebElement (session=\"2af70870369daf1b296227640c8a6a47\", element=\"d5762d0f-2213-4240-9fe3-11c9aadeb1a9\")>,\n",
       " <selenium.webdriver.remote.webelement.WebElement (session=\"2af70870369daf1b296227640c8a6a47\", element=\"a20a0f94-cab5-4432-8961-d1ab49e4ebfa\")>,\n",
       " <selenium.webdriver.remote.webelement.WebElement (session=\"2af70870369daf1b296227640c8a6a47\", element=\"4ef98fc6-f09d-44cc-9f02-f802c34c7198\")>]"
      ]
     },
     "execution_count": 35,
     "metadata": {},
     "output_type": "execute_result"
    }
   ],
   "source": [
    "no=driver.find_elements_by_xpath(\"//p[@class='css-1uyte9r css-1kuy7z7 m-0 ']\")\n",
    "no[0:10]"
   ]
  },
  {
   "cell_type": "code",
   "execution_count": 36,
   "metadata": {},
   "outputs": [
    {
     "data": {
      "text/plain": [
       "['13 salaries',\n",
       " '10 salaries',\n",
       " '10 salaries',\n",
       " '9 salaries',\n",
       " '9 salaries',\n",
       " '8 salaries',\n",
       " '8 salaries',\n",
       " '7 salaries',\n",
       " '6 salaries',\n",
       " '5 salaries']"
      ]
     },
     "execution_count": 36,
     "metadata": {},
     "output_type": "execute_result"
    }
   ],
   "source": [
    "for i in no:\n",
    "    ex=i.text\n",
    "    number.append(ex)\n",
    "\n",
    "number[0:10]"
   ]
  },
  {
   "cell_type": "code",
   "execution_count": 37,
   "metadata": {},
   "outputs": [],
   "source": [
    "df=pd.DataFrame({\"Company\":company[0:10],\n",
    "                \"minimum salary\":minimum[0:10],\n",
    "                \"maximum salary\":maximum[0:10],\n",
    "                 \"average salary\":average[0:10],\n",
    "                 \"no of salaries\":number[0:10]\n",
    "                })"
   ]
  },
  {
   "cell_type": "code",
   "execution_count": 38,
   "metadata": {},
   "outputs": [
    {
     "data": {
      "text/html": [
       "<div>\n",
       "<style scoped>\n",
       "    .dataframe tbody tr th:only-of-type {\n",
       "        vertical-align: middle;\n",
       "    }\n",
       "\n",
       "    .dataframe tbody tr th {\n",
       "        vertical-align: top;\n",
       "    }\n",
       "\n",
       "    .dataframe thead th {\n",
       "        text-align: right;\n",
       "    }\n",
       "</style>\n",
       "<table border=\"1\" class=\"dataframe\">\n",
       "  <thead>\n",
       "    <tr style=\"text-align: right;\">\n",
       "      <th></th>\n",
       "      <th>Company</th>\n",
       "      <th>minimum salary</th>\n",
       "      <th>maximum salary</th>\n",
       "      <th>average salary</th>\n",
       "      <th>no of salaries</th>\n",
       "    </tr>\n",
       "  </thead>\n",
       "  <tbody>\n",
       "    <tr>\n",
       "      <th>0</th>\n",
       "      <td>Delhivery</td>\n",
       "      <td>₹456K</td>\n",
       "      <td>₹11,789K</td>\n",
       "      <td>₹ 12,81,419</td>\n",
       "      <td>13 salaries</td>\n",
       "    </tr>\n",
       "    <tr>\n",
       "      <th>1</th>\n",
       "      <td>Accenture</td>\n",
       "      <td>₹585K</td>\n",
       "      <td>₹2,200K</td>\n",
       "      <td>₹ 9,98,925</td>\n",
       "      <td>10 salaries</td>\n",
       "    </tr>\n",
       "    <tr>\n",
       "      <th>2</th>\n",
       "      <td>Ericsson-Worldwide</td>\n",
       "      <td>₹420K</td>\n",
       "      <td>₹1,636K</td>\n",
       "      <td>₹ 7,90,026</td>\n",
       "      <td>10 salaries</td>\n",
       "    </tr>\n",
       "    <tr>\n",
       "      <th>3</th>\n",
       "      <td>Tata Consultancy Services</td>\n",
       "      <td>₹336K</td>\n",
       "      <td>₹1,024K</td>\n",
       "      <td>₹ 6,02,000</td>\n",
       "      <td>9 salaries</td>\n",
       "    </tr>\n",
       "    <tr>\n",
       "      <th>4</th>\n",
       "      <td>IBM</td>\n",
       "      <td>₹595K</td>\n",
       "      <td>₹2,769K</td>\n",
       "      <td>₹ 7,71,657</td>\n",
       "      <td>9 salaries</td>\n",
       "    </tr>\n",
       "    <tr>\n",
       "      <th>5</th>\n",
       "      <td>UnitedHealth Group</td>\n",
       "      <td>₹727K</td>\n",
       "      <td>₹1,597K</td>\n",
       "      <td>₹ 12,22,902</td>\n",
       "      <td>8 salaries</td>\n",
       "    </tr>\n",
       "    <tr>\n",
       "      <th>6</th>\n",
       "      <td>Valiance Solutions</td>\n",
       "      <td>₹509K</td>\n",
       "      <td>₹1,168K</td>\n",
       "      <td>₹ 7,91,015</td>\n",
       "      <td>8 salaries</td>\n",
       "    </tr>\n",
       "    <tr>\n",
       "      <th>7</th>\n",
       "      <td>Innovaccer</td>\n",
       "      <td>₹629K</td>\n",
       "      <td>₹1,719K</td>\n",
       "      <td>₹ 12,15,138</td>\n",
       "      <td>7 salaries</td>\n",
       "    </tr>\n",
       "    <tr>\n",
       "      <th>8</th>\n",
       "      <td>Cognizant Technology Solutions</td>\n",
       "      <td>₹804K</td>\n",
       "      <td>₹1,281K</td>\n",
       "      <td>₹ 10,21,889</td>\n",
       "      <td>6 salaries</td>\n",
       "    </tr>\n",
       "    <tr>\n",
       "      <th>9</th>\n",
       "      <td>ZS Associates</td>\n",
       "      <td>₹205K</td>\n",
       "      <td>₹1,835K</td>\n",
       "      <td>₹ 10,00,000</td>\n",
       "      <td>5 salaries</td>\n",
       "    </tr>\n",
       "  </tbody>\n",
       "</table>\n",
       "</div>"
      ],
      "text/plain": [
       "                          Company minimum salary maximum salary  \\\n",
       "0                       Delhivery          ₹456K       ₹11,789K   \n",
       "1                       Accenture          ₹585K        ₹2,200K   \n",
       "2              Ericsson-Worldwide          ₹420K        ₹1,636K   \n",
       "3       Tata Consultancy Services          ₹336K        ₹1,024K   \n",
       "4                             IBM          ₹595K        ₹2,769K   \n",
       "5              UnitedHealth Group          ₹727K        ₹1,597K   \n",
       "6              Valiance Solutions          ₹509K        ₹1,168K   \n",
       "7                      Innovaccer          ₹629K        ₹1,719K   \n",
       "8  Cognizant Technology Solutions          ₹804K        ₹1,281K   \n",
       "9                   ZS Associates          ₹205K        ₹1,835K   \n",
       "\n",
       "  average salary no of salaries  \n",
       "0    ₹ 12,81,419    13 salaries  \n",
       "1     ₹ 9,98,925    10 salaries  \n",
       "2     ₹ 7,90,026    10 salaries  \n",
       "3     ₹ 6,02,000     9 salaries  \n",
       "4     ₹ 7,71,657     9 salaries  \n",
       "5    ₹ 12,22,902     8 salaries  \n",
       "6     ₹ 7,91,015     8 salaries  \n",
       "7    ₹ 12,15,138     7 salaries  \n",
       "8    ₹ 10,21,889     6 salaries  \n",
       "9    ₹ 10,00,000     5 salaries  "
      ]
     },
     "execution_count": 38,
     "metadata": {},
     "output_type": "execute_result"
    }
   ],
   "source": [
    "df"
   ]
  },
  {
   "cell_type": "code",
   "execution_count": 41,
   "metadata": {},
   "outputs": [],
   "source": [
    "driver.close()"
   ]
  },
  {
   "cell_type": "markdown",
   "metadata": {},
   "source": [
    "# Q6 : Scrape data of first 100 sunglasses listings on flipkart.com. You have to scrape four attributes: 1. Brand 2. Product Description 3. Price 4. Discount % "
   ]
  },
  {
   "cell_type": "code",
   "execution_count": 2,
   "metadata": {},
   "outputs": [],
   "source": [
    "driver=webdriver.Chrome(r'C:\\Users\\MARJAN\\Desktop\\chromedriver.exe')"
   ]
  },
  {
   "cell_type": "code",
   "execution_count": 3,
   "metadata": {},
   "outputs": [],
   "source": [
    "url=\"https://www.flipkart.com/search?q=sunglasses&otracker=search&otracker1=search&marketplace=FLIPKART&as-show=on&as=off\""
   ]
  },
  {
   "cell_type": "code",
   "execution_count": 4,
   "metadata": {},
   "outputs": [],
   "source": [
    "driver.get(url)"
   ]
  },
  {
   "cell_type": "code",
   "execution_count": 5,
   "metadata": {},
   "outputs": [],
   "source": [
    "url=[]\n",
    "page_buttons=driver.find_elements_by_xpath(\"//nav[@class='yFHi8N']/a\")\n",
    "for i in page_buttons:\n",
    "    url.append(i.get_attribute('href'))"
   ]
  },
  {
   "cell_type": "code",
   "execution_count": 6,
   "metadata": {},
   "outputs": [
    {
     "data": {
      "text/plain": [
       "['https://www.flipkart.com/search?q=sunglasses&otracker=search&otracker1=search&marketplace=FLIPKART&as-show=on&as=off&page=1',\n",
       " 'https://www.flipkart.com/search?q=sunglasses&otracker=search&otracker1=search&marketplace=FLIPKART&as-show=on&as=off&page=2',\n",
       " 'https://www.flipkart.com/search?q=sunglasses&otracker=search&otracker1=search&marketplace=FLIPKART&as-show=on&as=off&page=3',\n",
       " 'https://www.flipkart.com/search?q=sunglasses&otracker=search&otracker1=search&marketplace=FLIPKART&as-show=on&as=off&page=4',\n",
       " 'https://www.flipkart.com/search?q=sunglasses&otracker=search&otracker1=search&marketplace=FLIPKART&as-show=on&as=off&page=5',\n",
       " 'https://www.flipkart.com/search?q=sunglasses&otracker=search&otracker1=search&marketplace=FLIPKART&as-show=on&as=off&page=6',\n",
       " 'https://www.flipkart.com/search?q=sunglasses&otracker=search&otracker1=search&marketplace=FLIPKART&as-show=on&as=off&page=7',\n",
       " 'https://www.flipkart.com/search?q=sunglasses&otracker=search&otracker1=search&marketplace=FLIPKART&as-show=on&as=off&page=8',\n",
       " 'https://www.flipkart.com/search?q=sunglasses&otracker=search&otracker1=search&marketplace=FLIPKART&as-show=on&as=off&page=9',\n",
       " 'https://www.flipkart.com/search?q=sunglasses&otracker=search&otracker1=search&marketplace=FLIPKART&as-show=on&as=off&page=10',\n",
       " 'https://www.flipkart.com/search?q=sunglasses&otracker=search&otracker1=search&marketplace=FLIPKART&as-show=on&as=off&page=2']"
      ]
     },
     "execution_count": 6,
     "metadata": {},
     "output_type": "execute_result"
    }
   ],
   "source": [
    "url"
   ]
  },
  {
   "cell_type": "code",
   "execution_count": 7,
   "metadata": {},
   "outputs": [],
   "source": [
    "brand=[]\n",
    "for i in url[0:3]:\n",
    "    driver.get(i)\n",
    "    brands=driver.find_elements_by_xpath(\"//a[@class='IRpwTa']\")\n",
    "for j in brands:\n",
    "    brand.append(j)    \n",
    "\n"
   ]
  },
  {
   "cell_type": "code",
   "execution_count": 8,
   "metadata": {},
   "outputs": [
    {
     "data": {
      "text/plain": [
       "['Mirrored Round Sunglasses (53)',\n",
       " 'UV Protection Retro Square Sunglasses (57)',\n",
       " 'UV Protection, Mirrored, Gradient Round Sunglasses (51)',\n",
       " 'UV Protection Aviator Sunglasses (Free Size)',\n",
       " 'UV Protection, Gradient Round Sunglasses (Free Size)',\n",
       " 'UV Protection Wayfarer Sunglasses (Free Size)',\n",
       " 'UV Protection, Gradient Oval Sunglasses (58)',\n",
       " 'Gradient, UV Protection Retro Square Sunglasses (57)',\n",
       " 'UV Protection, Mirrored, Gradient Retro Square Sunglass...',\n",
       " 'Gradient Rectangular Sunglasses (56)',\n",
       " 'Gradient Spectacle Sunglasses (Free Size)',\n",
       " 'Riding Glasses, UV Protection Oval Sunglasses (52)',\n",
       " 'Gradient, Mirrored, UV Protection Aviator Sunglasses (5...',\n",
       " 'UV Protection Aviator Sunglasses (Free Size)',\n",
       " 'UV Protection, Polarized, Mirrored Rectangular Sunglass...',\n",
       " 'UV Protection Round Sunglasses (54)',\n",
       " 'Polarized, Night Vision, Riding Glasses, Mirrored, UV P...',\n",
       " 'UV Protection Aviator Sunglasses (57)',\n",
       " 'UV Protection Wayfarer Sunglasses (56)',\n",
       " 'Mirrored, UV Protection Aviator Sunglasses (57)',\n",
       " 'UV Protection Aviator Sunglasses (Free Size)',\n",
       " 'UV Protection Wayfarer Sunglasses (Free Size)',\n",
       " 'Mirrored Rectangular Sunglasses (53)',\n",
       " 'Polarized Sports Sunglasses (21)',\n",
       " 'UV Protection Rectangular Sunglasses (54)',\n",
       " 'UV Protection Round Sunglasses (Free Size)',\n",
       " 'Mirrored Aviator Sunglasses (Free Size)',\n",
       " 'UV Protection Round Sunglasses (Free Size)',\n",
       " 'Mirrored, UV Protection Aviator Sunglasses (56)']"
      ]
     },
     "execution_count": 8,
     "metadata": {},
     "output_type": "execute_result"
    }
   ],
   "source": [
    "br=[]\n",
    "for i in brand:\n",
    "    br.append(i.text)\n",
    "\n",
    "br\n"
   ]
  },
  {
   "cell_type": "code",
   "execution_count": 9,
   "metadata": {},
   "outputs": [],
   "source": [
    "pr=[]\n",
    "for i in url[0:3]:\n",
    "    driver.get(i)\n",
    "    prod=driver.find_elements_by_xpath(\"//div[@class='_2WkVRV']\")\n",
    "for j in prod:\n",
    "    pr.append(j)    \n",
    "\n"
   ]
  },
  {
   "cell_type": "code",
   "execution_count": 10,
   "metadata": {},
   "outputs": [
    {
     "data": {
      "text/plain": [
       "['Rich Club',\n",
       " 'MAXX',\n",
       " 'ROZZETTA CRAFT',\n",
       " 'United Colors of Benetton',\n",
       " 'Silver Kartz',\n",
       " 'Aislin',\n",
       " 'STYLISH GUYS',\n",
       " 'kingsunglasses',\n",
       " 'REYDA basic',\n",
       " 'United Colors of Benetton',\n",
       " 'Riffko',\n",
       " 'Creative Group',\n",
       " 'MGKNYAH',\n",
       " 'United Colors of Benetton',\n",
       " 'JOHAENA',\n",
       " 'Scaglia',\n",
       " 'Fastrack',\n",
       " 'shah collections',\n",
       " 'winsome',\n",
       " 'United Colors of Benetton',\n",
       " 'Trend',\n",
       " 'REYDA BASIC',\n",
       " 'Gansta',\n",
       " 'Rozdeal',\n",
       " 'Scaglia',\n",
       " 'PIRASO',\n",
       " 'Phenomenal',\n",
       " 'NuVew',\n",
       " 'Fastrack',\n",
       " 'United Colors of Benetton',\n",
       " 'Yumato',\n",
       " 'INSH',\n",
       " 'shah collections',\n",
       " 'United Colors of Benetton',\n",
       " 'Royal Son',\n",
       " 'shah collections',\n",
       " 'Fastrack',\n",
       " 'Dannilo',\n",
       " 'Fastrack',\n",
       " 'United Colors of Benetton']"
      ]
     },
     "execution_count": 10,
     "metadata": {},
     "output_type": "execute_result"
    }
   ],
   "source": [
    "product=[]\n",
    "for i in pr:\n",
    "    product.append(i.text)\n",
    "\n",
    "product\n"
   ]
  },
  {
   "cell_type": "code",
   "execution_count": 11,
   "metadata": {},
   "outputs": [],
   "source": [
    "pric=[]\n",
    "for i in url[0:3]:\n",
    "    driver.get(i)\n",
    "    rate=driver.find_elements_by_xpath(\"//div[@class='_30jeq3']\")\n",
    "for j in rate:\n",
    "    pric.append(j)    \n",
    "\n"
   ]
  },
  {
   "cell_type": "code",
   "execution_count": 13,
   "metadata": {},
   "outputs": [
    {
     "data": {
      "text/plain": [
       "['₹156',\n",
       " '₹214',\n",
       " '₹152',\n",
       " '₹1,841',\n",
       " '₹199',\n",
       " '₹168',\n",
       " '₹403',\n",
       " '₹233',\n",
       " '₹475',\n",
       " '₹1,944',\n",
       " '₹789',\n",
       " '₹160',\n",
       " '₹149',\n",
       " '₹2,020',\n",
       " '₹198',\n",
       " '₹245',\n",
       " '₹152',\n",
       " '₹172',\n",
       " '₹150',\n",
       " '₹2,020',\n",
       " '₹799',\n",
       " '₹209',\n",
       " '₹126',\n",
       " '₹749',\n",
       " '₹166',\n",
       " '₹119',\n",
       " '₹269',\n",
       " '₹175',\n",
       " '₹224',\n",
       " '₹2,020',\n",
       " '₹249',\n",
       " '₹396',\n",
       " '₹759',\n",
       " '₹2,315',\n",
       " '₹499',\n",
       " '₹294',\n",
       " '₹331',\n",
       " '₹399',\n",
       " '₹340',\n",
       " '₹2,004']"
      ]
     },
     "execution_count": 13,
     "metadata": {},
     "output_type": "execute_result"
    }
   ],
   "source": [
    "price=[]\n",
    "for i in pric:\n",
    "    price.append(i.text)\n",
    "\n",
    "price\n"
   ]
  },
  {
   "cell_type": "code",
   "execution_count": 14,
   "metadata": {},
   "outputs": [],
   "source": [
    "dis=[]\n",
    "for i in url[0:3]:\n",
    "    driver.get(i)\n",
    "    disc=driver.find_elements_by_xpath(\"//div[@class='_3Ay6Sb']\")\n",
    "for j in disc:\n",
    "    dis.append(j)    \n",
    "\n"
   ]
  },
  {
   "cell_type": "code",
   "execution_count": 15,
   "metadata": {},
   "outputs": [
    {
     "data": {
      "text/plain": [
       "['87% off',\n",
       " '85% off',\n",
       " '69% off',\n",
       " '52% off',\n",
       " '75% off',\n",
       " '71% off',\n",
       " '79% off',\n",
       " '84% off',\n",
       " '68% off',\n",
       " '50% off',\n",
       " '77% off',\n",
       " '85% off',\n",
       " '85% off',\n",
       " '50% off',\n",
       " '80% off',\n",
       " '87% off',\n",
       " '74% off',\n",
       " '86% off',\n",
       " '69% off',\n",
       " '81% off',\n",
       " '87% off',\n",
       " '74% off',\n",
       " '49% off',\n",
       " '44% off',\n",
       " '85% off',\n",
       " '86% off',\n",
       " '70% off',\n",
       " '85% off',\n",
       " '50% off',\n",
       " '75% off',\n",
       " '68% off',\n",
       " '15% off',\n",
       " '50% off',\n",
       " '62% off',\n",
       " '85% off',\n",
       " '80% off',\n",
       " '73% off',\n",
       " '79% off',\n",
       " '49% off']"
      ]
     },
     "execution_count": 15,
     "metadata": {},
     "output_type": "execute_result"
    }
   ],
   "source": [
    "discount=[]\n",
    "for i in dis:\n",
    "    discount.append(i.text)\n",
    "\n",
    "discount\n"
   ]
  },
  {
   "cell_type": "code",
   "execution_count": 17,
   "metadata": {},
   "outputs": [
    {
     "data": {
      "text/html": [
       "<div>\n",
       "<style scoped>\n",
       "    .dataframe tbody tr th:only-of-type {\n",
       "        vertical-align: middle;\n",
       "    }\n",
       "\n",
       "    .dataframe tbody tr th {\n",
       "        vertical-align: top;\n",
       "    }\n",
       "\n",
       "    .dataframe thead th {\n",
       "        text-align: right;\n",
       "    }\n",
       "</style>\n",
       "<table border=\"1\" class=\"dataframe\">\n",
       "  <thead>\n",
       "    <tr style=\"text-align: right;\">\n",
       "      <th></th>\n",
       "      <th>Brand</th>\n",
       "      <th>Description</th>\n",
       "      <th>Price</th>\n",
       "      <th>Discount</th>\n",
       "    </tr>\n",
       "  </thead>\n",
       "  <tbody>\n",
       "    <tr>\n",
       "      <th>0</th>\n",
       "      <td>Rich Club</td>\n",
       "      <td>Mirrored Round Sunglasses (53)</td>\n",
       "      <td>₹156</td>\n",
       "      <td>87% off</td>\n",
       "    </tr>\n",
       "    <tr>\n",
       "      <th>1</th>\n",
       "      <td>MAXX</td>\n",
       "      <td>UV Protection Retro Square Sunglasses (57)</td>\n",
       "      <td>₹214</td>\n",
       "      <td>85% off</td>\n",
       "    </tr>\n",
       "    <tr>\n",
       "      <th>2</th>\n",
       "      <td>ROZZETTA CRAFT</td>\n",
       "      <td>UV Protection, Mirrored, Gradient Round Sungla...</td>\n",
       "      <td>₹152</td>\n",
       "      <td>69% off</td>\n",
       "    </tr>\n",
       "    <tr>\n",
       "      <th>3</th>\n",
       "      <td>United Colors of Benetton</td>\n",
       "      <td>UV Protection Aviator Sunglasses (Free Size)</td>\n",
       "      <td>₹1,841</td>\n",
       "      <td>52% off</td>\n",
       "    </tr>\n",
       "    <tr>\n",
       "      <th>4</th>\n",
       "      <td>Silver Kartz</td>\n",
       "      <td>UV Protection, Gradient Round Sunglasses (Free...</td>\n",
       "      <td>₹199</td>\n",
       "      <td>75% off</td>\n",
       "    </tr>\n",
       "    <tr>\n",
       "      <th>5</th>\n",
       "      <td>Aislin</td>\n",
       "      <td>UV Protection Wayfarer Sunglasses (Free Size)</td>\n",
       "      <td>₹168</td>\n",
       "      <td>71% off</td>\n",
       "    </tr>\n",
       "    <tr>\n",
       "      <th>6</th>\n",
       "      <td>STYLISH GUYS</td>\n",
       "      <td>UV Protection, Gradient Oval Sunglasses (58)</td>\n",
       "      <td>₹403</td>\n",
       "      <td>79% off</td>\n",
       "    </tr>\n",
       "    <tr>\n",
       "      <th>7</th>\n",
       "      <td>kingsunglasses</td>\n",
       "      <td>Gradient, UV Protection Retro Square Sunglasse...</td>\n",
       "      <td>₹233</td>\n",
       "      <td>84% off</td>\n",
       "    </tr>\n",
       "    <tr>\n",
       "      <th>8</th>\n",
       "      <td>REYDA basic</td>\n",
       "      <td>UV Protection, Mirrored, Gradient Retro Square...</td>\n",
       "      <td>₹475</td>\n",
       "      <td>68% off</td>\n",
       "    </tr>\n",
       "    <tr>\n",
       "      <th>9</th>\n",
       "      <td>United Colors of Benetton</td>\n",
       "      <td>Gradient Rectangular Sunglasses (56)</td>\n",
       "      <td>₹1,944</td>\n",
       "      <td>50% off</td>\n",
       "    </tr>\n",
       "  </tbody>\n",
       "</table>\n",
       "</div>"
      ],
      "text/plain": [
       "                       Brand  \\\n",
       "0                  Rich Club   \n",
       "1                       MAXX   \n",
       "2             ROZZETTA CRAFT   \n",
       "3  United Colors of Benetton   \n",
       "4               Silver Kartz   \n",
       "5                     Aislin   \n",
       "6               STYLISH GUYS   \n",
       "7             kingsunglasses   \n",
       "8                REYDA basic   \n",
       "9  United Colors of Benetton   \n",
       "\n",
       "                                         Description   Price Discount  \n",
       "0                     Mirrored Round Sunglasses (53)    ₹156  87% off  \n",
       "1         UV Protection Retro Square Sunglasses (57)    ₹214  85% off  \n",
       "2  UV Protection, Mirrored, Gradient Round Sungla...    ₹152  69% off  \n",
       "3       UV Protection Aviator Sunglasses (Free Size)  ₹1,841  52% off  \n",
       "4  UV Protection, Gradient Round Sunglasses (Free...    ₹199  75% off  \n",
       "5      UV Protection Wayfarer Sunglasses (Free Size)    ₹168  71% off  \n",
       "6       UV Protection, Gradient Oval Sunglasses (58)    ₹403  79% off  \n",
       "7  Gradient, UV Protection Retro Square Sunglasse...    ₹233  84% off  \n",
       "8  UV Protection, Mirrored, Gradient Retro Square...    ₹475  68% off  \n",
       "9               Gradient Rectangular Sunglasses (56)  ₹1,944  50% off  "
      ]
     },
     "execution_count": 17,
     "metadata": {},
     "output_type": "execute_result"
    }
   ],
   "source": [
    "df=pd.DataFrame({\"Brand\":product[0:10],\n",
    "                \"Description\":br[0:10],\n",
    "                \"Price\":price[0:10],\n",
    "                 \"Discount\":discount[0:10]\n",
    "                  })\n",
    "df"
   ]
  },
  {
   "cell_type": "code",
   "execution_count": 24,
   "metadata": {},
   "outputs": [],
   "source": [
    "driver.close()"
   ]
  },
  {
   "cell_type": "markdown",
   "metadata": {},
   "source": [
    "# Q7: Scrape 100 reviews data from flipkart.com for iphone11 phone."
   ]
  },
  {
   "cell_type": "code",
   "execution_count": 2,
   "metadata": {},
   "outputs": [],
   "source": [
    "driver=webdriver.Chrome(r'C:\\Users\\MARJAN\\Desktop\\chromedriver.exe')"
   ]
  },
  {
   "cell_type": "code",
   "execution_count": 3,
   "metadata": {},
   "outputs": [],
   "source": [
    "url=\"https://www.flipkart.com/apple-iphone-11-black-64-gb-includes-earpods-power-adapter/product-reviews/itm0f37c2240b217?pid=MOBFKCTSVZAXUHGR&lid=LSTMOBFKCTSVZAXUHGR3QP11A&marketplace=FLIPKART\""
   ]
  },
  {
   "cell_type": "code",
   "execution_count": 4,
   "metadata": {},
   "outputs": [],
   "source": [
    "driver.get(url)"
   ]
  },
  {
   "cell_type": "code",
   "execution_count": 5,
   "metadata": {},
   "outputs": [],
   "source": [
    "rating=[]\n",
    "review=[]\n",
    "full_review=[]"
   ]
  },
  {
   "cell_type": "code",
   "execution_count": 6,
   "metadata": {},
   "outputs": [
    {
     "data": {
      "text/plain": [
       "['https://www.flipkart.com/apple-iphone-11-black-64-gb-includes-earpods-power-adapter/product-reviews/itm0f37c2240b217?pid=MOBFKCTSVZAXUHGR&lid=LSTMOBFKCTSVZAXUHGR3QP11A&marketplace=FLIPKART&page=3',\n",
       " 'https://www.flipkart.com/apple-iphone-11-black-64-gb-includes-earpods-power-adapter/product-reviews/itm0f37c2240b217?pid=MOBFKCTSVZAXUHGR&lid=LSTMOBFKCTSVZAXUHGR3QP11A&marketplace=FLIPKART&page=4',\n",
       " 'https://www.flipkart.com/apple-iphone-11-black-64-gb-includes-earpods-power-adapter/product-reviews/itm0f37c2240b217?pid=MOBFKCTSVZAXUHGR&lid=LSTMOBFKCTSVZAXUHGR3QP11A&marketplace=FLIPKART&page=5',\n",
       " 'https://www.flipkart.com/apple-iphone-11-black-64-gb-includes-earpods-power-adapter/product-reviews/itm0f37c2240b217?pid=MOBFKCTSVZAXUHGR&lid=LSTMOBFKCTSVZAXUHGR3QP11A&marketplace=FLIPKART&page=6',\n",
       " 'https://www.flipkart.com/apple-iphone-11-black-64-gb-includes-earpods-power-adapter/product-reviews/itm0f37c2240b217?pid=MOBFKCTSVZAXUHGR&lid=LSTMOBFKCTSVZAXUHGR3QP11A&marketplace=FLIPKART&page=7',\n",
       " 'https://www.flipkart.com/apple-iphone-11-black-64-gb-includes-earpods-power-adapter/product-reviews/itm0f37c2240b217?pid=MOBFKCTSVZAXUHGR&lid=LSTMOBFKCTSVZAXUHGR3QP11A&marketplace=FLIPKART&page=8',\n",
       " 'https://www.flipkart.com/apple-iphone-11-black-64-gb-includes-earpods-power-adapter/product-reviews/itm0f37c2240b217?pid=MOBFKCTSVZAXUHGR&lid=LSTMOBFKCTSVZAXUHGR3QP11A&marketplace=FLIPKART&page=9',\n",
       " 'https://www.flipkart.com/apple-iphone-11-black-64-gb-includes-earpods-power-adapter/product-reviews/itm0f37c2240b217?pid=MOBFKCTSVZAXUHGR&lid=LSTMOBFKCTSVZAXUHGR3QP11A&marketplace=FLIPKART&page=10']"
      ]
     },
     "execution_count": 6,
     "metadata": {},
     "output_type": "execute_result"
    }
   ],
   "source": [
    "url=[]\n",
    "page_buttons=driver.find_elements_by_xpath(\"//a[@class='ge-49M']\")\n",
    "for i in page_buttons[1:10]:\n",
    "    url.append(i.get_attribute('href'))\n",
    "url    "
   ]
  },
  {
   "cell_type": "code",
   "execution_count": 7,
   "metadata": {},
   "outputs": [],
   "source": [
    "for i in url:\n",
    "    text=driver.find_elements_by_xpath(\"//div[@class='_3LWZlK _1BLPMq']\")\n",
    "    \n"
   ]
  },
  {
   "cell_type": "code",
   "execution_count": 11,
   "metadata": {},
   "outputs": [
    {
     "data": {
      "text/plain": [
       "['5', '5', '5', '5', '5', '5', '5', '5', '4', '5']"
      ]
     },
     "execution_count": 11,
     "metadata": {},
     "output_type": "execute_result"
    }
   ],
   "source": [
    "rating=[]\n",
    "for i in text:\n",
    "    rating.append(i.text)\n",
    "\n",
    "rating"
   ]
  },
  {
   "cell_type": "code",
   "execution_count": 12,
   "metadata": {},
   "outputs": [],
   "source": [
    "for i in url:\n",
    "    tx=driver.find_elements_by_xpath(\"//p[@class='_2-N8zT']\")\n",
    "    \n"
   ]
  },
  {
   "cell_type": "code",
   "execution_count": 13,
   "metadata": {},
   "outputs": [
    {
     "data": {
      "text/plain": [
       "['Perfect product!',\n",
       " 'Great product',\n",
       " 'Highly recommended',\n",
       " 'Perfect product!',\n",
       " 'Perfect product!',\n",
       " 'Worth every penny',\n",
       " 'Worth every penny',\n",
       " 'Wonderful',\n",
       " 'Nice product',\n",
       " 'Perfect product!']"
      ]
     },
     "execution_count": 13,
     "metadata": {},
     "output_type": "execute_result"
    }
   ],
   "source": [
    "review=[]\n",
    "for i in tx:\n",
    "    review.append(i.text)\n",
    "    \n",
    "review    "
   ]
  },
  {
   "cell_type": "code",
   "execution_count": 14,
   "metadata": {},
   "outputs": [],
   "source": [
    "for i in url:\n",
    "    t=driver.find_elements_by_xpath(\"//div[@class='t-ZTKy']\")\n",
    "    \n"
   ]
  },
  {
   "cell_type": "code",
   "execution_count": 15,
   "metadata": {},
   "outputs": [
    {
     "data": {
      "text/plain": [
       "['Amazing phone with great cameras and better battery which gives you the best performance. I just love the camera .',\n",
       " 'Amazing Powerful and Durable Gadget.\\n\\nI’m am very happy with the camera picture quality, Amazing face id unlocked in dark room, Strong battery with perfect screen size as you can carry easily in pocket. This is my third iPhone.\\n\\nI shifted from android Samsung Note series to iPhone because of the strong build quality and peace of mind for next 3-4 years.\\n\\nDon’t think to much just go for it and I suggest you to go for minimum 128gb variant or more 256gb.\\n\\nI’ve attached my puppy pics and no fi...\\nREAD MORE',\n",
       " 'iphone 11 is a very good phone to buy only if you can compromise for the display. The display on this is device is pretty good but you can get other options with better displays in this price segment.\\nIf you can survive with an HD+ LCD panel with thicker bezels and a notch up top then this is a very good phone for you.\\nCameras are awesome, battery backup excellent, great performance and a decent premium look. Good job Apple !',\n",
       " 'It’s a must buy who is looking for an upgrade from previous generation of iPhones. If you are using XR then still you can hold on for sometime and upgrade to 2020 model else this phone is a must buy . Camera quality is amazing and wide angle is something to count upon. Performance wise it’s amazing and feels premium while holding in hand. So a big YES for this device. Go for 128 GB variant as the 4K videos will occupy lots of space and the storage can get over very quickly. Try to buy it with...\\nREAD MORE',\n",
       " 'Value for money❤️❤️\\nIts awesome mobile phone in the world ...\\nDisplay was very good and bright ..\\nTrust me freinds you r never regret after Buying..\\nJust go for it....\\nI love this phone and i switch to iphone x to 11',\n",
       " 'Best budget Iphone till date ❤️ go for it guys without second thought. Let me explain you guys about Camera, Display, battery, and performance.\\n\\nCamera: at this price range there is no comparison of camera, you’ll love the picture quality as well as video quality. I am a Vlogger I wanted an iPhone with 4k video by front camera and I got this phone and I am more than happy 😃\\n\\nBattery: I use this phone roughly as I am active social media person and I have a youtube channel. so the battery ba...\\nREAD MORE',\n",
       " 'It’s been almost a month since I have been using this phone. I upgraded from an iPhone 8. The main issue with my 8 was battery and this phone is just awesome when it comes to battery. It lasts a day and a half for me with my regular use , internet connected always with 4g\\nCan’t move forward without saying this. Battery of this phone is a life saver when I am traveling or at work when I don’t get the option to charge\\nCamera is superb. Front cam selfies and back cam photos are just awesome.\\n...\\nREAD MORE',\n",
       " '*Review after 10 months of usage*\\nDoesn\\'t seem bulky with decent touch and camera. The \"standard maintained\" quality of IPhone. Go for it, if your budget is not more enough for pro models. It\\'s a value for money among the 11 series Stereo speakers are so good, you will love the stereo sound. Battery backup is not decent but still better than Iphone 7 and 8.Processor is fast, the phone doesn\\'t lag at all even with heavy games, waterproof, faster face id and with no fingerprint scanners. The ca...\\nREAD MORE',\n",
       " 'Awesome Phone. Slightly high price but worth. Better than iPhone XR.\\nCamera is superb and wide angle camera is very clear.\\n12MP selfie camera is also very good.\\nA13 Chip gives a very good and smooth performance.',\n",
       " \"Iphone is just awesome.. battery backup is very very nice.. continuously for 10 hours we can use it.camera is just awesome.. display is just fab.i love it alot..i had to wait 15 days for it as i pre ordered it..overalll it's worth the price..these all images are clicked by my iPhone..and i love it.\"]"
      ]
     },
     "execution_count": 15,
     "metadata": {},
     "output_type": "execute_result"
    }
   ],
   "source": [
    "full_review=[]\n",
    "for i in t:\n",
    "    full_review.append(i.text)\n",
    "    \n",
    "full_review"
   ]
  },
  {
   "cell_type": "code",
   "execution_count": 17,
   "metadata": {},
   "outputs": [
    {
     "data": {
      "text/html": [
       "<div>\n",
       "<style scoped>\n",
       "    .dataframe tbody tr th:only-of-type {\n",
       "        vertical-align: middle;\n",
       "    }\n",
       "\n",
       "    .dataframe tbody tr th {\n",
       "        vertical-align: top;\n",
       "    }\n",
       "\n",
       "    .dataframe thead th {\n",
       "        text-align: right;\n",
       "    }\n",
       "</style>\n",
       "<table border=\"1\" class=\"dataframe\">\n",
       "  <thead>\n",
       "    <tr style=\"text-align: right;\">\n",
       "      <th></th>\n",
       "      <th>Review</th>\n",
       "      <th>rating</th>\n",
       "      <th>Full Review</th>\n",
       "    </tr>\n",
       "  </thead>\n",
       "  <tbody>\n",
       "    <tr>\n",
       "      <th>0</th>\n",
       "      <td>Perfect product!</td>\n",
       "      <td>5</td>\n",
       "      <td>Amazing phone with great cameras and better ba...</td>\n",
       "    </tr>\n",
       "    <tr>\n",
       "      <th>1</th>\n",
       "      <td>Great product</td>\n",
       "      <td>5</td>\n",
       "      <td>Amazing Powerful and Durable Gadget.\\n\\nI’m am...</td>\n",
       "    </tr>\n",
       "    <tr>\n",
       "      <th>2</th>\n",
       "      <td>Highly recommended</td>\n",
       "      <td>5</td>\n",
       "      <td>iphone 11 is a very good phone to buy only if ...</td>\n",
       "    </tr>\n",
       "    <tr>\n",
       "      <th>3</th>\n",
       "      <td>Perfect product!</td>\n",
       "      <td>5</td>\n",
       "      <td>It’s a must buy who is looking for an upgrade ...</td>\n",
       "    </tr>\n",
       "    <tr>\n",
       "      <th>4</th>\n",
       "      <td>Perfect product!</td>\n",
       "      <td>5</td>\n",
       "      <td>Value for money❤️❤️\\nIts awesome mobile phone ...</td>\n",
       "    </tr>\n",
       "    <tr>\n",
       "      <th>5</th>\n",
       "      <td>Worth every penny</td>\n",
       "      <td>5</td>\n",
       "      <td>Best budget Iphone till date ❤️ go for it guys...</td>\n",
       "    </tr>\n",
       "    <tr>\n",
       "      <th>6</th>\n",
       "      <td>Worth every penny</td>\n",
       "      <td>5</td>\n",
       "      <td>It’s been almost a month since I have been usi...</td>\n",
       "    </tr>\n",
       "    <tr>\n",
       "      <th>7</th>\n",
       "      <td>Wonderful</td>\n",
       "      <td>5</td>\n",
       "      <td>*Review after 10 months of usage*\\nDoesn't see...</td>\n",
       "    </tr>\n",
       "    <tr>\n",
       "      <th>8</th>\n",
       "      <td>Nice product</td>\n",
       "      <td>4</td>\n",
       "      <td>Awesome Phone. Slightly high price but worth. ...</td>\n",
       "    </tr>\n",
       "    <tr>\n",
       "      <th>9</th>\n",
       "      <td>Perfect product!</td>\n",
       "      <td>5</td>\n",
       "      <td>Iphone is just awesome.. battery backup is ver...</td>\n",
       "    </tr>\n",
       "  </tbody>\n",
       "</table>\n",
       "</div>"
      ],
      "text/plain": [
       "               Review rating  \\\n",
       "0    Perfect product!      5   \n",
       "1       Great product      5   \n",
       "2  Highly recommended      5   \n",
       "3    Perfect product!      5   \n",
       "4    Perfect product!      5   \n",
       "5   Worth every penny      5   \n",
       "6   Worth every penny      5   \n",
       "7           Wonderful      5   \n",
       "8        Nice product      4   \n",
       "9    Perfect product!      5   \n",
       "\n",
       "                                         Full Review  \n",
       "0  Amazing phone with great cameras and better ba...  \n",
       "1  Amazing Powerful and Durable Gadget.\\n\\nI’m am...  \n",
       "2  iphone 11 is a very good phone to buy only if ...  \n",
       "3  It’s a must buy who is looking for an upgrade ...  \n",
       "4  Value for money❤️❤️\\nIts awesome mobile phone ...  \n",
       "5  Best budget Iphone till date ❤️ go for it guys...  \n",
       "6  It’s been almost a month since I have been usi...  \n",
       "7  *Review after 10 months of usage*\\nDoesn't see...  \n",
       "8  Awesome Phone. Slightly high price but worth. ...  \n",
       "9  Iphone is just awesome.. battery backup is ver...  "
      ]
     },
     "execution_count": 17,
     "metadata": {},
     "output_type": "execute_result"
    }
   ],
   "source": [
    "df=pd.DataFrame({\"Review\":review[0:10],\n",
    "                \"rating\":rating[0:10],\n",
    "                \"Full Review\":full_review[0:10]\n",
    "                  })\n",
    "df"
   ]
  },
  {
   "cell_type": "code",
   "execution_count": 17,
   "metadata": {},
   "outputs": [],
   "source": [
    "driver.close()"
   ]
  },
  {
   "cell_type": "markdown",
   "metadata": {},
   "source": [
    "# Q8: Scrape data for first 100 sneakers you find when you visit flipkart.com and search for “sneakers” in the search field. "
   ]
  },
  {
   "cell_type": "code",
   "execution_count": 2,
   "metadata": {},
   "outputs": [],
   "source": [
    "driver=webdriver.Chrome(r'C:\\Users\\MARJAN\\Desktop\\chromedriver.exe')"
   ]
  },
  {
   "cell_type": "code",
   "execution_count": 3,
   "metadata": {},
   "outputs": [],
   "source": [
    "url=\"https://www.flipkart.com/search?q=sneakers&sid=osp%2Ccil%2Ce1f&as=on&as-show=on&otracker=AS_QueryStore_OrganicAutoSuggest_1_4_na_na_na&otracker1=AS_QueryStore_OrganicAutoSuggest_1_4_na_na_na&as-pos=1&as-type=RECENT&suggestionId=sneakers%7CMen%27s+Casual+Shoes&requestId=2d371462-17ed-4781-adc5-e777f0b1feb9&as-searchtext=snee\""
   ]
  },
  {
   "cell_type": "code",
   "execution_count": 4,
   "metadata": {},
   "outputs": [],
   "source": [
    "driver.get(url)"
   ]
  },
  {
   "cell_type": "code",
   "execution_count": 5,
   "metadata": {},
   "outputs": [],
   "source": [
    "ur=[]\n",
    "page_buttons=driver.find_elements_by_xpath(\"//a[@class='ge-49M']\")\n",
    "for i in page_buttons:\n",
    "    ur.append(i.get_attribute('href'))"
   ]
  },
  {
   "cell_type": "code",
   "execution_count": 6,
   "metadata": {},
   "outputs": [
    {
     "data": {
      "text/plain": [
       "['https://www.flipkart.com/search?q=sneakers&sid=osp%2Ccil%2Ce1f&as=on&as-show=on&otracker=AS_QueryStore_OrganicAutoSuggest_1_4_na_na_na&otracker1=AS_QueryStore_OrganicAutoSuggest_1_4_na_na_na&as-pos=1&as-type=RECENT&suggestionId=sneakers%7CMen%27s+Casual+Shoes&requestId=2d371462-17ed-4781-adc5-e777f0b1feb9&as-searchtext=snee&page=2',\n",
       " 'https://www.flipkart.com/search?q=sneakers&sid=osp%2Ccil%2Ce1f&as=on&as-show=on&otracker=AS_QueryStore_OrganicAutoSuggest_1_4_na_na_na&otracker1=AS_QueryStore_OrganicAutoSuggest_1_4_na_na_na&as-pos=1&as-type=RECENT&suggestionId=sneakers%7CMen%27s+Casual+Shoes&requestId=2d371462-17ed-4781-adc5-e777f0b1feb9&as-searchtext=snee&page=3',\n",
       " 'https://www.flipkart.com/search?q=sneakers&sid=osp%2Ccil%2Ce1f&as=on&as-show=on&otracker=AS_QueryStore_OrganicAutoSuggest_1_4_na_na_na&otracker1=AS_QueryStore_OrganicAutoSuggest_1_4_na_na_na&as-pos=1&as-type=RECENT&suggestionId=sneakers%7CMen%27s+Casual+Shoes&requestId=2d371462-17ed-4781-adc5-e777f0b1feb9&as-searchtext=snee&page=4',\n",
       " 'https://www.flipkart.com/search?q=sneakers&sid=osp%2Ccil%2Ce1f&as=on&as-show=on&otracker=AS_QueryStore_OrganicAutoSuggest_1_4_na_na_na&otracker1=AS_QueryStore_OrganicAutoSuggest_1_4_na_na_na&as-pos=1&as-type=RECENT&suggestionId=sneakers%7CMen%27s+Casual+Shoes&requestId=2d371462-17ed-4781-adc5-e777f0b1feb9&as-searchtext=snee&page=5',\n",
       " 'https://www.flipkart.com/search?q=sneakers&sid=osp%2Ccil%2Ce1f&as=on&as-show=on&otracker=AS_QueryStore_OrganicAutoSuggest_1_4_na_na_na&otracker1=AS_QueryStore_OrganicAutoSuggest_1_4_na_na_na&as-pos=1&as-type=RECENT&suggestionId=sneakers%7CMen%27s+Casual+Shoes&requestId=2d371462-17ed-4781-adc5-e777f0b1feb9&as-searchtext=snee&page=6',\n",
       " 'https://www.flipkart.com/search?q=sneakers&sid=osp%2Ccil%2Ce1f&as=on&as-show=on&otracker=AS_QueryStore_OrganicAutoSuggest_1_4_na_na_na&otracker1=AS_QueryStore_OrganicAutoSuggest_1_4_na_na_na&as-pos=1&as-type=RECENT&suggestionId=sneakers%7CMen%27s+Casual+Shoes&requestId=2d371462-17ed-4781-adc5-e777f0b1feb9&as-searchtext=snee&page=7',\n",
       " 'https://www.flipkart.com/search?q=sneakers&sid=osp%2Ccil%2Ce1f&as=on&as-show=on&otracker=AS_QueryStore_OrganicAutoSuggest_1_4_na_na_na&otracker1=AS_QueryStore_OrganicAutoSuggest_1_4_na_na_na&as-pos=1&as-type=RECENT&suggestionId=sneakers%7CMen%27s+Casual+Shoes&requestId=2d371462-17ed-4781-adc5-e777f0b1feb9&as-searchtext=snee&page=8',\n",
       " 'https://www.flipkart.com/search?q=sneakers&sid=osp%2Ccil%2Ce1f&as=on&as-show=on&otracker=AS_QueryStore_OrganicAutoSuggest_1_4_na_na_na&otracker1=AS_QueryStore_OrganicAutoSuggest_1_4_na_na_na&as-pos=1&as-type=RECENT&suggestionId=sneakers%7CMen%27s+Casual+Shoes&requestId=2d371462-17ed-4781-adc5-e777f0b1feb9&as-searchtext=snee&page=9',\n",
       " 'https://www.flipkart.com/search?q=sneakers&sid=osp%2Ccil%2Ce1f&as=on&as-show=on&otracker=AS_QueryStore_OrganicAutoSuggest_1_4_na_na_na&otracker1=AS_QueryStore_OrganicAutoSuggest_1_4_na_na_na&as-pos=1&as-type=RECENT&suggestionId=sneakers%7CMen%27s+Casual+Shoes&requestId=2d371462-17ed-4781-adc5-e777f0b1feb9&as-searchtext=snee&page=10']"
      ]
     },
     "execution_count": 6,
     "metadata": {},
     "output_type": "execute_result"
    }
   ],
   "source": [
    "ur"
   ]
  },
  {
   "cell_type": "code",
   "execution_count": 7,
   "metadata": {},
   "outputs": [],
   "source": [
    "from selenium.common.exceptions import StaleElementReferenceException\n",
    "from selenium.webdriver.support.ui import WebDriverWait\n",
    "from selenium.webdriver.support import expected_conditions as EC\n",
    "from selenium.webdriver.common.by import By"
   ]
  },
  {
   "cell_type": "code",
   "execution_count": 8,
   "metadata": {},
   "outputs": [],
   "source": [
    "brand=[]\n",
    "\n",
    "for i in ur[0:3]:\n",
    "    driver.get(i)\n",
    "    brands=driver.find_elements_by_xpath(\"//div[@class='_2WkVRV']\")\n",
    "for j in brands:\n",
    "    brand.append(j.text) \n",
    "   \n",
    "    \n",
    "    \n"
   ]
  },
  {
   "cell_type": "code",
   "execution_count": 9,
   "metadata": {},
   "outputs": [
    {
     "data": {
      "text/plain": [
       "['Aura',\n",
       " 'World Wear Footwear',\n",
       " 'DIGITRENDZZ',\n",
       " 'BRUTON',\n",
       " 'ADIDAS',\n",
       " 'LuvShus',\n",
       " 'Chevit',\n",
       " 'spade club',\n",
       " 'World Wear Footwear',\n",
       " 'BRUTON',\n",
       " 'MOU',\n",
       " 'Birde',\n",
       " 'Essence',\n",
       " 'Airland',\n",
       " 'Chevit',\n",
       " 'ADIDAS',\n",
       " 'Oricum',\n",
       " 'My Walk G',\n",
       " 'Modern Fashion Shoes',\n",
       " 'Stinson',\n",
       " 'Zsyto',\n",
       " 'ADIDAS',\n",
       " 'PERY-PAO',\n",
       " 'Fzzirok',\n",
       " 'KNIGHT WALKERS',\n",
       " 'Rockfield',\n",
       " 'World Wear Footwear',\n",
       " 'Edoeviv',\n",
       " 'BRUTON',\n",
       " 'REWARM',\n",
       " 'Puma',\n",
       " 'Jokatoo',\n",
       " 'M K FOOTWEAR',\n",
       " 'Swiggy',\n",
       " 'BUCIK',\n",
       " 'Rockfield',\n",
       " 'Labbin',\n",
       " 'Clymb',\n",
       " 'GANPATI TRADERS',\n",
       " 'Stinson']"
      ]
     },
     "execution_count": 9,
     "metadata": {},
     "output_type": "execute_result"
    }
   ],
   "source": [
    "brand"
   ]
  },
  {
   "cell_type": "code",
   "execution_count": 10,
   "metadata": {},
   "outputs": [
    {
     "data": {
      "text/plain": [
       "['Casual Lace-Up Shoes First time in india extra light we...',\n",
       " 'Men-1227 Casual Loafer Sneakers Shoes Sneakers For Men',\n",
       " 'SM-162 Sneakers For Men',\n",
       " 'Combo Pack Of 4 Canvas Sneakers For Men',\n",
       " 'Smart Casuals Canvas Shoes Combo pack of 2 Sneakers For...',\n",
       " 'EASY VULC 2.0 Sneakers For Men',\n",
       " 'Combo Pack of 2 Casual Shoes Sneakers For Men',\n",
       " 'Men Sports Sneakers For Men',\n",
       " 'Sneakers For Men',\n",
       " 'Lightweight Combo Pack of 02 Trendy Casuals Sneakers Fo...',\n",
       " 'shoes For Mens Combo(MR)-1635-1621 ( Multicolor-Pack of...',\n",
       " 'EASY VULC 2.0 Sneakers For Men',\n",
       " 'Adiset M Sneakers For Men',\n",
       " 'Combo Pack Of 3 Sneakers For Men',\n",
       " 'Grey Casual Shoes Sneakers For Men',\n",
       " 'Sneakers For Men',\n",
       " 'Sneakers For Men',\n",
       " 'Sneakers For Men',\n",
       " 'Combo Pack of 5 Casual Sneakers With Sneakers For Men',\n",
       " \"Men's CASUAL Shoes Fashion Breathable Sneakers Sneakers...\",\n",
       " 'Smash L Sneakers For Men',\n",
       " 'Sneakers For Men',\n",
       " 'Sneakers For Men',\n",
       " 'Casual Loafers, Sneakers Shoes for Men Pack of 5 Combo(...',\n",
       " 'Sneakers For Men',\n",
       " 'Fashion Outdoor Canvas Casual Light Weight Partywear Sn...',\n",
       " 'EXPLORE Sneakers For Men',\n",
       " 'Sneakers For Men']"
      ]
     },
     "execution_count": 10,
     "metadata": {},
     "output_type": "execute_result"
    }
   ],
   "source": [
    "description=[]\n",
    "for i in ur[0:3]:\n",
    "    driver.get(i)\n",
    "    des=driver.find_elements_by_xpath(\"//a[@class='IRpwTa']\")\n",
    "for j in des:\n",
    "    description.append(j.text)    \n",
    "\n",
    "description"
   ]
  },
  {
   "cell_type": "code",
   "execution_count": 11,
   "metadata": {},
   "outputs": [
    {
     "data": {
      "text/plain": [
       "['₹498',\n",
       " '₹240',\n",
       " '₹779',\n",
       " '₹499',\n",
       " '₹299',\n",
       " '₹658',\n",
       " '₹1,747',\n",
       " '₹380',\n",
       " '₹499',\n",
       " '₹379',\n",
       " '₹499',\n",
       " '₹499',\n",
       " '₹498',\n",
       " '₹298',\n",
       " '₹1,759',\n",
       " '₹389',\n",
       " '₹379',\n",
       " '₹349',\n",
       " '₹2,123',\n",
       " '₹699',\n",
       " '₹401',\n",
       " '₹344',\n",
       " '₹678',\n",
       " '₹420',\n",
       " '₹529',\n",
       " '₹499',\n",
       " '₹417',\n",
       " '₹759',\n",
       " '₹525',\n",
       " '₹399',\n",
       " '₹2,249',\n",
       " '₹423',\n",
       " '₹599',\n",
       " '₹759',\n",
       " '₹289',\n",
       " '₹199',\n",
       " '₹479',\n",
       " '₹399',\n",
       " '₹1,661',\n",
       " '₹299']"
      ]
     },
     "execution_count": 11,
     "metadata": {},
     "output_type": "execute_result"
    }
   ],
   "source": [
    "price=[]\n",
    "for i in ur[0:3]:\n",
    "    driver.get(i)\n",
    "    rate=driver.find_elements_by_xpath(\"//div[@class='_30jeq3']\")\n",
    "for j in rate:\n",
    "    price.append(j.text)    \n",
    "\n",
    "price"
   ]
  },
  {
   "cell_type": "code",
   "execution_count": 12,
   "metadata": {},
   "outputs": [],
   "source": [
    "discount=[]\n",
    "for i in ur[0:3]:\n",
    "    driver.get(i)\n",
    "    disc=driver.find_elements_by_xpath(\"//div[@class='_3Ay6Sb']\")\n",
    "for j in disc:\n",
    "    discount.append(j.text)    \n",
    "\n"
   ]
  },
  {
   "cell_type": "code",
   "execution_count": 13,
   "metadata": {},
   "outputs": [
    {
     "data": {
      "text/plain": [
       "['50% off',\n",
       " '51% off',\n",
       " '17% off',\n",
       " '85% off',\n",
       " '70% off',\n",
       " '34% off',\n",
       " '54% off',\n",
       " '61% off',\n",
       " '50% off',\n",
       " '70% off',\n",
       " '50% off',\n",
       " '68% off',\n",
       " '50% off',\n",
       " '40% off',\n",
       " '56% off',\n",
       " '61% off',\n",
       " '62% off',\n",
       " '76% off',\n",
       " '41% off',\n",
       " '53% off',\n",
       " '59% off',\n",
       " '73% off',\n",
       " '15% off',\n",
       " '57% off',\n",
       " '47% off',\n",
       " '37% off',\n",
       " '58% off',\n",
       " '81% off',\n",
       " '47% off',\n",
       " '60% off',\n",
       " '50% off',\n",
       " '71% off',\n",
       " '70% off',\n",
       " '69% off',\n",
       " '42% off',\n",
       " '60% off',\n",
       " '52% off',\n",
       " '60% off',\n",
       " '12% off',\n",
       " '40% off']"
      ]
     },
     "execution_count": 13,
     "metadata": {},
     "output_type": "execute_result"
    }
   ],
   "source": [
    "discount"
   ]
  },
  {
   "cell_type": "code",
   "execution_count": 14,
   "metadata": {},
   "outputs": [
    {
     "data": {
      "text/html": [
       "<div>\n",
       "<style scoped>\n",
       "    .dataframe tbody tr th:only-of-type {\n",
       "        vertical-align: middle;\n",
       "    }\n",
       "\n",
       "    .dataframe tbody tr th {\n",
       "        vertical-align: top;\n",
       "    }\n",
       "\n",
       "    .dataframe thead th {\n",
       "        text-align: right;\n",
       "    }\n",
       "</style>\n",
       "<table border=\"1\" class=\"dataframe\">\n",
       "  <thead>\n",
       "    <tr style=\"text-align: right;\">\n",
       "      <th></th>\n",
       "      <th>Brand</th>\n",
       "      <th>Description</th>\n",
       "      <th>Price</th>\n",
       "      <th>Discount</th>\n",
       "    </tr>\n",
       "  </thead>\n",
       "  <tbody>\n",
       "    <tr>\n",
       "      <th>0</th>\n",
       "      <td>Aura</td>\n",
       "      <td>Casual Lace-Up Shoes First time in india extra...</td>\n",
       "      <td>₹498</td>\n",
       "      <td>50% off</td>\n",
       "    </tr>\n",
       "    <tr>\n",
       "      <th>1</th>\n",
       "      <td>World Wear Footwear</td>\n",
       "      <td>Men-1227 Casual Loafer Sneakers Shoes Sneakers...</td>\n",
       "      <td>₹240</td>\n",
       "      <td>51% off</td>\n",
       "    </tr>\n",
       "    <tr>\n",
       "      <th>2</th>\n",
       "      <td>DIGITRENDZZ</td>\n",
       "      <td>SM-162 Sneakers For Men</td>\n",
       "      <td>₹779</td>\n",
       "      <td>17% off</td>\n",
       "    </tr>\n",
       "    <tr>\n",
       "      <th>3</th>\n",
       "      <td>BRUTON</td>\n",
       "      <td>Combo Pack Of 4 Canvas Sneakers For Men</td>\n",
       "      <td>₹499</td>\n",
       "      <td>85% off</td>\n",
       "    </tr>\n",
       "    <tr>\n",
       "      <th>4</th>\n",
       "      <td>ADIDAS</td>\n",
       "      <td>Smart Casuals Canvas Shoes Combo pack of 2 Sne...</td>\n",
       "      <td>₹299</td>\n",
       "      <td>70% off</td>\n",
       "    </tr>\n",
       "    <tr>\n",
       "      <th>5</th>\n",
       "      <td>LuvShus</td>\n",
       "      <td>EASY VULC 2.0 Sneakers For Men</td>\n",
       "      <td>₹658</td>\n",
       "      <td>34% off</td>\n",
       "    </tr>\n",
       "    <tr>\n",
       "      <th>6</th>\n",
       "      <td>Chevit</td>\n",
       "      <td>Combo Pack of 2 Casual Shoes Sneakers For Men</td>\n",
       "      <td>₹1,747</td>\n",
       "      <td>54% off</td>\n",
       "    </tr>\n",
       "    <tr>\n",
       "      <th>7</th>\n",
       "      <td>spade club</td>\n",
       "      <td>Men Sports Sneakers For Men</td>\n",
       "      <td>₹380</td>\n",
       "      <td>61% off</td>\n",
       "    </tr>\n",
       "    <tr>\n",
       "      <th>8</th>\n",
       "      <td>World Wear Footwear</td>\n",
       "      <td>Sneakers For Men</td>\n",
       "      <td>₹499</td>\n",
       "      <td>50% off</td>\n",
       "    </tr>\n",
       "    <tr>\n",
       "      <th>9</th>\n",
       "      <td>BRUTON</td>\n",
       "      <td>Lightweight Combo Pack of 02 Trendy Casuals Sn...</td>\n",
       "      <td>₹379</td>\n",
       "      <td>70% off</td>\n",
       "    </tr>\n",
       "  </tbody>\n",
       "</table>\n",
       "</div>"
      ],
      "text/plain": [
       "                 Brand                                        Description  \\\n",
       "0                 Aura  Casual Lace-Up Shoes First time in india extra...   \n",
       "1  World Wear Footwear  Men-1227 Casual Loafer Sneakers Shoes Sneakers...   \n",
       "2          DIGITRENDZZ                            SM-162 Sneakers For Men   \n",
       "3               BRUTON            Combo Pack Of 4 Canvas Sneakers For Men   \n",
       "4               ADIDAS  Smart Casuals Canvas Shoes Combo pack of 2 Sne...   \n",
       "5              LuvShus                     EASY VULC 2.0 Sneakers For Men   \n",
       "6               Chevit      Combo Pack of 2 Casual Shoes Sneakers For Men   \n",
       "7           spade club                        Men Sports Sneakers For Men   \n",
       "8  World Wear Footwear                                   Sneakers For Men   \n",
       "9               BRUTON  Lightweight Combo Pack of 02 Trendy Casuals Sn...   \n",
       "\n",
       "    Price Discount  \n",
       "0    ₹498  50% off  \n",
       "1    ₹240  51% off  \n",
       "2    ₹779  17% off  \n",
       "3    ₹499  85% off  \n",
       "4    ₹299  70% off  \n",
       "5    ₹658  34% off  \n",
       "6  ₹1,747  54% off  \n",
       "7    ₹380  61% off  \n",
       "8    ₹499  50% off  \n",
       "9    ₹379  70% off  "
      ]
     },
     "execution_count": 14,
     "metadata": {},
     "output_type": "execute_result"
    }
   ],
   "source": [
    "df=pd.DataFrame({\"Brand\":brand[0:10],\n",
    "                \"Description\":description[0:10],\n",
    "                \"Price\":price[0:10],\n",
    "                 \"Discount\":discount[0:10]\n",
    "                  })\n",
    "df"
   ]
  },
  {
   "cell_type": "code",
   "execution_count": null,
   "metadata": {},
   "outputs": [],
   "source": []
  },
  {
   "cell_type": "code",
   "execution_count": 15,
   "metadata": {},
   "outputs": [],
   "source": [
    "driver.close()"
   ]
  },
  {
   "cell_type": "markdown",
   "metadata": {},
   "source": [
    "# Q9: Go to the link - https://www.myntra.com/shoes  Set Price filter to “Rs. 6649 to Rs. 13099” , Color filter to “Black”, as shown in the below image "
   ]
  },
  {
   "cell_type": "code",
   "execution_count": 17,
   "metadata": {},
   "outputs": [],
   "source": [
    "driver=webdriver.Chrome(r'C:\\Users\\MARJAN\\Desktop\\chromedriver.exe')"
   ]
  },
  {
   "cell_type": "code",
   "execution_count": 18,
   "metadata": {},
   "outputs": [],
   "source": [
    "url=\"https://www.myntra.com/shoes?f=Color%3ABlack_36454f&plaEnabled=false&rf=Price%3A5899.0_11599.0_5899.0%20TO%2011599.0\""
   ]
  },
  {
   "cell_type": "code",
   "execution_count": 19,
   "metadata": {},
   "outputs": [],
   "source": [
    "driver.get(url)"
   ]
  },
  {
   "cell_type": "code",
   "execution_count": 22,
   "metadata": {},
   "outputs": [],
   "source": [
    "ur=[]\n",
    "page_buttons=driver.find_elements_by_xpath(\"//li[@class='pagination-number']/a\")\n",
    "for i in page_buttons:\n",
    "    ur.append(i.get_attribute('href'))"
   ]
  },
  {
   "cell_type": "code",
   "execution_count": 23,
   "metadata": {},
   "outputs": [
    {
     "data": {
      "text/plain": [
       "['https://www.myntra.com/shoes?f=Color%3ABlack_36454f&plaEnabled=false&rf=Price%3A5899.0_11599.0_5899.0%20TO%2011599.0&p=2',\n",
       " 'https://www.myntra.com/shoes?f=Color%3ABlack_36454f&plaEnabled=false&rf=Price%3A5899.0_11599.0_5899.0%20TO%2011599.0&p=3',\n",
       " 'https://www.myntra.com/shoes?f=Color%3ABlack_36454f&plaEnabled=false&rf=Price%3A5899.0_11599.0_5899.0%20TO%2011599.0&p=4',\n",
       " 'https://www.myntra.com/shoes?f=Color%3ABlack_36454f&plaEnabled=false&rf=Price%3A5899.0_11599.0_5899.0%20TO%2011599.0&p=5',\n",
       " 'https://www.myntra.com/shoes?f=Color%3ABlack_36454f&plaEnabled=false&rf=Price%3A5899.0_11599.0_5899.0%20TO%2011599.0&p=6',\n",
       " 'https://www.myntra.com/shoes?f=Color%3ABlack_36454f&plaEnabled=false&rf=Price%3A5899.0_11599.0_5899.0%20TO%2011599.0&p=7',\n",
       " 'https://www.myntra.com/shoes?f=Color%3ABlack_36454f&plaEnabled=false&rf=Price%3A5899.0_11599.0_5899.0%20TO%2011599.0&p=8',\n",
       " 'https://www.myntra.com/shoes?f=Color%3ABlack_36454f&plaEnabled=false&rf=Price%3A5899.0_11599.0_5899.0%20TO%2011599.0&p=9',\n",
       " 'https://www.myntra.com/shoes?f=Color%3ABlack_36454f&plaEnabled=false&rf=Price%3A5899.0_11599.0_5899.0%20TO%2011599.0&p=10']"
      ]
     },
     "execution_count": 23,
     "metadata": {},
     "output_type": "execute_result"
    }
   ],
   "source": [
    "ur"
   ]
  },
  {
   "cell_type": "code",
   "execution_count": 24,
   "metadata": {},
   "outputs": [
    {
     "data": {
      "text/plain": [
       "['FILA',\n",
       " 'CHARLES & KEITH',\n",
       " 'CHARLES & KEITH',\n",
       " 'CHARLES & KEITH',\n",
       " 'CHARLES & KEITH',\n",
       " 'CHARLES & KEITH',\n",
       " 'CHARLES & KEITH',\n",
       " 'CHARLES & KEITH',\n",
       " 'CHARLES & KEITH',\n",
       " 'CHARLES & KEITH',\n",
       " 'DOROTHY PERKINS',\n",
       " 'UNDER ARMOUR',\n",
       " 'UNDER ARMOUR',\n",
       " 'Metro',\n",
       " 'Ruosh',\n",
       " 'Ruosh',\n",
       " 'Tommy Hilfiger',\n",
       " 'Florsheim',\n",
       " 'Heel & Buckle London',\n",
       " 'Vanilla Moon',\n",
       " 'Vanilla Moon',\n",
       " 'Birkenstock',\n",
       " 'Birkenstock',\n",
       " 'Kenneth Cole',\n",
       " 'DAVINCHI',\n",
       " 'DAVINCHI',\n",
       " 'DAVINCHI',\n",
       " 'DAVINCHI',\n",
       " 'J.FONTINI',\n",
       " 'DAVINCHI',\n",
       " 'J.FONTINI',\n",
       " 'DAVINCHI',\n",
       " 'DAVINCHI',\n",
       " 'DAVINCHI',\n",
       " 'DAVINCHI',\n",
       " 'Heel & Buckle London',\n",
       " 'DAVINCHI',\n",
       " 'DAVINCHI',\n",
       " 'DAVINCHI',\n",
       " 'DAVINCHI',\n",
       " 'Ruosh',\n",
       " 'Kenneth Cole',\n",
       " 'Kenneth Cole',\n",
       " 'Kenneth Cole',\n",
       " 'Kenneth Cole',\n",
       " 'Kenneth Cole',\n",
       " 'Saint G',\n",
       " 'Kenneth Cole',\n",
       " 'Kenneth Cole',\n",
       " 'Nike']"
      ]
     },
     "execution_count": 24,
     "metadata": {},
     "output_type": "execute_result"
    }
   ],
   "source": [
    "brand=[]\n",
    "\n",
    "for i in ur[0:3]:\n",
    "    driver.get(i)\n",
    "    brands=driver.find_elements_by_xpath(\"//h3[@class='product-brand']\")\n",
    "for j in brands:\n",
    "    brand.append(j.text) \n",
    "   \n",
    "    \n",
    "    \n",
    "brand"
   ]
  },
  {
   "cell_type": "code",
   "execution_count": 25,
   "metadata": {},
   "outputs": [
    {
     "data": {
      "text/plain": [
       "['Women Sneakers',\n",
       " 'Women Heels',\n",
       " 'Women Sandals',\n",
       " 'Women Heels',\n",
       " 'Women Sandals',\n",
       " 'Women Heels',\n",
       " 'Women Peep Toes',\n",
       " 'Women Pumps',\n",
       " 'Women Sandals',\n",
       " 'Women Sandals',\n",
       " 'Women Embellished Heeled Boots',\n",
       " 'Charged RC Sportstyle Sneakers',\n",
       " 'Women Charged Breathe OIL SLK',\n",
       " 'Men Solid Leather Formal Loafers',\n",
       " 'Men Solid Leather Formal Derbys',\n",
       " 'Men Solid Leather Formal Monks',\n",
       " 'Women Leather Loafers',\n",
       " 'Men Solid Leather Formal Loafers',\n",
       " 'Men Leather Formal Loafers',\n",
       " 'Women Leather Open Toe Flats',\n",
       " 'Women Open Toe Flats',\n",
       " 'Women Open Toe Flats',\n",
       " 'Women Open Toe Flats',\n",
       " 'Men Striped Sneakers',\n",
       " 'Ustraa black',\n",
       " 'Formal Leather Loafers',\n",
       " 'Solid Leather Formal Shoes',\n",
       " 'Solid Slip On Shoes',\n",
       " 'Men Solid Leather Formal Slip-Ons',\n",
       " 'DAVINCHI',\n",
       " 'Men Solid Leather Formal Slip-Ons',\n",
       " 'DAVINCHI',\n",
       " 'Men Textured Formal Leather Slip-On Shoes',\n",
       " 'Men Textured Leather Formal Loafers',\n",
       " 'Men Solid Leather Formal Loafers',\n",
       " 'Men Solid Leather Formal Monk Shoes',\n",
       " 'Men Solid Formal Leather Loafers',\n",
       " 'Men Textured Formal Leather Oxfords',\n",
       " 'Men Solid Leather Formal Derbys',\n",
       " 'Men Solid Formal Leather Slip-On Shoes',\n",
       " 'Men Leather Formal Brogues',\n",
       " 'Women Heels',\n",
       " 'Women Leather Pumps',\n",
       " 'Men Solid Leather Formal Loafers',\n",
       " 'Women Printed Sneakers',\n",
       " 'Men Leather Sneakers',\n",
       " 'Women Leather Sneakers',\n",
       " 'Men Formal Derbys',\n",
       " 'Men Formal Derbys',\n",
       " 'Men Zoom Running Shoes']"
      ]
     },
     "execution_count": 25,
     "metadata": {},
     "output_type": "execute_result"
    }
   ],
   "source": [
    "description=[]\n",
    "\n",
    "for i in ur[0:3]:\n",
    "    driver.get(i)\n",
    "    des=driver.find_elements_by_xpath(\"//h4[@class='product-product']\")\n",
    "for j in des:\n",
    "    description.append(j.text) \n",
    "   \n",
    "    \n",
    "    \n",
    "description"
   ]
  },
  {
   "cell_type": "code",
   "execution_count": 28,
   "metadata": {},
   "outputs": [
    {
     "data": {
      "text/plain": [
       "['Rs. 6839',\n",
       " 'Rs. 8792',\n",
       " 'Rs. 7413',\n",
       " 'Rs. 7400',\n",
       " 'Rs. 10213',\n",
       " 'Rs. 10493',\n",
       " 'Rs. 7794',\n",
       " 'Rs. 7343',\n",
       " 'Rs. 6993',\n",
       " 'Rs. 7413',\n",
       " 'Rs. 7413',\n",
       " 'Rs. 6399']"
      ]
     },
     "execution_count": 28,
     "metadata": {},
     "output_type": "execute_result"
    }
   ],
   "source": [
    "price=[]\n",
    "\n",
    "for i in ur[0:3]:\n",
    "    driver.get(i)\n",
    "    pr=driver.find_elements_by_xpath(\"//span[@class='product-discountedPrice']\")\n",
    "for j in pr:\n",
    "    price.append(j.text) \n",
    "   \n",
    "    \n",
    "    \n",
    "price"
   ]
  },
  {
   "cell_type": "code",
   "execution_count": 29,
   "metadata": {},
   "outputs": [
    {
     "data": {
      "text/html": [
       "<div>\n",
       "<style scoped>\n",
       "    .dataframe tbody tr th:only-of-type {\n",
       "        vertical-align: middle;\n",
       "    }\n",
       "\n",
       "    .dataframe tbody tr th {\n",
       "        vertical-align: top;\n",
       "    }\n",
       "\n",
       "    .dataframe thead th {\n",
       "        text-align: right;\n",
       "    }\n",
       "</style>\n",
       "<table border=\"1\" class=\"dataframe\">\n",
       "  <thead>\n",
       "    <tr style=\"text-align: right;\">\n",
       "      <th></th>\n",
       "      <th>Brand</th>\n",
       "      <th>Description</th>\n",
       "      <th>Price</th>\n",
       "    </tr>\n",
       "  </thead>\n",
       "  <tbody>\n",
       "    <tr>\n",
       "      <th>0</th>\n",
       "      <td>FILA</td>\n",
       "      <td>Women Sneakers</td>\n",
       "      <td>Rs. 6839</td>\n",
       "    </tr>\n",
       "    <tr>\n",
       "      <th>1</th>\n",
       "      <td>CHARLES &amp; KEITH</td>\n",
       "      <td>Women Heels</td>\n",
       "      <td>Rs. 8792</td>\n",
       "    </tr>\n",
       "    <tr>\n",
       "      <th>2</th>\n",
       "      <td>CHARLES &amp; KEITH</td>\n",
       "      <td>Women Sandals</td>\n",
       "      <td>Rs. 7413</td>\n",
       "    </tr>\n",
       "    <tr>\n",
       "      <th>3</th>\n",
       "      <td>CHARLES &amp; KEITH</td>\n",
       "      <td>Women Heels</td>\n",
       "      <td>Rs. 7400</td>\n",
       "    </tr>\n",
       "    <tr>\n",
       "      <th>4</th>\n",
       "      <td>CHARLES &amp; KEITH</td>\n",
       "      <td>Women Sandals</td>\n",
       "      <td>Rs. 10213</td>\n",
       "    </tr>\n",
       "    <tr>\n",
       "      <th>5</th>\n",
       "      <td>CHARLES &amp; KEITH</td>\n",
       "      <td>Women Heels</td>\n",
       "      <td>Rs. 10493</td>\n",
       "    </tr>\n",
       "    <tr>\n",
       "      <th>6</th>\n",
       "      <td>CHARLES &amp; KEITH</td>\n",
       "      <td>Women Peep Toes</td>\n",
       "      <td>Rs. 7794</td>\n",
       "    </tr>\n",
       "    <tr>\n",
       "      <th>7</th>\n",
       "      <td>CHARLES &amp; KEITH</td>\n",
       "      <td>Women Pumps</td>\n",
       "      <td>Rs. 7343</td>\n",
       "    </tr>\n",
       "    <tr>\n",
       "      <th>8</th>\n",
       "      <td>CHARLES &amp; KEITH</td>\n",
       "      <td>Women Sandals</td>\n",
       "      <td>Rs. 6993</td>\n",
       "    </tr>\n",
       "    <tr>\n",
       "      <th>9</th>\n",
       "      <td>CHARLES &amp; KEITH</td>\n",
       "      <td>Women Sandals</td>\n",
       "      <td>Rs. 7413</td>\n",
       "    </tr>\n",
       "  </tbody>\n",
       "</table>\n",
       "</div>"
      ],
      "text/plain": [
       "             Brand      Description      Price\n",
       "0             FILA   Women Sneakers   Rs. 6839\n",
       "1  CHARLES & KEITH      Women Heels   Rs. 8792\n",
       "2  CHARLES & KEITH    Women Sandals   Rs. 7413\n",
       "3  CHARLES & KEITH      Women Heels   Rs. 7400\n",
       "4  CHARLES & KEITH    Women Sandals  Rs. 10213\n",
       "5  CHARLES & KEITH      Women Heels  Rs. 10493\n",
       "6  CHARLES & KEITH  Women Peep Toes   Rs. 7794\n",
       "7  CHARLES & KEITH      Women Pumps   Rs. 7343\n",
       "8  CHARLES & KEITH    Women Sandals   Rs. 6993\n",
       "9  CHARLES & KEITH    Women Sandals   Rs. 7413"
      ]
     },
     "execution_count": 29,
     "metadata": {},
     "output_type": "execute_result"
    }
   ],
   "source": [
    "df=pd.DataFrame({\"Brand\":brand[0:10],\n",
    "                \"Description\":description[0:10],\n",
    "                \"Price\":price[0:10]\n",
    "                \n",
    "                  })\n",
    "df"
   ]
  },
  {
   "cell_type": "code",
   "execution_count": 30,
   "metadata": {},
   "outputs": [],
   "source": [
    "driver.close()"
   ]
  },
  {
   "cell_type": "markdown",
   "metadata": {},
   "source": [
    "# Q10:  Go to webpage https://www.amazon.in/ "
   ]
  },
  {
   "cell_type": "code",
   "execution_count": 19,
   "metadata": {},
   "outputs": [],
   "source": [
    "driver=webdriver.Chrome(r'C:\\Users\\MARJAN\\Desktop\\chromedriver.exe')"
   ]
  },
  {
   "cell_type": "code",
   "execution_count": 20,
   "metadata": {},
   "outputs": [],
   "source": [
    "url=\"https://www.amazon.in/s?k=laptop&i=computers&rh=n%3A1375424031%2Cp_n_feature_thirteen_browse-bin%3A12598163031%7C16757432031&dc&qid=1611386299&rnid=12598141031&ref=sr_nr_p_n_feature_thirteen_browse-bin_17\""
   ]
  },
  {
   "cell_type": "code",
   "execution_count": 21,
   "metadata": {},
   "outputs": [],
   "source": [
    "driver.get(url)"
   ]
  },
  {
   "cell_type": "code",
   "execution_count": 22,
   "metadata": {},
   "outputs": [],
   "source": [
    "title=[]\n",
    "rating=[]\n",
    "price=[]"
   ]
  },
  {
   "cell_type": "code",
   "execution_count": 23,
   "metadata": {},
   "outputs": [
    {
     "data": {
      "text/plain": [
       "[<selenium.webdriver.remote.webelement.WebElement (session=\"9058f78e4090dafe8ae9ec330c977d3f\", element=\"35899eec-5860-4846-a5d0-72a5f185056f\")>,\n",
       " <selenium.webdriver.remote.webelement.WebElement (session=\"9058f78e4090dafe8ae9ec330c977d3f\", element=\"cd364295-de03-4786-b465-475c1dd244a6\")>,\n",
       " <selenium.webdriver.remote.webelement.WebElement (session=\"9058f78e4090dafe8ae9ec330c977d3f\", element=\"c7b2c3f6-8940-4366-b825-0d4393ff28f8\")>,\n",
       " <selenium.webdriver.remote.webelement.WebElement (session=\"9058f78e4090dafe8ae9ec330c977d3f\", element=\"e1dcc3e7-ee25-4dfd-8cfd-ea441477f185\")>,\n",
       " <selenium.webdriver.remote.webelement.WebElement (session=\"9058f78e4090dafe8ae9ec330c977d3f\", element=\"8a4b6aa2-86ed-4c69-86c1-f6fa4db91ccd\")>,\n",
       " <selenium.webdriver.remote.webelement.WebElement (session=\"9058f78e4090dafe8ae9ec330c977d3f\", element=\"c0483f1f-6a6c-4719-a869-344b22945765\")>,\n",
       " <selenium.webdriver.remote.webelement.WebElement (session=\"9058f78e4090dafe8ae9ec330c977d3f\", element=\"accd0bfa-2d1f-451c-8539-7b565219d293\")>,\n",
       " <selenium.webdriver.remote.webelement.WebElement (session=\"9058f78e4090dafe8ae9ec330c977d3f\", element=\"4fb7e1eb-0bea-4279-ba15-0c86fd7b7a0a\")>,\n",
       " <selenium.webdriver.remote.webelement.WebElement (session=\"9058f78e4090dafe8ae9ec330c977d3f\", element=\"d87f3a7d-f9fc-44d3-bf84-33f7bc13b7a2\")>,\n",
       " <selenium.webdriver.remote.webelement.WebElement (session=\"9058f78e4090dafe8ae9ec330c977d3f\", element=\"fef0fad1-d554-4c6d-9a5a-d69e40640dfd\")>]"
      ]
     },
     "execution_count": 23,
     "metadata": {},
     "output_type": "execute_result"
    }
   ],
   "source": [
    "ti=driver.find_elements_by_xpath(\"//span[@class='a-size-medium a-color-base a-text-normal']\")\n",
    "ti[0:10]"
   ]
  },
  {
   "cell_type": "code",
   "execution_count": 24,
   "metadata": {},
   "outputs": [
    {
     "data": {
      "text/plain": [
       "['Mi Notebook Horizon Edition 14 Intel Core i7-10510U 10th Gen Thin and Light Laptop(8GB/512GB SSD/Windows 10/Nvidia MX350 2GB Graphics/Grey/1.35Kg), XMA1904-AF+Webcam',\n",
       " '(Renewed) HP Probook Laptop 430G3 Intel Core i7 - 6500u Processor, 24 GB Ram & 128 GB SSD, Win10, 13.3 Inches 1.55 KG Ultralight Computer',\n",
       " '(Renewed) Dell Latitude E7470 14-inch Laptop (Core i7 6th Gen/16GB/1 TB HDD/Windows 10/MS Office Pro 2019/Intel Graphics), Black',\n",
       " '(Renewed) Dell Latitude E7470 14-inch Laptop (Core i7 6th Gen/8GB(Up to 16)/500 GB HDD/Windows 10/MS Office Pro 2019/Intel Graphics), Black',\n",
       " '(Renewed) Dell Latitude E7470 14-inch Laptop (Core i7 6th Gen/16GB/500 GB HDD/Windows 10/MS Office Pro 2019/Intel Graphics), Black',\n",
       " '(Renewed) Dell Latitude E6420 14 Inch Laptop (Core I7 2460M/8GB/1TB/Nvidia Dedicated Graphics/Windows Professional/MS Office), Dark Grey',\n",
       " 'Mi Notebook Horizon Edition 14 Intel Core i5-10210U 10th Gen Thin and Light Laptop(8GB/512GB SSD/Windows 10/Nvidia MX350 2GB Graphics/Grey/1.35Kg), XMA1904-AR+Webcam',\n",
       " '(Renewed) Dell Latitude E5570 15-inch Laptop (Core i7 6th Gen/16GB/500 GB HDD/Windows 10/MS Office Pro 2019/AMD Graphics), Black',\n",
       " 'Lenovo Yoga S740 Intel Core i7 10th Gen 14 inch UHD Ultra Thin and Light Laptop (16GB/1TB SSD/Windows/Office/NVIDIA MX250 2GB/Iron Grey/1.4Kg), 81RS00B0IN',\n",
       " '(Renewed) ASUS ROG Strix G G531GT-AL018T 15.6\" FHD 120Hz Gaming Laptop GTX 1650 4GB Graphics (Core™ i7-9750H 9th Gen/16GB RAM/512GB NVMe SSD/Windows 10/2.40 Kg), Black']"
      ]
     },
     "execution_count": 24,
     "metadata": {},
     "output_type": "execute_result"
    }
   ],
   "source": [
    "for i in ti:\n",
    "    ex=i.text\n",
    "    title.append(ex)\n",
    "\n",
    "title[0:10]"
   ]
  },
  {
   "cell_type": "code",
   "execution_count": 25,
   "metadata": {},
   "outputs": [
    {
     "data": {
      "text/plain": [
       "[<selenium.webdriver.remote.webelement.WebElement (session=\"9058f78e4090dafe8ae9ec330c977d3f\", element=\"fbf4b3e9-e0eb-4a90-b26a-31b4adcec94b\")>,\n",
       " <selenium.webdriver.remote.webelement.WebElement (session=\"9058f78e4090dafe8ae9ec330c977d3f\", element=\"92a4e61d-c9aa-40f6-b29f-c9b920d47e62\")>,\n",
       " <selenium.webdriver.remote.webelement.WebElement (session=\"9058f78e4090dafe8ae9ec330c977d3f\", element=\"f2fae2ab-59c7-4789-8529-8c929077dc25\")>,\n",
       " <selenium.webdriver.remote.webelement.WebElement (session=\"9058f78e4090dafe8ae9ec330c977d3f\", element=\"6b4c6f3a-b543-48da-8d8c-1b74c2ed5e4c\")>,\n",
       " <selenium.webdriver.remote.webelement.WebElement (session=\"9058f78e4090dafe8ae9ec330c977d3f\", element=\"596a547b-9cc0-44e6-8e54-daaf26e1db08\")>,\n",
       " <selenium.webdriver.remote.webelement.WebElement (session=\"9058f78e4090dafe8ae9ec330c977d3f\", element=\"9b863f60-b75b-4ecc-9551-b730c75e7783\")>,\n",
       " <selenium.webdriver.remote.webelement.WebElement (session=\"9058f78e4090dafe8ae9ec330c977d3f\", element=\"5343643e-8979-4ea0-80ba-9f908c6c7035\")>,\n",
       " <selenium.webdriver.remote.webelement.WebElement (session=\"9058f78e4090dafe8ae9ec330c977d3f\", element=\"146ab146-9ef7-4049-a7dd-efd1727b52d4\")>,\n",
       " <selenium.webdriver.remote.webelement.WebElement (session=\"9058f78e4090dafe8ae9ec330c977d3f\", element=\"2bf6df62-bf09-433e-b792-80a7ed714238\")>,\n",
       " <selenium.webdriver.remote.webelement.WebElement (session=\"9058f78e4090dafe8ae9ec330c977d3f\", element=\"4997620d-fb82-408d-8730-6d9ad1ac7902\")>]"
      ]
     },
     "execution_count": 25,
     "metadata": {},
     "output_type": "execute_result"
    }
   ],
   "source": [
    "ra=driver.find_elements_by_xpath(\"//span[@class='a-icon-alt']\")\n",
    "ra[0:10]"
   ]
  },
  {
   "cell_type": "code",
   "execution_count": 27,
   "metadata": {},
   "outputs": [
    {
     "data": {
      "text/plain": [
       "['', '', '', '', '', '', '', '', '', '']"
      ]
     },
     "execution_count": 27,
     "metadata": {},
     "output_type": "execute_result"
    }
   ],
   "source": [
    "for i in ra:\n",
    "    rating.append(i.text)\n",
    "\n",
    "rating[0:10]\n",
    "\n"
   ]
  },
  {
   "cell_type": "code",
   "execution_count": 28,
   "metadata": {},
   "outputs": [
    {
     "data": {
      "text/plain": [
       "[<selenium.webdriver.remote.webelement.WebElement (session=\"9058f78e4090dafe8ae9ec330c977d3f\", element=\"ea2cafcf-ee71-4d34-80de-fc93c5a7d1bd\")>,\n",
       " <selenium.webdriver.remote.webelement.WebElement (session=\"9058f78e4090dafe8ae9ec330c977d3f\", element=\"b1516500-9411-4de3-8061-476844ca70fe\")>,\n",
       " <selenium.webdriver.remote.webelement.WebElement (session=\"9058f78e4090dafe8ae9ec330c977d3f\", element=\"b270fd1a-652b-425c-8c5d-825d44500682\")>,\n",
       " <selenium.webdriver.remote.webelement.WebElement (session=\"9058f78e4090dafe8ae9ec330c977d3f\", element=\"65e7ccb1-41a3-4325-9d8c-500e3a023e8f\")>,\n",
       " <selenium.webdriver.remote.webelement.WebElement (session=\"9058f78e4090dafe8ae9ec330c977d3f\", element=\"01dcca79-645c-4759-b255-c58e41760da6\")>,\n",
       " <selenium.webdriver.remote.webelement.WebElement (session=\"9058f78e4090dafe8ae9ec330c977d3f\", element=\"d29f58b9-2295-431d-9bad-bd796b6f9fb1\")>,\n",
       " <selenium.webdriver.remote.webelement.WebElement (session=\"9058f78e4090dafe8ae9ec330c977d3f\", element=\"8c6c6952-c544-48c3-8361-e9188930e799\")>,\n",
       " <selenium.webdriver.remote.webelement.WebElement (session=\"9058f78e4090dafe8ae9ec330c977d3f\", element=\"5f72a9e7-cbf5-46bf-a166-11aae7f6329f\")>,\n",
       " <selenium.webdriver.remote.webelement.WebElement (session=\"9058f78e4090dafe8ae9ec330c977d3f\", element=\"66b32921-dc57-420f-885f-83c87e065198\")>,\n",
       " <selenium.webdriver.remote.webelement.WebElement (session=\"9058f78e4090dafe8ae9ec330c977d3f\", element=\"37a0995b-d6a7-44cb-b9ea-dd2205ba3da5\")>]"
      ]
     },
     "execution_count": 28,
     "metadata": {},
     "output_type": "execute_result"
    }
   ],
   "source": [
    "pr=driver.find_elements_by_xpath(\"//span[@class='a-price-whole']\")\n",
    "pr[0:10]"
   ]
  },
  {
   "cell_type": "code",
   "execution_count": 29,
   "metadata": {},
   "outputs": [
    {
     "data": {
      "text/plain": [
       "['57,999',\n",
       " '60,990',\n",
       " '55,299',\n",
       " '52,699',\n",
       " '54,399',\n",
       " '45,000',\n",
       " '51,999',\n",
       " '63,499',\n",
       " '97,700',\n",
       " '69,990']"
      ]
     },
     "execution_count": 29,
     "metadata": {},
     "output_type": "execute_result"
    }
   ],
   "source": [
    "for i in pr:\n",
    "    ex=i.text\n",
    "    price.append(ex)\n",
    "\n",
    "price[0:10]"
   ]
  },
  {
   "cell_type": "code",
   "execution_count": 30,
   "metadata": {},
   "outputs": [],
   "source": [
    "df=pd.DataFrame({\"Title\":title[0:10],\n",
    "                \"Rating\":rating[0:10],\n",
    "                \"Price\":price[0:10]\n",
    "                })"
   ]
  },
  {
   "cell_type": "code",
   "execution_count": 31,
   "metadata": {},
   "outputs": [
    {
     "data": {
      "text/html": [
       "<div>\n",
       "<style scoped>\n",
       "    .dataframe tbody tr th:only-of-type {\n",
       "        vertical-align: middle;\n",
       "    }\n",
       "\n",
       "    .dataframe tbody tr th {\n",
       "        vertical-align: top;\n",
       "    }\n",
       "\n",
       "    .dataframe thead th {\n",
       "        text-align: right;\n",
       "    }\n",
       "</style>\n",
       "<table border=\"1\" class=\"dataframe\">\n",
       "  <thead>\n",
       "    <tr style=\"text-align: right;\">\n",
       "      <th></th>\n",
       "      <th>Title</th>\n",
       "      <th>Rating</th>\n",
       "      <th>Price</th>\n",
       "    </tr>\n",
       "  </thead>\n",
       "  <tbody>\n",
       "    <tr>\n",
       "      <th>0</th>\n",
       "      <td>Mi Notebook Horizon Edition 14 Intel Core i7-1...</td>\n",
       "      <td></td>\n",
       "      <td>57,999</td>\n",
       "    </tr>\n",
       "    <tr>\n",
       "      <th>1</th>\n",
       "      <td>(Renewed) HP Probook Laptop 430G3 Intel Core i...</td>\n",
       "      <td></td>\n",
       "      <td>60,990</td>\n",
       "    </tr>\n",
       "    <tr>\n",
       "      <th>2</th>\n",
       "      <td>(Renewed) Dell Latitude E7470 14-inch Laptop (...</td>\n",
       "      <td></td>\n",
       "      <td>55,299</td>\n",
       "    </tr>\n",
       "    <tr>\n",
       "      <th>3</th>\n",
       "      <td>(Renewed) Dell Latitude E7470 14-inch Laptop (...</td>\n",
       "      <td></td>\n",
       "      <td>52,699</td>\n",
       "    </tr>\n",
       "    <tr>\n",
       "      <th>4</th>\n",
       "      <td>(Renewed) Dell Latitude E7470 14-inch Laptop (...</td>\n",
       "      <td></td>\n",
       "      <td>54,399</td>\n",
       "    </tr>\n",
       "    <tr>\n",
       "      <th>5</th>\n",
       "      <td>(Renewed) Dell Latitude E6420 14 Inch Laptop (...</td>\n",
       "      <td></td>\n",
       "      <td>45,000</td>\n",
       "    </tr>\n",
       "    <tr>\n",
       "      <th>6</th>\n",
       "      <td>Mi Notebook Horizon Edition 14 Intel Core i5-1...</td>\n",
       "      <td></td>\n",
       "      <td>51,999</td>\n",
       "    </tr>\n",
       "    <tr>\n",
       "      <th>7</th>\n",
       "      <td>(Renewed) Dell Latitude E5570 15-inch Laptop (...</td>\n",
       "      <td></td>\n",
       "      <td>63,499</td>\n",
       "    </tr>\n",
       "    <tr>\n",
       "      <th>8</th>\n",
       "      <td>Lenovo Yoga S740 Intel Core i7 10th Gen 14 inc...</td>\n",
       "      <td></td>\n",
       "      <td>97,700</td>\n",
       "    </tr>\n",
       "    <tr>\n",
       "      <th>9</th>\n",
       "      <td>(Renewed) ASUS ROG Strix G G531GT-AL018T 15.6\"...</td>\n",
       "      <td></td>\n",
       "      <td>69,990</td>\n",
       "    </tr>\n",
       "  </tbody>\n",
       "</table>\n",
       "</div>"
      ],
      "text/plain": [
       "                                               Title Rating   Price\n",
       "0  Mi Notebook Horizon Edition 14 Intel Core i7-1...         57,999\n",
       "1  (Renewed) HP Probook Laptop 430G3 Intel Core i...         60,990\n",
       "2  (Renewed) Dell Latitude E7470 14-inch Laptop (...         55,299\n",
       "3  (Renewed) Dell Latitude E7470 14-inch Laptop (...         52,699\n",
       "4  (Renewed) Dell Latitude E7470 14-inch Laptop (...         54,399\n",
       "5  (Renewed) Dell Latitude E6420 14 Inch Laptop (...         45,000\n",
       "6  Mi Notebook Horizon Edition 14 Intel Core i5-1...         51,999\n",
       "7  (Renewed) Dell Latitude E5570 15-inch Laptop (...         63,499\n",
       "8  Lenovo Yoga S740 Intel Core i7 10th Gen 14 inc...         97,700\n",
       "9  (Renewed) ASUS ROG Strix G G531GT-AL018T 15.6\"...         69,990"
      ]
     },
     "execution_count": 31,
     "metadata": {},
     "output_type": "execute_result"
    }
   ],
   "source": [
    "df"
   ]
  },
  {
   "cell_type": "code",
   "execution_count": null,
   "metadata": {},
   "outputs": [],
   "source": []
  },
  {
   "cell_type": "code",
   "execution_count": null,
   "metadata": {},
   "outputs": [],
   "source": []
  }
 ],
 "metadata": {
  "kernelspec": {
   "display_name": "Python 3",
   "language": "python",
   "name": "python3"
  },
  "language_info": {
   "codemirror_mode": {
    "name": "ipython",
    "version": 3
   },
   "file_extension": ".py",
   "mimetype": "text/x-python",
   "name": "python",
   "nbconvert_exporter": "python",
   "pygments_lexer": "ipython3",
   "version": "3.8.5"
  }
 },
 "nbformat": 4,
 "nbformat_minor": 4
}
