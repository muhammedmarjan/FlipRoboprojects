{
 "cells": [
  {
   "cell_type": "code",
   "execution_count": 1,
   "metadata": {},
   "outputs": [],
   "source": [
    "import selenium\n",
    "import pandas as pd\n",
    "from selenium import webdriver\n",
    "import time\n",
    "from selenium.common.exceptions import StaleElementReferenceException,NoSuchElementException,ElementNotInteractableException"
   ]
  },
  {
   "cell_type": "code",
   "execution_count": 2,
   "metadata": {},
   "outputs": [],
   "source": [
    "driver=webdriver.Chrome(r'C:\\Users\\MARJAN\\Desktop\\chromedriver.exe')"
   ]
  },
  {
   "cell_type": "code",
   "execution_count": 3,
   "metadata": {},
   "outputs": [],
   "source": [
    "url=\"https://timesofindia.indiatimes.com/archive/year-2019,month-11.cms\""
   ]
  },
  {
   "cell_type": "code",
   "execution_count": 4,
   "metadata": {},
   "outputs": [],
   "source": [
    "driver.get(url)"
   ]
  },
  {
   "cell_type": "code",
   "execution_count": 14,
   "metadata": {},
   "outputs": [],
   "source": []
  },
  {
   "cell_type": "code",
   "execution_count": 17,
   "metadata": {},
   "outputs": [],
   "source": [
    "urls=driver.find_elements_by_xpath(\"//*[@id='calender']/tbody/tr/td/a\")\n",
    "UR=[]\n",
    "for i in urls:\n",
    "    UR.append(i.get_attribute('href'))"
   ]
  },
  {
   "cell_type": "code",
   "execution_count": 18,
   "metadata": {},
   "outputs": [
    {
     "data": {
      "text/plain": [
       "['https://timesofindia.indiatimes.com/2019/11/1/archivelist/year-2019,month-11,starttime-43770.cms',\n",
       " 'https://timesofindia.indiatimes.com/2019/11/1/archivelist/year-2019,month-11,starttime-43770.cms',\n",
       " 'https://timesofindia.indiatimes.com/2019/11/1/archivelist/year-2019,month-11,starttime-43770.cms',\n",
       " 'https://timesofindia.indiatimes.com/2019/11/1/archivelist/year-2019,month-11,starttime-43770.cms',\n",
       " 'https://timesofindia.indiatimes.com/2019/11/1/archivelist/year-2019,month-11,starttime-43770.cms',\n",
       " 'https://timesofindia.indiatimes.com/2019/11/1/archivelist/year-2019,month-11,starttime-43770.cms',\n",
       " 'https://timesofindia.indiatimes.com/2019/11/2/archivelist/year-2019,month-11,starttime-43771.cms',\n",
       " 'https://timesofindia.indiatimes.com/2019/11/3/archivelist/year-2019,month-11,starttime-43772.cms',\n",
       " 'https://timesofindia.indiatimes.com/2019/11/4/archivelist/year-2019,month-11,starttime-43773.cms',\n",
       " 'https://timesofindia.indiatimes.com/2019/11/5/archivelist/year-2019,month-11,starttime-43774.cms',\n",
       " 'https://timesofindia.indiatimes.com/2019/11/6/archivelist/year-2019,month-11,starttime-43775.cms',\n",
       " 'https://timesofindia.indiatimes.com/2019/11/7/archivelist/year-2019,month-11,starttime-43776.cms',\n",
       " 'https://timesofindia.indiatimes.com/2019/11/8/archivelist/year-2019,month-11,starttime-43777.cms',\n",
       " 'https://timesofindia.indiatimes.com/2019/11/9/archivelist/year-2019,month-11,starttime-43778.cms',\n",
       " 'https://timesofindia.indiatimes.com/2019/11/10/archivelist/year-2019,month-11,starttime-43779.cms',\n",
       " 'https://timesofindia.indiatimes.com/2019/11/11/archivelist/year-2019,month-11,starttime-43780.cms',\n",
       " 'https://timesofindia.indiatimes.com/2019/11/12/archivelist/year-2019,month-11,starttime-43781.cms',\n",
       " 'https://timesofindia.indiatimes.com/2019/11/13/archivelist/year-2019,month-11,starttime-43782.cms',\n",
       " 'https://timesofindia.indiatimes.com/2019/11/14/archivelist/year-2019,month-11,starttime-43783.cms',\n",
       " 'https://timesofindia.indiatimes.com/2019/11/15/archivelist/year-2019,month-11,starttime-43784.cms',\n",
       " 'https://timesofindia.indiatimes.com/2019/11/16/archivelist/year-2019,month-11,starttime-43785.cms',\n",
       " 'https://timesofindia.indiatimes.com/2019/11/17/archivelist/year-2019,month-11,starttime-43786.cms',\n",
       " 'https://timesofindia.indiatimes.com/2019/11/18/archivelist/year-2019,month-11,starttime-43787.cms',\n",
       " 'https://timesofindia.indiatimes.com/2019/11/19/archivelist/year-2019,month-11,starttime-43788.cms',\n",
       " 'https://timesofindia.indiatimes.com/2019/11/20/archivelist/year-2019,month-11,starttime-43789.cms',\n",
       " 'https://timesofindia.indiatimes.com/2019/11/21/archivelist/year-2019,month-11,starttime-43790.cms',\n",
       " 'https://timesofindia.indiatimes.com/2019/11/22/archivelist/year-2019,month-11,starttime-43791.cms',\n",
       " 'https://timesofindia.indiatimes.com/2019/11/23/archivelist/year-2019,month-11,starttime-43792.cms',\n",
       " 'https://timesofindia.indiatimes.com/2019/11/24/archivelist/year-2019,month-11,starttime-43793.cms',\n",
       " 'https://timesofindia.indiatimes.com/2019/11/25/archivelist/year-2019,month-11,starttime-43794.cms',\n",
       " 'https://timesofindia.indiatimes.com/2019/11/26/archivelist/year-2019,month-11,starttime-43795.cms',\n",
       " 'https://timesofindia.indiatimes.com/2019/11/27/archivelist/year-2019,month-11,starttime-43796.cms',\n",
       " 'https://timesofindia.indiatimes.com/2019/11/28/archivelist/year-2019,month-11,starttime-43797.cms',\n",
       " 'https://timesofindia.indiatimes.com/2019/11/29/archivelist/year-2019,month-11,starttime-43798.cms',\n",
       " 'https://timesofindia.indiatimes.com/2019/11/30/archivelist/year-2019,month-11,starttime-43799.cms']"
      ]
     },
     "execution_count": 18,
     "metadata": {},
     "output_type": "execute_result"
    }
   ],
   "source": [
    "UR"
   ]
  },
  {
   "cell_type": "code",
   "execution_count": null,
   "metadata": {},
   "outputs": [],
   "source": []
  },
  {
   "cell_type": "code",
   "execution_count": 29,
   "metadata": {},
   "outputs": [],
   "source": [
    "Date=[]\n",
    "Author=[]\n",
    "Vertical=[]\n",
    "Headline=[]\n",
    "Description=[]\n",
    "\n",
    "for u in UR:\n",
    "    driver.get(u)\n",
    "    try:                  #exception handling for nosuchelementexception\\n\",\n",
    "        head=driver.find_element_by_xpath(\"//table[@class='cnt']/tbody/tr[2]/td[1]/div[3]/table/tbody/tr[2]/td[1]/span/a\")\n",
    "        head.click()                                                      \n",
    "        heading=driver.find_element_by_xpath(\"//h1[@class='_23498']\")\n",
    "        Headline.append(heading.text)\n",
    "    except NoSuchElementException   as e:\n",
    "        Headline.append(\"null\")\n",
    "   \n",
    "         "
   ]
  },
  {
   "cell_type": "code",
   "execution_count": 31,
   "metadata": {},
   "outputs": [],
   "source": [
    "Author=[]\n",
    "for u in UR:\n",
    "    driver.get(u) \n",
    "    try:                  #exception handling for nosuchelementexception\\n\",\n",
    "        head=driver.find_element_by_xpath(\"//table[@class='cnt']/tbody/tr[2]/td[1]/div[3]/table/tbody/tr[2]/td[1]/span/a\")\n",
    "        head.click()                                                      \n",
    "        aut=driver.find_element_by_xpath(\"//a[@class='auth_detail']\")\n",
    "        Author.append(aut.text)\n",
    "    except NoSuchElementException   as e:\n",
    "        Author.append(\"null\")"
   ]
  },
  {
   "cell_type": "code",
   "execution_count": 32,
   "metadata": {},
   "outputs": [
    {
     "data": {
      "text/plain": [
       "['null',\n",
       " 'null',\n",
       " 'null',\n",
       " 'null',\n",
       " 'null',\n",
       " 'null',\n",
       " 'Sandra Marina Fernandes',\n",
       " 'Nona Walia',\n",
       " 'Prathibha Joy',\n",
       " 'null',\n",
       " 'null',\n",
       " 'Tanvi PS',\n",
       " 'Joyeeta Chakravorty',\n",
       " 'Prathibha Joy',\n",
       " 'null',\n",
       " 'null',\n",
       " 'Purnima Sah',\n",
       " 'null',\n",
       " 'V Lakshmi',\n",
       " 'Prathibha Joy',\n",
       " 'null',\n",
       " 'Tanvi PS',\n",
       " 'null',\n",
       " 'null',\n",
       " 'Thinkal Menon',\n",
       " 'Tanvi PS',\n",
       " 'null',\n",
       " 'null',\n",
       " 'Joyeeta Chakravorty',\n",
       " 'Sandra Marina Fernandes',\n",
       " 'null',\n",
       " 'null',\n",
       " 'Sruthi Raman',\n",
       " 'null',\n",
       " 'Anjana George']"
      ]
     },
     "execution_count": 32,
     "metadata": {},
     "output_type": "execute_result"
    }
   ],
   "source": [
    "Author"
   ]
  },
  {
   "cell_type": "code",
   "execution_count": 34,
   "metadata": {},
   "outputs": [],
   "source": [
    "Date=[]\n",
    "for u in UR:\n",
    "    driver.get(u)\n",
    "    try:                  #exception handling for nosuchelementexception\\n\",\n",
    "        head=driver.find_element_by_xpath(\"//table[@class='cnt']/tbody/tr[2]/td[1]/div[3]/table/tbody/tr[2]/td[1]/span/a\")\n",
    "        head.click()                                                      \n",
    "        dat=driver.find_element_by_xpath(\"//div[@class='_3GNSx']\")\n",
    "        Date.append(dat.text)\n",
    "    except NoSuchElementException   as e:\n",
    "        Date.append(\"null\")\n",
    "   "
   ]
  },
  {
   "cell_type": "code",
   "execution_count": 35,
   "metadata": {},
   "outputs": [
    {
     "data": {
      "text/plain": [
       "['THIS STORY IS FROM NOVEMBER 1, 2019',\n",
       " 'THIS STORY IS FROM NOVEMBER 1, 2019',\n",
       " 'THIS STORY IS FROM NOVEMBER 1, 2019',\n",
       " 'THIS STORY IS FROM NOVEMBER 1, 2019',\n",
       " 'THIS STORY IS FROM NOVEMBER 1, 2019',\n",
       " 'THIS STORY IS FROM NOVEMBER 1, 2019',\n",
       " 'null',\n",
       " 'null',\n",
       " 'null',\n",
       " 'null',\n",
       " 'THIS STORY IS FROM NOVEMBER 6, 2019',\n",
       " 'null',\n",
       " 'null',\n",
       " 'null',\n",
       " 'null',\n",
       " 'null',\n",
       " 'null',\n",
       " 'THIS STORY IS FROM NOVEMBER 13, 2019',\n",
       " 'null',\n",
       " 'null',\n",
       " 'THIS STORY IS FROM NOVEMBER 16, 2019',\n",
       " 'null',\n",
       " 'THIS STORY IS FROM NOVEMBER 18, 2019',\n",
       " 'THIS STORY IS FROM NOVEMBER 19, 2019',\n",
       " 'null',\n",
       " 'null',\n",
       " 'null',\n",
       " 'null',\n",
       " 'null',\n",
       " 'null',\n",
       " 'null',\n",
       " 'THIS STORY IS FROM NOVEMBER 27, 2019',\n",
       " 'null',\n",
       " 'null',\n",
       " 'null']"
      ]
     },
     "execution_count": 35,
     "metadata": {},
     "output_type": "execute_result"
    }
   ],
   "source": [
    "Date"
   ]
  },
  {
   "cell_type": "code",
   "execution_count": 36,
   "metadata": {},
   "outputs": [],
   "source": [
    "Description=[]\n",
    "for u in UR:\n",
    "    driver.get(u) \n",
    "    try:                  #exception handling for nosuchelementexception\\n\",\n",
    "        head=driver.find_element_by_xpath(\"//table[@class='cnt']/tbody/tr[2]/td[1]/div[3]/table/tbody/tr[2]/td[1]/span/a\")\n",
    "        head.click()                                                      \n",
    "        des=driver.find_element_by_xpath(\"//*[@id='app']/div/div[3]/div[2]/div[1]/div[2]/div[3]/div[2]/div/text()[1]\")\n",
    "        Description.append(des.text)\n",
    "    except NoSuchElementException   as e:\n",
    "        Description.append(\"null\")"
   ]
  },
  {
   "cell_type": "code",
   "execution_count": 37,
   "metadata": {},
   "outputs": [
    {
     "data": {
      "text/plain": [
       "['null',\n",
       " 'null',\n",
       " 'null',\n",
       " 'null',\n",
       " 'null',\n",
       " 'null',\n",
       " 'null',\n",
       " 'null',\n",
       " 'null',\n",
       " 'null',\n",
       " 'null',\n",
       " 'null',\n",
       " 'null',\n",
       " 'null',\n",
       " 'null',\n",
       " 'null',\n",
       " 'null',\n",
       " 'null',\n",
       " 'null',\n",
       " 'null',\n",
       " 'null',\n",
       " 'null',\n",
       " 'null',\n",
       " 'null',\n",
       " 'null',\n",
       " 'null',\n",
       " 'null',\n",
       " 'null',\n",
       " 'null',\n",
       " 'null',\n",
       " 'null',\n",
       " 'null',\n",
       " 'null',\n",
       " 'null',\n",
       " 'null']"
      ]
     },
     "execution_count": 37,
     "metadata": {},
     "output_type": "execute_result"
    }
   ],
   "source": [
    "Description"
   ]
  },
  {
   "cell_type": "code",
   "execution_count": null,
   "metadata": {},
   "outputs": [],
   "source": [
    "df=pd.DataFrame({\"headline\":Headline,\n",
    "                \"Date\":Date,\n",
    "                \"Author\":Author,\n",
    "                \"description\":Description})"
   ]
  },
  {
   "cell_type": "code",
   "execution_count": null,
   "metadata": {},
   "outputs": [],
   "source": []
  }
 ],
 "metadata": {
  "kernelspec": {
   "display_name": "Python 3",
   "language": "python",
   "name": "python3"
  },
  "language_info": {
   "codemirror_mode": {
    "name": "ipython",
    "version": 3
   },
   "file_extension": ".py",
   "mimetype": "text/x-python",
   "name": "python",
   "nbconvert_exporter": "python",
   "pygments_lexer": "ipython3",
   "version": "3.8.5"
  }
 },
 "nbformat": 4,
 "nbformat_minor": 4
}
